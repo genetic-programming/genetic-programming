{
 "cells": [
  {
   "cell_type": "code",
   "execution_count": 1,
   "id": "initial_id",
   "metadata": {
    "collapsed": true,
    "ExecuteTime": {
     "end_time": "2024-01-01T19:29:27.085519700Z",
     "start_time": "2024-01-01T19:29:26.898240300Z"
    }
   },
   "outputs": [],
   "source": [
    "from gp_algorithm.genetic_algorithm import GeneticAlgorithm"
   ]
  },
  {
   "cell_type": "markdown",
   "source": [
    "1.1.A Program powinien wygenerować na wyjściu (na dowolnej pozycji w danych wyjściowych) liczbę 1. Poza liczbą 1 może też zwrócić inne liczby."
   ],
   "metadata": {
    "collapsed": false
   },
   "id": "d2d755544da5d1be"
  },
  {
   "cell_type": "code",
   "execution_count": null,
   "outputs": [],
   "source": [
    "def fitness(outputs: list[list[str]]) -> float:\n",
    "    output = outputs[0]\n",
    "    if not output:\n",
    "        return 2.\n",
    "\n",
    "    if \"1\" in output:\n",
    "        return 0.\n",
    "    else:\n",
    "        return 1.\n",
    "\n",
    "\n",
    "gp = GeneticAlgorithm(\n",
    "    fitness_function=fitness,\n",
    "    error_threshold=1,\n",
    "    population_size=1000,\n",
    "    initial_individual_size=1,\n",
    "    max_generations=10,\n",
    ").run(verbose=False, file_name=\"test_results/1.1.A\")"
   ],
   "metadata": {
    "collapsed": false,
    "ExecuteTime": {
     "start_time": "2024-01-01T17:55:26.681817700Z"
    }
   },
   "id": "83a99698d76517b3"
  },
  {
   "cell_type": "markdown",
   "source": [
    "1.1.B Program powinien wygenerować na wyjściu (na dowolnej pozycji w danych wyjściowych) liczbę 789. Poza liczbą 789 może też zwrócić inne liczby."
   ],
   "metadata": {
    "collapsed": false
   },
   "id": "2fc6911ec97b8900"
  },
  {
   "cell_type": "code",
   "execution_count": null,
   "outputs": [],
   "source": [
    "def fitness(outputs: list[list[str]]) -> float:\n",
    "    output = outputs[0]\n",
    "    if not output:\n",
    "        return 1000.\n",
    "    \n",
    "    if \"789\" in output:\n",
    "        return 0.\n",
    "    else:\n",
    "        closest = min(output, key=lambda x: abs(int(x) - 789) if x not in [\"true\", \"false\"] else 900)\n",
    "        if closest in [\"true\", \"false\"]:\n",
    "            return 900.\n",
    "        else:\n",
    "            return abs(int(closest) - 789)\n",
    "\n",
    "GeneticAlgorithm(\n",
    "    fitness_function=fitness,\n",
    "    error_threshold=1,\n",
    "    population_size=1000,\n",
    "    initial_individual_size=1,\n",
    "    max_generations=100,\n",
    ").run(verbose=False, file_name=\"test_results/1.1.B\")"
   ],
   "metadata": {
    "collapsed": false,
    "ExecuteTime": {
     "end_time": "2024-01-01T17:55:26.684812400Z",
     "start_time": "2024-01-01T17:55:26.684812400Z"
    }
   },
   "id": "6eef26361096c99"
  },
  {
   "cell_type": "markdown",
   "source": [
    "1.1.C Program powinien wygenerować na wyjściu (na dowolnej pozycji w danych wyjściowych) liczbę 31415. Poza liczbą 31415 może też zwrócić inne liczby."
   ],
   "metadata": {
    "collapsed": false
   },
   "id": "81306006e7c896ef"
  },
  {
   "cell_type": "code",
   "execution_count": null,
   "outputs": [],
   "source": [
    "def fitness(outputs: list[list[str]]) -> float:\n",
    "    output = outputs[0]\n",
    "    if not output:\n",
    "        return 40000.\n",
    "    \n",
    "    if \"31415\" in output:\n",
    "        return 0.\n",
    "    else:\n",
    "        closest = min(output, key=lambda x: abs(int(x) - 31415) if x not in [\"true\", \"false\"] else 35000)\n",
    "        if closest in [\"true\", \"false\"]:\n",
    "            return 35000.\n",
    "        else:\n",
    "            return abs(int(closest) - 31415)\n",
    "\n",
    "GeneticAlgorithm(\n",
    "    fitness_function=fitness,\n",
    "    error_threshold=1,\n",
    "    population_size=1000,\n",
    "    initial_individual_size=1,\n",
    "    max_generations=100,\n",
    ").run(verbose=False, file_name=\"test_results/1.1.C\")"
   ],
   "metadata": {
    "collapsed": false,
    "ExecuteTime": {
     "start_time": "2024-01-01T17:55:26.686909700Z"
    }
   },
   "id": "64a46c8921aae626"
  },
  {
   "cell_type": "markdown",
   "source": [
    "1.1.D Program powinien wygenerować na pierwszej pozycji na wyjściu liczbę 1. Poza liczbą 1 może też zwrócić inne liczby."
   ],
   "metadata": {
    "collapsed": false
   },
   "id": "dc9daf1511470fe9"
  },
  {
   "cell_type": "code",
   "execution_count": null,
   "outputs": [],
   "source": [
    "def fitness(outputs: list[list[str]]) -> float:\n",
    "    output = outputs[0]\n",
    "    if not output:\n",
    "        return 2.\n",
    "\n",
    "    if \"1\" == output[0]:\n",
    "        return 0.\n",
    "    else:\n",
    "        return 1.\n",
    "\n",
    "\n",
    "GeneticAlgorithm(\n",
    "    fitness_function=fitness,\n",
    "    error_threshold=1,\n",
    "    population_size=1000,\n",
    "    initial_individual_size=1,\n",
    "    max_generations=100,\n",
    ").run(verbose=False, file_name=\"test_results/1.1.D\")"
   ],
   "metadata": {
    "collapsed": false,
    "ExecuteTime": {
     "start_time": "2024-01-01T17:55:26.690913700Z"
    }
   },
   "id": "7a8db09687da409f"
  },
  {
   "cell_type": "markdown",
   "source": [
    "1.1.E Program powinien wygenerować na pierwszej pozycji na wyjściu liczbę 789. Poza liczbą 789 może też zwrócić inne liczby."
   ],
   "metadata": {
    "collapsed": false
   },
   "id": "3cefde929c61d00e"
  },
  {
   "cell_type": "code",
   "execution_count": null,
   "outputs": [],
   "source": [
    "def fitness(outputs: list[list[str]]) -> float:\n",
    "    output = outputs[0]\n",
    "    if not output:\n",
    "        return 1000.\n",
    "    \n",
    "    first_output = output[0]\n",
    "    \n",
    "    if \"789\" == first_output:\n",
    "        return 0.\n",
    "    elif first_output in [\"true\", \"false\"]:\n",
    "        return 900.\n",
    "    else:\n",
    "        return abs(int(first_output) - 789)\n",
    "\n",
    "GeneticAlgorithm(\n",
    "    fitness_function=fitness,\n",
    "    error_threshold=1,\n",
    "    population_size=1000,\n",
    "    initial_individual_size=1,\n",
    "    max_generations=100,\n",
    ").run(verbose=False, file_name=\"test_results/1.1.E\")"
   ],
   "metadata": {
    "collapsed": false,
    "ExecuteTime": {
     "end_time": "2024-01-01T17:55:26.699912100Z",
     "start_time": "2024-01-01T17:55:26.693946Z"
    }
   },
   "id": "256537318b9d33ad"
  },
  {
   "cell_type": "markdown",
   "source": [
    "1.1.F Program powinien wygenerować na wyjściu liczbę jako jedyną liczbę 1. Poza liczbą 1 NIE powinien nic więcej wygenerować."
   ],
   "metadata": {
    "collapsed": false
   },
   "id": "f56dbc1723aca9e6"
  },
  {
   "cell_type": "code",
   "execution_count": null,
   "outputs": [],
   "source": [
    "def fitness(outputs: list[list[str]]) -> float:\n",
    "    output = outputs[0]\n",
    "    if not output or len(output) > 1:\n",
    "        return 2. \n",
    "    \n",
    "    if \"1\" == output[0]:\n",
    "        return 0\n",
    "    else:\n",
    "        return 1\n",
    "\n",
    "GeneticAlgorithm(\n",
    "    fitness_function=fitness,\n",
    "    error_threshold=1,\n",
    "    population_size=1000,\n",
    "    initial_individual_size=1,\n",
    "    max_generations=100,\n",
    ").run(verbose=False, file_name=\"test_results/1.1.F\")"
   ],
   "metadata": {
    "collapsed": false,
    "ExecuteTime": {
     "start_time": "2024-01-01T17:55:26.695945100Z"
    }
   },
   "id": "9ad697838b9adc8e"
  },
  {
   "cell_type": "markdown",
   "source": [
    "1.2.A Program powinien odczytać dwie pierwsze liczy z wejścia i zwrócić na wyjściu (jedynie) ich sumę. Na wejściu mogą być tylko całkowite liczby dodatnie w zakresie [0,9]"
   ],
   "metadata": {
    "collapsed": false
   },
   "id": "9247c2ba0e5f0371"
  },
  {
   "cell_type": "code",
   "execution_count": 5,
   "outputs": [
    {
     "name": "stdout",
     "output_type": "stream",
     "text": [
      "Generation: 0, best fitness: 15.0\n",
      "=========================\n",
      "Best individual: print - -6; v0 = - (false) / 35; v0 = v0;\n",
      "\n",
      "=========================\n",
      "Generation: 1, best fitness: 15.0\n",
      "=========================\n",
      "Best individual: print - -6; print v0; v0 = v0; while (15 and - (50)) {}\n",
      "\n",
      "=========================\n",
      "Generation: 2, best fitness: 15.0\n",
      "=========================\n",
      "Best individual: print - -6; v0 = - (false) / (-56); v0 = v0; v0 = not true; v0 = v0;\n",
      "\n",
      "=========================\n",
      "Generation: 3, best fitness: 15.0\n",
      "=========================\n",
      "Best individual: print - -6; v0 = - (false) / 35; if false {} else {} v0 = not true; v0 = 100;\n",
      "\n",
      "=========================\n",
      "Generation: 4, best fitness: 15.0\n",
      "=========================\n",
      "Best individual: print - -6; v0 = - (false) / v0; if false {print false;} else {v0 = false;} v0 = not true; print - -5;\n",
      "\n",
      "=========================\n",
      "Generation: 5, best fitness: 15.0\n",
      "=========================\n",
      "Best individual: print - -6; v0 = true / v0; v0 = v0 / true; v0 = not true; print v0; v0 = (not (v0)); while v0 {}\n",
      "\n",
      "=========================\n",
      "Generation: 6, best fitness: 15.0\n",
      "=========================\n",
      "Best individual: print - -6; v0 = - (-6) / 35; read v0; v0 = not true; v0 = v0; v0 = 97;\n",
      "\n",
      "=========================\n",
      "Generation: 7, best fitness: 15.0\n",
      "=========================\n",
      "Best individual: print - -6; v0 = - (false) / 1; v0 = v0; if v0 - v0 {} else {} if v0 {} else {} read v0;\n",
      "\n",
      "=========================\n",
      "Generation: 8, best fitness: 15.0\n",
      "=========================\n",
      "Best individual: print - -6; v0 = - (false) != 35; if -95 or - ((v0)) {v0 = v0;} else {v0 = 4;} v0 = not -6; v0 = -31; v0 = not (v0 and v0) and not 83;\n",
      "\n",
      "=========================\n",
      "Generation: 9, best fitness: 15.0\n",
      "=========================\n",
      "Best individual: print - -6; v0 = - (- -6) / v0; v0 = -60; while not v0 {} if v0 - (v0) == 7 {} else {print not (39);} print ((v0));\n",
      "\n",
      "=========================\n",
      "Generation: 10, best fitness: 15.0\n",
      "=========================\n",
      "Best individual: print - -6; v0 = - ((-71) - v0) / (-56); v0 = 21; v0 = 4; v0 = v0; if true {v0 = v0;} else {} if false {} else {}\n",
      "\n",
      "=========================\n",
      "Generation: 11, best fitness: 15.0\n",
      "=========================\n",
      "Best individual: print - -6; while v0 {} v0 = v0; v0 = not true; v0 = v0; print v0; read v0;\n",
      "\n",
      "=========================\n",
      "Generation: 12, best fitness: 15.0\n",
      "=========================\n",
      "Best individual: print - -6; v0 = true / v0; v0 = v0; v0 = not 35; print (false); while false {} if v0 == -27 {} else {} if true {} else {}\n",
      "\n",
      "=========================\n",
      "Generation: 13, best fitness: 15.0\n",
      "=========================\n",
      "Best individual: print - -6; v0 = - ((4) - v0 and v0) / (-56); v0 = 21; v0 = not true; v0 = v0; v0 = true and v0; print v0; v0 = not -21;\n",
      "\n",
      "=========================\n",
      "Generation: 14, best fitness: 15.0\n",
      "=========================\n",
      "Best individual: print - -6; v0 = - (false) != 35; if false {} else {if v0 {} else {read v0;}} v0 = not -6; v0 = 100; v0 = not (v0 and v0) and not 83;\n",
      "\n",
      "=========================\n",
      "Generation: 15, best fitness: 15.0\n",
      "=========================\n",
      "Best individual: print - -6; v0 = v0; v0 = v0; if 1 {} else {if v0 {if false - true {} else {}} else {v0 = (not 57);} v0 = -54 == (v0);}\n",
      "\n",
      "=========================\n",
      "Generation: 16, best fitness: 15.0\n",
      "=========================\n",
      "Best individual: print - -6; v0 = - (false) / - -6; v0 = v0; if not 15 and - (v0) {} else {while not -83 {}} while ((false)) {}\n",
      "\n",
      "=========================\n",
      "Generation: 17, best fitness: 15.0\n",
      "=========================\n",
      "Best individual: print - -6; v0 = - v0 / (-56); v0 = 21; v0 = 4; v0 = v0; if true {} else {} if false {} else {if true {} else {} while not (v0) > (v0) {}}\n",
      "\n",
      "=========================\n",
      "Generation: 18, best fitness: 15.0\n",
      "=========================\n",
      "Best individual: print - -6; v0 = v0 != v0; v0 = not (v0) > (v0) * 64 or true and v0; v0 = not true; while 11 {v0 = v0;} v0 = 4; v0 = v0 == v0; v0 = (28); while -1 {print v0;}\n",
      "\n",
      "=========================\n",
      "Generation: 19, best fitness: 15.0\n",
      "=========================\n",
      "Best individual: print - -6; v0 = - (false) / v0; read v0; v0 = not true; v0 = -6; while v0 > (((-22))) + not not false {}\n",
      "\n",
      "=========================\n",
      "Generation: 20, best fitness: 15.0\n",
      "=========================\n",
      "Best individual: print - -6; v0 = (-54); v0 = v0; v0 = - v0; while 11 {print not v0;} while v0 {} read v0; if -73 > v0 {} else {}\n",
      "\n",
      "=========================\n",
      "Generation: 21, best fitness: 15.0\n",
      "=========================\n",
      "Best individual: print - -6; v0 = - (69) != v0; read v0; while not v0 {v0 = 100;} v0 = v0; print true;\n",
      "\n",
      "=========================\n",
      "Generation: 22, best fitness: 15.0\n",
      "=========================\n",
      "Best individual: print - -6; v0 = v0; while -11 / not (v0) {v0 = 62; read v0; v0 = (74) and true == 73;} while not v0 {read v0;} read v0;\n",
      "\n",
      "=========================\n",
      "Generation: 23, best fitness: 15.0\n",
      "=========================\n",
      "Best individual: print - -6; v0 = (v0); read v0; if -24 - v0 {v0 = v0; v0 = (v0);} else {v0 = (v0);} read v0; v0 = not 1 > 100 * 64 or v0; while v0 > v0 - v0 {if v0 {} else {}} read v0;\n",
      "\n",
      "=========================\n",
      "Generation: 24, best fitness: 15.0\n",
      "=========================\n",
      "Best individual: print - -6; print v0; v0 = v0; while (not v0 and - (50)) {read v0; while -66 {} v0 = v0; read v0;} if false {} else {}\n",
      "\n",
      "=========================\n",
      "Generation: 25, best fitness: 15.0\n",
      "=========================\n",
      "Best individual: print - -6; v0 = - v0 != 35; v0 = v0; while (24 + - (50)) {read v0; while (v0) {} print false and v0 / (true);} v0 = 42; v0 = 12;\n",
      "\n",
      "=========================\n",
      "Generation: 26, best fitness: 15.0\n",
      "=========================\n",
      "Best individual: print - -6; v0 = - (((not false))) / 35; v0 = v0; v0 = -28; v0 = -12;\n",
      "\n",
      "=========================\n",
      "Generation: 27, best fitness: 15.0\n",
      "=========================\n",
      "Best individual: print - -6; v0 = v0 / true; if v0 {if v0 {} else {} print (-54); v0 = (true);} else {read v0;} v0 = not false; v0 = -45 != false; while v0 {if v0 {print 39;} else {} if v0 / v0 {} else {}}\n",
      "\n",
      "=========================\n",
      "Generation: 28, best fitness: 15.0\n",
      "=========================\n",
      "Best individual: print - -6; v0 = v0; if v0 {} else {} if v0 {} else {if v0 {} else {} if (-80) {print - v0 * - (v0);} else {}} while -2 {read v0; v0 = (v0); print (v0); while 88 {if 84 {} else {}}} print 30;\n",
      "\n",
      "=========================\n",
      "Generation: 29, best fitness: 15.0\n",
      "=========================\n",
      "Best individual: print - -6; v0 = v0; v0 = -24; if ((v0)) {if (v0) {} else {while v0 {}}} else {print ((v0) or v0 + v0 and (v0) * ((v0)));} v0 = true; print -66; print v0; if 93 {if 83 {} else {}} else {while (14 != true) {if v0 {} else {}}} read v0;\n",
      "\n",
      "=========================\n",
      "Generation: 30, best fitness: 15.0\n",
      "=========================\n",
      "Best individual: print - -6; v0 = (-54); v0 = v0; v0 = not - (76) / v0; while 99 {while v0 {} read v0;} v0 = (false); read v0;\n",
      "\n",
      "=========================\n",
      "Generation: 31, best fitness: 15.0\n",
      "=========================\n",
      "Best individual: print - -6; v0 = v0; v0 = -6; while 40 {} while -2 {read v0; if (62) and -56 {v0 = 82;} else {} print (v0); read v0; if (true) {} else {}} print 30;\n",
      "\n",
      "=========================\n",
      "Generation: 32, best fitness: 15.0\n",
      "=========================\n",
      "Best individual: print - -6; read v0; v0 = v0; if - 60 {} else {v0 = (-65 or v0);} v0 = v0 + ((v0)); if - - 50 {if v0 {print (15 and - (32)) - (- v0);} else {if v0 {} else {}}} else {read v0; print v0; read v0;} print v0 - v0 or v0; v0 = -23;\n",
      "\n",
      "=========================\n",
      "Generation: 33, best fitness: 15.0\n",
      "=========================\n",
      "Best individual: print - -6; v0 = true / v0; v0 = 25; v0 = not true; print (-29); v0 = (not (v0)); if v0 {read v0;} else {print v0; read v0;} read v0;\n",
      "\n",
      "=========================\n",
      "Generation: 34, best fitness: 15.0\n",
      "=========================\n",
      "Best individual: print - -6; print v0; print - -6; while (65 and - (32)) {print (9); print false / v0; while (false - v0) {v0 = v0 * ((- (v0) and -77)) != v0 == ((-62)) != - (-33) / (v0) * v0; v0 = v0; v0 = 40;} read v0;} read v0; while not 1 {}\n",
      "\n",
      "=========================\n",
      "Generation: 35, best fitness: 15.0\n",
      "=========================\n",
      "Best individual: print - -6; v0 = - (false) != 35; v0 = v0; while (24 + 32) {read v0; while (v0) {} print false and v0 / (v0);} v0 = (- v0);\n",
      "\n",
      "=========================\n",
      "Generation: 36, best fitness: 15.0\n",
      "=========================\n",
      "Best individual: print - -6; v0 = (-54); v0 = v0; v0 = not - (76) / v0; while 99 {while v0 {} read v0; v0 = - true == (-93);} v0 = 93; if (v0 and -72) {} else {}\n",
      "\n",
      "=========================\n",
      "Generation: 37, best fitness: 15.0\n",
      "=========================\n",
      "Best individual: print - -6; v0 = - (false) / (-56); v0 = 21; v0 = 4; v0 = v0; if true {} else {read v0; if (v0) {} else {v0 = 14 + not ((v0));}} if false {} else {}\n",
      "\n",
      "=========================\n",
      "Generation: 38, best fitness: 15.0\n",
      "=========================\n",
      "Best individual: print - -6; v0 = true != 35; v0 = v0; while (v0 * v0) {if ((not v0)) {} else {} if v0 {} else {}} v0 = false; v0 = 12;\n",
      "\n",
      "=========================\n",
      "Generation: 39, best fitness: 15.0\n",
      "=========================\n",
      "Best individual: print - -6; v0 = v0; v0 = v0; if false {read v0;} else {if v0 {} else {v0 = v0 or v0 - true;}}\n",
      "\n",
      "=========================\n",
      "Generation: 40, best fitness: 15.0\n",
      "=========================\n",
      "Best individual: print - -6; while not v0 {print v0 != v0; while ((v0)) {}} read v0; while not -6 {v0 = v0;} v0 = not (v0) and 75; if true {read v0;} else {} if -7 {} else {}\n",
      "\n",
      "=========================\n",
      "Generation: 41, best fitness: 15.0\n",
      "=========================\n",
      "Best individual: print - -6; v0 = v0; read v0; if -60 - v0 {v0 = (((true)));} else {v0 = v0; read v0; while (true) {} read v0;} read v0; v0 = - (v0) and (v0) * 64 or (v0 + 57); v0 = false;\n",
      "\n",
      "=========================\n",
      "Generation: 42, best fitness: 15.0\n",
      "=========================\n",
      "Best individual: print - -6; v0 = (v0); read v0; if false {v0 = -38; if v0 {} else {print v0 + ((v0));}} else {v0 = v0; read v0; while v0 {read v0;} v0 = true;} read v0; v0 = not (v0) > (v0) > 64 or (v0 or v0); if not v0 {} else {print v0;}\n",
      "\n",
      "=========================\n",
      "Generation: 43, best fitness: 15.0\n",
      "=========================\n",
      "Best individual: print - -6; v0 = (v0); read v0; if 41 - v0 {print v0; read v0;} else {if v0 {} else {}} v0 = false; v0 = not (v0) > true * 64 or v0; if 6 {read v0;} else {} v0 = -6;\n",
      "\n",
      "=========================\n"
     ]
    },
    {
     "ename": "KeyboardInterrupt",
     "evalue": "",
     "output_type": "error",
     "traceback": [
      "\u001B[1;31m---------------------------------------------------------------------------\u001B[0m",
      "\u001B[1;31mKeyboardInterrupt\u001B[0m                         Traceback (most recent call last)",
      "Cell \u001B[1;32mIn[5], line 32\u001B[0m\n\u001B[0;32m     21\u001B[0m         total_error \u001B[38;5;241m+\u001B[39m\u001B[38;5;241m=\u001B[39m \u001B[38;5;28mabs\u001B[39m(result \u001B[38;5;241m-\u001B[39m expected_result)\n\u001B[0;32m     23\u001B[0m     \u001B[38;5;28;01mreturn\u001B[39;00m total_error\n\u001B[0;32m     26\u001B[0m \u001B[43mGeneticAlgorithm\u001B[49m\u001B[43m(\u001B[49m\n\u001B[0;32m     27\u001B[0m \u001B[43m    \u001B[49m\u001B[43mfitness_function\u001B[49m\u001B[38;5;241;43m=\u001B[39;49m\u001B[43mfitness\u001B[49m\u001B[43m,\u001B[49m\n\u001B[0;32m     28\u001B[0m \u001B[43m    \u001B[49m\u001B[43merror_threshold\u001B[49m\u001B[38;5;241;43m=\u001B[39;49m\u001B[38;5;241;43m1\u001B[39;49m\u001B[43m,\u001B[49m\n\u001B[0;32m     29\u001B[0m \u001B[43m    \u001B[49m\u001B[43mpopulation_size\u001B[49m\u001B[38;5;241;43m=\u001B[39;49m\u001B[38;5;241;43m1000\u001B[39;49m\u001B[43m,\u001B[49m\n\u001B[0;32m     30\u001B[0m \u001B[43m    \u001B[49m\u001B[43minitial_individual_size\u001B[49m\u001B[38;5;241;43m=\u001B[39;49m\u001B[38;5;241;43m3\u001B[39;49m\u001B[43m,\u001B[49m\n\u001B[0;32m     31\u001B[0m \u001B[43m    \u001B[49m\u001B[43mmax_generations\u001B[49m\u001B[38;5;241;43m=\u001B[39;49m\u001B[38;5;241;43m100\u001B[39;49m\u001B[43m,\u001B[49m\n\u001B[1;32m---> 32\u001B[0m \u001B[43m)\u001B[49m\u001B[38;5;241;43m.\u001B[39;49m\u001B[43mrun\u001B[49m\u001B[43m(\u001B[49m\u001B[43minputs\u001B[49m\u001B[43m \u001B[49m\u001B[38;5;241;43m=\u001B[39;49m\u001B[43m \u001B[49m\u001B[43minputs\u001B[49m\u001B[43m,\u001B[49m\u001B[43m \u001B[49m\u001B[43mverbose\u001B[49m\u001B[38;5;241;43m=\u001B[39;49m\u001B[38;5;28;43;01mTrue\u001B[39;49;00m\u001B[43m,\u001B[49m\u001B[43m \u001B[49m\u001B[43mfile_name\u001B[49m\u001B[38;5;241;43m=\u001B[39;49m\u001B[38;5;124;43m\"\u001B[39;49m\u001B[38;5;124;43mtest_results/1.2.A\u001B[39;49m\u001B[38;5;124;43m\"\u001B[39;49m\u001B[43m)\u001B[49m\n",
      "File \u001B[1;32m~\\Documents\\Studia\\5 sem\\Programowanie genetyczne\\genetic-programming\\src\\gp_algorithm\\genetic_algorithm.py:52\u001B[0m, in \u001B[0;36mGeneticAlgorithm.run\u001B[1;34m(self, inputs, verbose, file_name)\u001B[0m\n\u001B[0;32m     49\u001B[0m         \u001B[38;5;28mself\u001B[39m\u001B[38;5;241m.\u001B[39msave_results(best_individual, generation_number, file_name)\n\u001B[0;32m     50\u001B[0m         \u001B[38;5;28;01mreturn\u001B[39;00m best_individual\n\u001B[1;32m---> 52\u001B[0m     \u001B[38;5;28;43mself\u001B[39;49m\u001B[38;5;241;43m.\u001B[39;49m\u001B[43mevolve\u001B[49m\u001B[43m(\u001B[49m\u001B[43mprogram_inputs\u001B[49m\u001B[38;5;241;43m=\u001B[39;49m\u001B[43mprogram_inputs\u001B[49m\u001B[43m)\u001B[49m\n\u001B[0;32m     54\u001B[0m \u001B[38;5;28mprint\u001B[39m(\u001B[38;5;124m\"\u001B[39m\u001B[38;5;124mPROBLEM NOT SOLVED\u001B[39m\u001B[38;5;124m\"\u001B[39m)\n\u001B[0;32m     55\u001B[0m \u001B[38;5;28mself\u001B[39m\u001B[38;5;241m.\u001B[39mprint_results(best_individual)\n",
      "File \u001B[1;32m~\\Documents\\Studia\\5 sem\\Programowanie genetyczne\\genetic-programming\\src\\gp_algorithm\\genetic_algorithm.py:102\u001B[0m, in \u001B[0;36mGeneticAlgorithm.evolve\u001B[1;34m(self, program_inputs)\u001B[0m\n\u001B[0;32m    100\u001B[0m worst_2_index \u001B[38;5;241m=\u001B[39m \u001B[38;5;28mself\u001B[39m\u001B[38;5;241m.\u001B[39mpopulation\u001B[38;5;241m.\u001B[39mindex(worst_individual_2)\n\u001B[0;32m    101\u001B[0m parents: \u001B[38;5;28mlist\u001B[39m[IndividualWithFitness] \u001B[38;5;241m=\u001B[39m random\u001B[38;5;241m.\u001B[39msample(best_individuals, \u001B[38;5;241m2\u001B[39m)\n\u001B[1;32m--> 102\u001B[0m child_1, child_2 \u001B[38;5;241m=\u001B[39m \u001B[43mrandom_crossover\u001B[49m\u001B[43m(\u001B[49m\n\u001B[0;32m    103\u001B[0m \u001B[43m    \u001B[49m\u001B[43mparents\u001B[49m\u001B[43m[\u001B[49m\u001B[38;5;241;43m0\u001B[39;49m\u001B[43m]\u001B[49m\u001B[38;5;241;43m.\u001B[39;49m\u001B[43mindividual\u001B[49m\u001B[43m,\u001B[49m\n\u001B[0;32m    104\u001B[0m \u001B[43m    \u001B[49m\u001B[43mparents\u001B[49m\u001B[43m[\u001B[49m\u001B[38;5;241;43m1\u001B[39;49m\u001B[43m]\u001B[49m\u001B[38;5;241;43m.\u001B[39;49m\u001B[43mindividual\u001B[49m\u001B[43m,\u001B[49m\n\u001B[0;32m    105\u001B[0m \u001B[43m\u001B[49m\u001B[43m)\u001B[49m\n\u001B[0;32m    106\u001B[0m \u001B[38;5;28;01mfor\u001B[39;00m child, index \u001B[38;5;129;01min\u001B[39;00m [(child_1, worst_1_index), (child_2, worst_2_index)]:\n\u001B[0;32m    107\u001B[0m     child\u001B[38;5;241m.\u001B[39mgrow()\n",
      "File \u001B[1;32m~\\Documents\\Studia\\5 sem\\Programowanie genetyczne\\genetic-programming\\src\\gp_algorithm\\utils.py:44\u001B[0m, in \u001B[0;36mrandom_crossover\u001B[1;34m(individual_1, individual_2)\u001B[0m\n\u001B[0;32m     42\u001B[0m \u001B[38;5;28;01mdef\u001B[39;00m \u001B[38;5;21mrandom_crossover\u001B[39m(individual_1: Individual, individual_2: Individual) \u001B[38;5;241m-\u001B[39m\u001B[38;5;241m>\u001B[39m \u001B[38;5;28mtuple\u001B[39m[Individual, Individual]:\n\u001B[0;32m     43\u001B[0m     individual_1_copy \u001B[38;5;241m=\u001B[39m deepcopy(individual_1)\n\u001B[1;32m---> 44\u001B[0m     individual_2_copy \u001B[38;5;241m=\u001B[39m \u001B[43mdeepcopy\u001B[49m\u001B[43m(\u001B[49m\u001B[43mindividual_2\u001B[49m\u001B[43m)\u001B[49m\n\u001B[0;32m     46\u001B[0m     random_node: LanguageNode \u001B[38;5;241m=\u001B[39m random\u001B[38;5;241m.\u001B[39mchoice(\u001B[38;5;28mlist\u001B[39m(individual_1_copy\u001B[38;5;241m.\u001B[39mdescendants)[\u001B[38;5;241m1\u001B[39m:])\n\u001B[0;32m     47\u001B[0m     allowed_swaps \u001B[38;5;241m=\u001B[39m TREE_CONFIG[random_node\u001B[38;5;241m.\u001B[39mnode_type]\u001B[38;5;241m.\u001B[39mallowed_swaps\n",
      "File \u001B[1;32mC:\\Python311\\Lib\\copy.py:172\u001B[0m, in \u001B[0;36mdeepcopy\u001B[1;34m(x, memo, _nil)\u001B[0m\n\u001B[0;32m    170\u001B[0m                 y \u001B[38;5;241m=\u001B[39m x\n\u001B[0;32m    171\u001B[0m             \u001B[38;5;28;01melse\u001B[39;00m:\n\u001B[1;32m--> 172\u001B[0m                 y \u001B[38;5;241m=\u001B[39m \u001B[43m_reconstruct\u001B[49m\u001B[43m(\u001B[49m\u001B[43mx\u001B[49m\u001B[43m,\u001B[49m\u001B[43m \u001B[49m\u001B[43mmemo\u001B[49m\u001B[43m,\u001B[49m\u001B[43m \u001B[49m\u001B[38;5;241;43m*\u001B[39;49m\u001B[43mrv\u001B[49m\u001B[43m)\u001B[49m\n\u001B[0;32m    174\u001B[0m \u001B[38;5;66;03m# If is its own copy, don't memoize.\u001B[39;00m\n\u001B[0;32m    175\u001B[0m \u001B[38;5;28;01mif\u001B[39;00m y \u001B[38;5;129;01mis\u001B[39;00m \u001B[38;5;129;01mnot\u001B[39;00m x:\n",
      "File \u001B[1;32mC:\\Python311\\Lib\\copy.py:271\u001B[0m, in \u001B[0;36m_reconstruct\u001B[1;34m(x, memo, func, args, state, listiter, dictiter, deepcopy)\u001B[0m\n\u001B[0;32m    269\u001B[0m \u001B[38;5;28;01mif\u001B[39;00m state \u001B[38;5;129;01mis\u001B[39;00m \u001B[38;5;129;01mnot\u001B[39;00m \u001B[38;5;28;01mNone\u001B[39;00m:\n\u001B[0;32m    270\u001B[0m     \u001B[38;5;28;01mif\u001B[39;00m deep:\n\u001B[1;32m--> 271\u001B[0m         state \u001B[38;5;241m=\u001B[39m \u001B[43mdeepcopy\u001B[49m\u001B[43m(\u001B[49m\u001B[43mstate\u001B[49m\u001B[43m,\u001B[49m\u001B[43m \u001B[49m\u001B[43mmemo\u001B[49m\u001B[43m)\u001B[49m\n\u001B[0;32m    272\u001B[0m     \u001B[38;5;28;01mif\u001B[39;00m \u001B[38;5;28mhasattr\u001B[39m(y, \u001B[38;5;124m'\u001B[39m\u001B[38;5;124m__setstate__\u001B[39m\u001B[38;5;124m'\u001B[39m):\n\u001B[0;32m    273\u001B[0m         y\u001B[38;5;241m.\u001B[39m__setstate__(state)\n",
      "File \u001B[1;32mC:\\Python311\\Lib\\copy.py:146\u001B[0m, in \u001B[0;36mdeepcopy\u001B[1;34m(x, memo, _nil)\u001B[0m\n\u001B[0;32m    144\u001B[0m copier \u001B[38;5;241m=\u001B[39m _deepcopy_dispatch\u001B[38;5;241m.\u001B[39mget(\u001B[38;5;28mcls\u001B[39m)\n\u001B[0;32m    145\u001B[0m \u001B[38;5;28;01mif\u001B[39;00m copier \u001B[38;5;129;01mis\u001B[39;00m \u001B[38;5;129;01mnot\u001B[39;00m \u001B[38;5;28;01mNone\u001B[39;00m:\n\u001B[1;32m--> 146\u001B[0m     y \u001B[38;5;241m=\u001B[39m \u001B[43mcopier\u001B[49m\u001B[43m(\u001B[49m\u001B[43mx\u001B[49m\u001B[43m,\u001B[49m\u001B[43m \u001B[49m\u001B[43mmemo\u001B[49m\u001B[43m)\u001B[49m\n\u001B[0;32m    147\u001B[0m \u001B[38;5;28;01melse\u001B[39;00m:\n\u001B[0;32m    148\u001B[0m     \u001B[38;5;28;01mif\u001B[39;00m \u001B[38;5;28missubclass\u001B[39m(\u001B[38;5;28mcls\u001B[39m, \u001B[38;5;28mtype\u001B[39m):\n",
      "File \u001B[1;32mC:\\Python311\\Lib\\copy.py:231\u001B[0m, in \u001B[0;36m_deepcopy_dict\u001B[1;34m(x, memo, deepcopy)\u001B[0m\n\u001B[0;32m    229\u001B[0m memo[\u001B[38;5;28mid\u001B[39m(x)] \u001B[38;5;241m=\u001B[39m y\n\u001B[0;32m    230\u001B[0m \u001B[38;5;28;01mfor\u001B[39;00m key, value \u001B[38;5;129;01min\u001B[39;00m x\u001B[38;5;241m.\u001B[39mitems():\n\u001B[1;32m--> 231\u001B[0m     y[deepcopy(key, memo)] \u001B[38;5;241m=\u001B[39m \u001B[43mdeepcopy\u001B[49m\u001B[43m(\u001B[49m\u001B[43mvalue\u001B[49m\u001B[43m,\u001B[49m\u001B[43m \u001B[49m\u001B[43mmemo\u001B[49m\u001B[43m)\u001B[49m\n\u001B[0;32m    232\u001B[0m \u001B[38;5;28;01mreturn\u001B[39;00m y\n",
      "File \u001B[1;32mC:\\Python311\\Lib\\copy.py:146\u001B[0m, in \u001B[0;36mdeepcopy\u001B[1;34m(x, memo, _nil)\u001B[0m\n\u001B[0;32m    144\u001B[0m copier \u001B[38;5;241m=\u001B[39m _deepcopy_dispatch\u001B[38;5;241m.\u001B[39mget(\u001B[38;5;28mcls\u001B[39m)\n\u001B[0;32m    145\u001B[0m \u001B[38;5;28;01mif\u001B[39;00m copier \u001B[38;5;129;01mis\u001B[39;00m \u001B[38;5;129;01mnot\u001B[39;00m \u001B[38;5;28;01mNone\u001B[39;00m:\n\u001B[1;32m--> 146\u001B[0m     y \u001B[38;5;241m=\u001B[39m \u001B[43mcopier\u001B[49m\u001B[43m(\u001B[49m\u001B[43mx\u001B[49m\u001B[43m,\u001B[49m\u001B[43m \u001B[49m\u001B[43mmemo\u001B[49m\u001B[43m)\u001B[49m\n\u001B[0;32m    147\u001B[0m \u001B[38;5;28;01melse\u001B[39;00m:\n\u001B[0;32m    148\u001B[0m     \u001B[38;5;28;01mif\u001B[39;00m \u001B[38;5;28missubclass\u001B[39m(\u001B[38;5;28mcls\u001B[39m, \u001B[38;5;28mtype\u001B[39m):\n",
      "File \u001B[1;32mC:\\Python311\\Lib\\copy.py:206\u001B[0m, in \u001B[0;36m_deepcopy_list\u001B[1;34m(x, memo, deepcopy)\u001B[0m\n\u001B[0;32m    204\u001B[0m append \u001B[38;5;241m=\u001B[39m y\u001B[38;5;241m.\u001B[39mappend\n\u001B[0;32m    205\u001B[0m \u001B[38;5;28;01mfor\u001B[39;00m a \u001B[38;5;129;01min\u001B[39;00m x:\n\u001B[1;32m--> 206\u001B[0m     append(\u001B[43mdeepcopy\u001B[49m\u001B[43m(\u001B[49m\u001B[43ma\u001B[49m\u001B[43m,\u001B[49m\u001B[43m \u001B[49m\u001B[43mmemo\u001B[49m\u001B[43m)\u001B[49m)\n\u001B[0;32m    207\u001B[0m \u001B[38;5;28;01mreturn\u001B[39;00m y\n",
      "File \u001B[1;32mC:\\Python311\\Lib\\copy.py:172\u001B[0m, in \u001B[0;36mdeepcopy\u001B[1;34m(x, memo, _nil)\u001B[0m\n\u001B[0;32m    170\u001B[0m                 y \u001B[38;5;241m=\u001B[39m x\n\u001B[0;32m    171\u001B[0m             \u001B[38;5;28;01melse\u001B[39;00m:\n\u001B[1;32m--> 172\u001B[0m                 y \u001B[38;5;241m=\u001B[39m \u001B[43m_reconstruct\u001B[49m\u001B[43m(\u001B[49m\u001B[43mx\u001B[49m\u001B[43m,\u001B[49m\u001B[43m \u001B[49m\u001B[43mmemo\u001B[49m\u001B[43m,\u001B[49m\u001B[43m \u001B[49m\u001B[38;5;241;43m*\u001B[39;49m\u001B[43mrv\u001B[49m\u001B[43m)\u001B[49m\n\u001B[0;32m    174\u001B[0m \u001B[38;5;66;03m# If is its own copy, don't memoize.\u001B[39;00m\n\u001B[0;32m    175\u001B[0m \u001B[38;5;28;01mif\u001B[39;00m y \u001B[38;5;129;01mis\u001B[39;00m \u001B[38;5;129;01mnot\u001B[39;00m x:\n",
      "File \u001B[1;32mC:\\Python311\\Lib\\copy.py:271\u001B[0m, in \u001B[0;36m_reconstruct\u001B[1;34m(x, memo, func, args, state, listiter, dictiter, deepcopy)\u001B[0m\n\u001B[0;32m    269\u001B[0m \u001B[38;5;28;01mif\u001B[39;00m state \u001B[38;5;129;01mis\u001B[39;00m \u001B[38;5;129;01mnot\u001B[39;00m \u001B[38;5;28;01mNone\u001B[39;00m:\n\u001B[0;32m    270\u001B[0m     \u001B[38;5;28;01mif\u001B[39;00m deep:\n\u001B[1;32m--> 271\u001B[0m         state \u001B[38;5;241m=\u001B[39m \u001B[43mdeepcopy\u001B[49m\u001B[43m(\u001B[49m\u001B[43mstate\u001B[49m\u001B[43m,\u001B[49m\u001B[43m \u001B[49m\u001B[43mmemo\u001B[49m\u001B[43m)\u001B[49m\n\u001B[0;32m    272\u001B[0m     \u001B[38;5;28;01mif\u001B[39;00m \u001B[38;5;28mhasattr\u001B[39m(y, \u001B[38;5;124m'\u001B[39m\u001B[38;5;124m__setstate__\u001B[39m\u001B[38;5;124m'\u001B[39m):\n\u001B[0;32m    273\u001B[0m         y\u001B[38;5;241m.\u001B[39m__setstate__(state)\n",
      "    \u001B[1;31m[... skipping similar frames: deepcopy at line 146 (1 times)]\u001B[0m\n",
      "File \u001B[1;32mC:\\Python311\\Lib\\copy.py:231\u001B[0m, in \u001B[0;36m_deepcopy_dict\u001B[1;34m(x, memo, deepcopy)\u001B[0m\n\u001B[0;32m    229\u001B[0m memo[\u001B[38;5;28mid\u001B[39m(x)] \u001B[38;5;241m=\u001B[39m y\n\u001B[0;32m    230\u001B[0m \u001B[38;5;28;01mfor\u001B[39;00m key, value \u001B[38;5;129;01min\u001B[39;00m x\u001B[38;5;241m.\u001B[39mitems():\n\u001B[1;32m--> 231\u001B[0m     y[deepcopy(key, memo)] \u001B[38;5;241m=\u001B[39m \u001B[43mdeepcopy\u001B[49m\u001B[43m(\u001B[49m\u001B[43mvalue\u001B[49m\u001B[43m,\u001B[49m\u001B[43m \u001B[49m\u001B[43mmemo\u001B[49m\u001B[43m)\u001B[49m\n\u001B[0;32m    232\u001B[0m \u001B[38;5;28;01mreturn\u001B[39;00m y\n",
      "    \u001B[1;31m[... skipping similar frames: deepcopy at line 146 (1 times)]\u001B[0m\n",
      "File \u001B[1;32mC:\\Python311\\Lib\\copy.py:206\u001B[0m, in \u001B[0;36m_deepcopy_list\u001B[1;34m(x, memo, deepcopy)\u001B[0m\n\u001B[0;32m    204\u001B[0m append \u001B[38;5;241m=\u001B[39m y\u001B[38;5;241m.\u001B[39mappend\n\u001B[0;32m    205\u001B[0m \u001B[38;5;28;01mfor\u001B[39;00m a \u001B[38;5;129;01min\u001B[39;00m x:\n\u001B[1;32m--> 206\u001B[0m     append(\u001B[43mdeepcopy\u001B[49m\u001B[43m(\u001B[49m\u001B[43ma\u001B[49m\u001B[43m,\u001B[49m\u001B[43m \u001B[49m\u001B[43mmemo\u001B[49m\u001B[43m)\u001B[49m)\n\u001B[0;32m    207\u001B[0m \u001B[38;5;28;01mreturn\u001B[39;00m y\n",
      "    \u001B[1;31m[... skipping similar frames: deepcopy at line 146 (4 times), _deepcopy_dict at line 231 (2 times), _reconstruct at line 271 (2 times), deepcopy at line 172 (2 times), _deepcopy_list at line 206 (1 times)]\u001B[0m\n",
      "File \u001B[1;32mC:\\Python311\\Lib\\copy.py:206\u001B[0m, in \u001B[0;36m_deepcopy_list\u001B[1;34m(x, memo, deepcopy)\u001B[0m\n\u001B[0;32m    204\u001B[0m append \u001B[38;5;241m=\u001B[39m y\u001B[38;5;241m.\u001B[39mappend\n\u001B[0;32m    205\u001B[0m \u001B[38;5;28;01mfor\u001B[39;00m a \u001B[38;5;129;01min\u001B[39;00m x:\n\u001B[1;32m--> 206\u001B[0m     append(\u001B[43mdeepcopy\u001B[49m\u001B[43m(\u001B[49m\u001B[43ma\u001B[49m\u001B[43m,\u001B[49m\u001B[43m \u001B[49m\u001B[43mmemo\u001B[49m\u001B[43m)\u001B[49m)\n\u001B[0;32m    207\u001B[0m \u001B[38;5;28;01mreturn\u001B[39;00m y\n",
      "File \u001B[1;32mC:\\Python311\\Lib\\copy.py:172\u001B[0m, in \u001B[0;36mdeepcopy\u001B[1;34m(x, memo, _nil)\u001B[0m\n\u001B[0;32m    170\u001B[0m                 y \u001B[38;5;241m=\u001B[39m x\n\u001B[0;32m    171\u001B[0m             \u001B[38;5;28;01melse\u001B[39;00m:\n\u001B[1;32m--> 172\u001B[0m                 y \u001B[38;5;241m=\u001B[39m \u001B[43m_reconstruct\u001B[49m\u001B[43m(\u001B[49m\u001B[43mx\u001B[49m\u001B[43m,\u001B[49m\u001B[43m \u001B[49m\u001B[43mmemo\u001B[49m\u001B[43m,\u001B[49m\u001B[43m \u001B[49m\u001B[38;5;241;43m*\u001B[39;49m\u001B[43mrv\u001B[49m\u001B[43m)\u001B[49m\n\u001B[0;32m    174\u001B[0m \u001B[38;5;66;03m# If is its own copy, don't memoize.\u001B[39;00m\n\u001B[0;32m    175\u001B[0m \u001B[38;5;28;01mif\u001B[39;00m y \u001B[38;5;129;01mis\u001B[39;00m \u001B[38;5;129;01mnot\u001B[39;00m x:\n",
      "File \u001B[1;32mC:\\Python311\\Lib\\copy.py:271\u001B[0m, in \u001B[0;36m_reconstruct\u001B[1;34m(x, memo, func, args, state, listiter, dictiter, deepcopy)\u001B[0m\n\u001B[0;32m    269\u001B[0m \u001B[38;5;28;01mif\u001B[39;00m state \u001B[38;5;129;01mis\u001B[39;00m \u001B[38;5;129;01mnot\u001B[39;00m \u001B[38;5;28;01mNone\u001B[39;00m:\n\u001B[0;32m    270\u001B[0m     \u001B[38;5;28;01mif\u001B[39;00m deep:\n\u001B[1;32m--> 271\u001B[0m         state \u001B[38;5;241m=\u001B[39m \u001B[43mdeepcopy\u001B[49m\u001B[43m(\u001B[49m\u001B[43mstate\u001B[49m\u001B[43m,\u001B[49m\u001B[43m \u001B[49m\u001B[43mmemo\u001B[49m\u001B[43m)\u001B[49m\n\u001B[0;32m    272\u001B[0m     \u001B[38;5;28;01mif\u001B[39;00m \u001B[38;5;28mhasattr\u001B[39m(y, \u001B[38;5;124m'\u001B[39m\u001B[38;5;124m__setstate__\u001B[39m\u001B[38;5;124m'\u001B[39m):\n\u001B[0;32m    273\u001B[0m         y\u001B[38;5;241m.\u001B[39m__setstate__(state)\n",
      "File \u001B[1;32mC:\\Python311\\Lib\\copy.py:146\u001B[0m, in \u001B[0;36mdeepcopy\u001B[1;34m(x, memo, _nil)\u001B[0m\n\u001B[0;32m    144\u001B[0m copier \u001B[38;5;241m=\u001B[39m _deepcopy_dispatch\u001B[38;5;241m.\u001B[39mget(\u001B[38;5;28mcls\u001B[39m)\n\u001B[0;32m    145\u001B[0m \u001B[38;5;28;01mif\u001B[39;00m copier \u001B[38;5;129;01mis\u001B[39;00m \u001B[38;5;129;01mnot\u001B[39;00m \u001B[38;5;28;01mNone\u001B[39;00m:\n\u001B[1;32m--> 146\u001B[0m     y \u001B[38;5;241m=\u001B[39m \u001B[43mcopier\u001B[49m\u001B[43m(\u001B[49m\u001B[43mx\u001B[49m\u001B[43m,\u001B[49m\u001B[43m \u001B[49m\u001B[43mmemo\u001B[49m\u001B[43m)\u001B[49m\n\u001B[0;32m    147\u001B[0m \u001B[38;5;28;01melse\u001B[39;00m:\n\u001B[0;32m    148\u001B[0m     \u001B[38;5;28;01mif\u001B[39;00m \u001B[38;5;28missubclass\u001B[39m(\u001B[38;5;28mcls\u001B[39m, \u001B[38;5;28mtype\u001B[39m):\n",
      "File \u001B[1;32mC:\\Python311\\Lib\\copy.py:231\u001B[0m, in \u001B[0;36m_deepcopy_dict\u001B[1;34m(x, memo, deepcopy)\u001B[0m\n\u001B[0;32m    229\u001B[0m memo[\u001B[38;5;28mid\u001B[39m(x)] \u001B[38;5;241m=\u001B[39m y\n\u001B[0;32m    230\u001B[0m \u001B[38;5;28;01mfor\u001B[39;00m key, value \u001B[38;5;129;01min\u001B[39;00m x\u001B[38;5;241m.\u001B[39mitems():\n\u001B[1;32m--> 231\u001B[0m     y[deepcopy(key, memo)] \u001B[38;5;241m=\u001B[39m \u001B[43mdeepcopy\u001B[49m\u001B[43m(\u001B[49m\u001B[43mvalue\u001B[49m\u001B[43m,\u001B[49m\u001B[43m \u001B[49m\u001B[43mmemo\u001B[49m\u001B[43m)\u001B[49m\n\u001B[0;32m    232\u001B[0m \u001B[38;5;28;01mreturn\u001B[39;00m y\n",
      "File \u001B[1;32mC:\\Python311\\Lib\\copy.py:153\u001B[0m, in \u001B[0;36mdeepcopy\u001B[1;34m(x, memo, _nil)\u001B[0m\n\u001B[0;32m    151\u001B[0m copier \u001B[38;5;241m=\u001B[39m \u001B[38;5;28mgetattr\u001B[39m(x, \u001B[38;5;124m\"\u001B[39m\u001B[38;5;124m__deepcopy__\u001B[39m\u001B[38;5;124m\"\u001B[39m, \u001B[38;5;28;01mNone\u001B[39;00m)\n\u001B[0;32m    152\u001B[0m \u001B[38;5;28;01mif\u001B[39;00m copier \u001B[38;5;129;01mis\u001B[39;00m \u001B[38;5;129;01mnot\u001B[39;00m \u001B[38;5;28;01mNone\u001B[39;00m:\n\u001B[1;32m--> 153\u001B[0m     y \u001B[38;5;241m=\u001B[39m \u001B[43mcopier\u001B[49m\u001B[43m(\u001B[49m\u001B[43mmemo\u001B[49m\u001B[43m)\u001B[49m\n\u001B[0;32m    154\u001B[0m \u001B[38;5;28;01melse\u001B[39;00m:\n\u001B[0;32m    155\u001B[0m     reductor \u001B[38;5;241m=\u001B[39m dispatch_table\u001B[38;5;241m.\u001B[39mget(\u001B[38;5;28mcls\u001B[39m)\n",
      "File \u001B[1;32m~\\AppData\\Local\\pypoetry\\Cache\\virtualenvs\\genetic-programming-pejFEO21-py3.11\\Lib\\site-packages\\pydantic\\main.py:711\u001B[0m, in \u001B[0;36mBaseModel.__deepcopy__\u001B[1;34m(self, memo)\u001B[0m\n\u001B[0;32m    709\u001B[0m \u001B[38;5;28mcls\u001B[39m \u001B[38;5;241m=\u001B[39m \u001B[38;5;28mtype\u001B[39m(\u001B[38;5;28mself\u001B[39m)\n\u001B[0;32m    710\u001B[0m m \u001B[38;5;241m=\u001B[39m \u001B[38;5;28mcls\u001B[39m\u001B[38;5;241m.\u001B[39m\u001B[38;5;21m__new__\u001B[39m(\u001B[38;5;28mcls\u001B[39m)\n\u001B[1;32m--> 711\u001B[0m _object_setattr(m, \u001B[38;5;124m'\u001B[39m\u001B[38;5;124m__dict__\u001B[39m\u001B[38;5;124m'\u001B[39m, \u001B[43mdeepcopy\u001B[49m\u001B[43m(\u001B[49m\u001B[38;5;28;43mself\u001B[39;49m\u001B[38;5;241;43m.\u001B[39;49m\u001B[38;5;18;43m__dict__\u001B[39;49m\u001B[43m,\u001B[49m\u001B[43m \u001B[49m\u001B[43mmemo\u001B[49m\u001B[38;5;241;43m=\u001B[39;49m\u001B[43mmemo\u001B[49m\u001B[43m)\u001B[49m)\n\u001B[0;32m    712\u001B[0m _object_setattr(m, \u001B[38;5;124m'\u001B[39m\u001B[38;5;124m__pydantic_extra__\u001B[39m\u001B[38;5;124m'\u001B[39m, deepcopy(\u001B[38;5;28mself\u001B[39m\u001B[38;5;241m.\u001B[39m__pydantic_extra__, memo\u001B[38;5;241m=\u001B[39mmemo))\n\u001B[0;32m    713\u001B[0m \u001B[38;5;66;03m# This next line doesn't need a deepcopy because __pydantic_fields_set__ is a set[str],\u001B[39;00m\n\u001B[0;32m    714\u001B[0m \u001B[38;5;66;03m# and attempting a deepcopy would be marginally slower.\u001B[39;00m\n",
      "File \u001B[1;32mC:\\Python311\\Lib\\copy.py:146\u001B[0m, in \u001B[0;36mdeepcopy\u001B[1;34m(x, memo, _nil)\u001B[0m\n\u001B[0;32m    144\u001B[0m copier \u001B[38;5;241m=\u001B[39m _deepcopy_dispatch\u001B[38;5;241m.\u001B[39mget(\u001B[38;5;28mcls\u001B[39m)\n\u001B[0;32m    145\u001B[0m \u001B[38;5;28;01mif\u001B[39;00m copier \u001B[38;5;129;01mis\u001B[39;00m \u001B[38;5;129;01mnot\u001B[39;00m \u001B[38;5;28;01mNone\u001B[39;00m:\n\u001B[1;32m--> 146\u001B[0m     y \u001B[38;5;241m=\u001B[39m \u001B[43mcopier\u001B[49m\u001B[43m(\u001B[49m\u001B[43mx\u001B[49m\u001B[43m,\u001B[49m\u001B[43m \u001B[49m\u001B[43mmemo\u001B[49m\u001B[43m)\u001B[49m\n\u001B[0;32m    147\u001B[0m \u001B[38;5;28;01melse\u001B[39;00m:\n\u001B[0;32m    148\u001B[0m     \u001B[38;5;28;01mif\u001B[39;00m \u001B[38;5;28missubclass\u001B[39m(\u001B[38;5;28mcls\u001B[39m, \u001B[38;5;28mtype\u001B[39m):\n",
      "File \u001B[1;32mC:\\Python311\\Lib\\copy.py:231\u001B[0m, in \u001B[0;36m_deepcopy_dict\u001B[1;34m(x, memo, deepcopy)\u001B[0m\n\u001B[0;32m    229\u001B[0m memo[\u001B[38;5;28mid\u001B[39m(x)] \u001B[38;5;241m=\u001B[39m y\n\u001B[0;32m    230\u001B[0m \u001B[38;5;28;01mfor\u001B[39;00m key, value \u001B[38;5;129;01min\u001B[39;00m x\u001B[38;5;241m.\u001B[39mitems():\n\u001B[1;32m--> 231\u001B[0m     y[deepcopy(key, memo)] \u001B[38;5;241m=\u001B[39m \u001B[43mdeepcopy\u001B[49m\u001B[43m(\u001B[49m\u001B[43mvalue\u001B[49m\u001B[43m,\u001B[49m\u001B[43m \u001B[49m\u001B[43mmemo\u001B[49m\u001B[43m)\u001B[49m\n\u001B[0;32m    232\u001B[0m \u001B[38;5;28;01mreturn\u001B[39;00m y\n",
      "File \u001B[1;32mC:\\Python311\\Lib\\copy.py:146\u001B[0m, in \u001B[0;36mdeepcopy\u001B[1;34m(x, memo, _nil)\u001B[0m\n\u001B[0;32m    144\u001B[0m copier \u001B[38;5;241m=\u001B[39m _deepcopy_dispatch\u001B[38;5;241m.\u001B[39mget(\u001B[38;5;28mcls\u001B[39m)\n\u001B[0;32m    145\u001B[0m \u001B[38;5;28;01mif\u001B[39;00m copier \u001B[38;5;129;01mis\u001B[39;00m \u001B[38;5;129;01mnot\u001B[39;00m \u001B[38;5;28;01mNone\u001B[39;00m:\n\u001B[1;32m--> 146\u001B[0m     y \u001B[38;5;241m=\u001B[39m \u001B[43mcopier\u001B[49m\u001B[43m(\u001B[49m\u001B[43mx\u001B[49m\u001B[43m,\u001B[49m\u001B[43m \u001B[49m\u001B[43mmemo\u001B[49m\u001B[43m)\u001B[49m\n\u001B[0;32m    147\u001B[0m \u001B[38;5;28;01melse\u001B[39;00m:\n\u001B[0;32m    148\u001B[0m     \u001B[38;5;28;01mif\u001B[39;00m \u001B[38;5;28missubclass\u001B[39m(\u001B[38;5;28mcls\u001B[39m, \u001B[38;5;28mtype\u001B[39m):\n",
      "File \u001B[1;32mC:\\Python311\\Lib\\copy.py:206\u001B[0m, in \u001B[0;36m_deepcopy_list\u001B[1;34m(x, memo, deepcopy)\u001B[0m\n\u001B[0;32m    204\u001B[0m append \u001B[38;5;241m=\u001B[39m y\u001B[38;5;241m.\u001B[39mappend\n\u001B[0;32m    205\u001B[0m \u001B[38;5;28;01mfor\u001B[39;00m a \u001B[38;5;129;01min\u001B[39;00m x:\n\u001B[1;32m--> 206\u001B[0m     append(\u001B[43mdeepcopy\u001B[49m\u001B[43m(\u001B[49m\u001B[43ma\u001B[49m\u001B[43m,\u001B[49m\u001B[43m \u001B[49m\u001B[43mmemo\u001B[49m\u001B[43m)\u001B[49m)\n\u001B[0;32m    207\u001B[0m \u001B[38;5;28;01mreturn\u001B[39;00m y\n",
      "File \u001B[1;32mC:\\Python311\\Lib\\copy.py:153\u001B[0m, in \u001B[0;36mdeepcopy\u001B[1;34m(x, memo, _nil)\u001B[0m\n\u001B[0;32m    151\u001B[0m copier \u001B[38;5;241m=\u001B[39m \u001B[38;5;28mgetattr\u001B[39m(x, \u001B[38;5;124m\"\u001B[39m\u001B[38;5;124m__deepcopy__\u001B[39m\u001B[38;5;124m\"\u001B[39m, \u001B[38;5;28;01mNone\u001B[39;00m)\n\u001B[0;32m    152\u001B[0m \u001B[38;5;28;01mif\u001B[39;00m copier \u001B[38;5;129;01mis\u001B[39;00m \u001B[38;5;129;01mnot\u001B[39;00m \u001B[38;5;28;01mNone\u001B[39;00m:\n\u001B[1;32m--> 153\u001B[0m     y \u001B[38;5;241m=\u001B[39m \u001B[43mcopier\u001B[49m\u001B[43m(\u001B[49m\u001B[43mmemo\u001B[49m\u001B[43m)\u001B[49m\n\u001B[0;32m    154\u001B[0m \u001B[38;5;28;01melse\u001B[39;00m:\n\u001B[0;32m    155\u001B[0m     reductor \u001B[38;5;241m=\u001B[39m dispatch_table\u001B[38;5;241m.\u001B[39mget(\u001B[38;5;28mcls\u001B[39m)\n",
      "File \u001B[1;32m~\\AppData\\Local\\pypoetry\\Cache\\virtualenvs\\genetic-programming-pejFEO21-py3.11\\Lib\\site-packages\\pydantic\\main.py:711\u001B[0m, in \u001B[0;36mBaseModel.__deepcopy__\u001B[1;34m(self, memo)\u001B[0m\n\u001B[0;32m    709\u001B[0m \u001B[38;5;28mcls\u001B[39m \u001B[38;5;241m=\u001B[39m \u001B[38;5;28mtype\u001B[39m(\u001B[38;5;28mself\u001B[39m)\n\u001B[0;32m    710\u001B[0m m \u001B[38;5;241m=\u001B[39m \u001B[38;5;28mcls\u001B[39m\u001B[38;5;241m.\u001B[39m\u001B[38;5;21m__new__\u001B[39m(\u001B[38;5;28mcls\u001B[39m)\n\u001B[1;32m--> 711\u001B[0m _object_setattr(m, \u001B[38;5;124m'\u001B[39m\u001B[38;5;124m__dict__\u001B[39m\u001B[38;5;124m'\u001B[39m, \u001B[43mdeepcopy\u001B[49m\u001B[43m(\u001B[49m\u001B[38;5;28;43mself\u001B[39;49m\u001B[38;5;241;43m.\u001B[39;49m\u001B[38;5;18;43m__dict__\u001B[39;49m\u001B[43m,\u001B[49m\u001B[43m \u001B[49m\u001B[43mmemo\u001B[49m\u001B[38;5;241;43m=\u001B[39;49m\u001B[43mmemo\u001B[49m\u001B[43m)\u001B[49m)\n\u001B[0;32m    712\u001B[0m _object_setattr(m, \u001B[38;5;124m'\u001B[39m\u001B[38;5;124m__pydantic_extra__\u001B[39m\u001B[38;5;124m'\u001B[39m, deepcopy(\u001B[38;5;28mself\u001B[39m\u001B[38;5;241m.\u001B[39m__pydantic_extra__, memo\u001B[38;5;241m=\u001B[39mmemo))\n\u001B[0;32m    713\u001B[0m \u001B[38;5;66;03m# This next line doesn't need a deepcopy because __pydantic_fields_set__ is a set[str],\u001B[39;00m\n\u001B[0;32m    714\u001B[0m \u001B[38;5;66;03m# and attempting a deepcopy would be marginally slower.\u001B[39;00m\n",
      "File \u001B[1;32mC:\\Python311\\Lib\\copy.py:146\u001B[0m, in \u001B[0;36mdeepcopy\u001B[1;34m(x, memo, _nil)\u001B[0m\n\u001B[0;32m    144\u001B[0m copier \u001B[38;5;241m=\u001B[39m _deepcopy_dispatch\u001B[38;5;241m.\u001B[39mget(\u001B[38;5;28mcls\u001B[39m)\n\u001B[0;32m    145\u001B[0m \u001B[38;5;28;01mif\u001B[39;00m copier \u001B[38;5;129;01mis\u001B[39;00m \u001B[38;5;129;01mnot\u001B[39;00m \u001B[38;5;28;01mNone\u001B[39;00m:\n\u001B[1;32m--> 146\u001B[0m     y \u001B[38;5;241m=\u001B[39m \u001B[43mcopier\u001B[49m\u001B[43m(\u001B[49m\u001B[43mx\u001B[49m\u001B[43m,\u001B[49m\u001B[43m \u001B[49m\u001B[43mmemo\u001B[49m\u001B[43m)\u001B[49m\n\u001B[0;32m    147\u001B[0m \u001B[38;5;28;01melse\u001B[39;00m:\n\u001B[0;32m    148\u001B[0m     \u001B[38;5;28;01mif\u001B[39;00m \u001B[38;5;28missubclass\u001B[39m(\u001B[38;5;28mcls\u001B[39m, \u001B[38;5;28mtype\u001B[39m):\n",
      "File \u001B[1;32mC:\\Python311\\Lib\\copy.py:231\u001B[0m, in \u001B[0;36m_deepcopy_dict\u001B[1;34m(x, memo, deepcopy)\u001B[0m\n\u001B[0;32m    229\u001B[0m memo[\u001B[38;5;28mid\u001B[39m(x)] \u001B[38;5;241m=\u001B[39m y\n\u001B[0;32m    230\u001B[0m \u001B[38;5;28;01mfor\u001B[39;00m key, value \u001B[38;5;129;01min\u001B[39;00m x\u001B[38;5;241m.\u001B[39mitems():\n\u001B[1;32m--> 231\u001B[0m     y[deepcopy(key, memo)] \u001B[38;5;241m=\u001B[39m \u001B[43mdeepcopy\u001B[49m\u001B[43m(\u001B[49m\u001B[43mvalue\u001B[49m\u001B[43m,\u001B[49m\u001B[43m \u001B[49m\u001B[43mmemo\u001B[49m\u001B[43m)\u001B[49m\n\u001B[0;32m    232\u001B[0m \u001B[38;5;28;01mreturn\u001B[39;00m y\n",
      "File \u001B[1;32mC:\\Python311\\Lib\\copy.py:137\u001B[0m, in \u001B[0;36mdeepcopy\u001B[1;34m(x, memo, _nil)\u001B[0m\n\u001B[0;32m    134\u001B[0m \u001B[38;5;28;01mif\u001B[39;00m memo \u001B[38;5;129;01mis\u001B[39;00m \u001B[38;5;28;01mNone\u001B[39;00m:\n\u001B[0;32m    135\u001B[0m     memo \u001B[38;5;241m=\u001B[39m {}\n\u001B[1;32m--> 137\u001B[0m d \u001B[38;5;241m=\u001B[39m \u001B[38;5;28mid\u001B[39m(x)\n\u001B[0;32m    138\u001B[0m y \u001B[38;5;241m=\u001B[39m memo\u001B[38;5;241m.\u001B[39mget(d, _nil)\n\u001B[0;32m    139\u001B[0m \u001B[38;5;28;01mif\u001B[39;00m y \u001B[38;5;129;01mis\u001B[39;00m \u001B[38;5;129;01mnot\u001B[39;00m _nil:\n",
      "\u001B[1;31mKeyboardInterrupt\u001B[0m: "
     ]
    }
   ],
   "source": [
    "inputs = [[\"1\", \"2\"], [\"2\", \"3\"], [\"9\", \"2\"], [\"1\", \"7\"], [\"0\", \"6\"], [\"6\", \"4\"]]\n",
    "\n",
    "def fitness(outputs: list[list[str]]) -> float:\n",
    "    \n",
    "    if len(outputs) != len(inputs):\n",
    "        return 1000.\n",
    "    \n",
    "    total_error = 0.\n",
    "    \n",
    "    for input_data, output_data in zip(inputs, outputs):\n",
    "        if len(output_data) != 1:\n",
    "            return 900.\n",
    "        \n",
    "        try:\n",
    "            result = int(output_data[0])\n",
    "        except ValueError:\n",
    "            total_error += 800.\n",
    "            continue\n",
    "        \n",
    "        expected_result = int(input_data[0]) + int(input_data[1])\n",
    "        total_error += abs(result - expected_result)\n",
    "    \n",
    "    return total_error\n",
    "    \n",
    "\n",
    "GeneticAlgorithm(\n",
    "    fitness_function=fitness,\n",
    "    error_threshold=1,\n",
    "    population_size=1000,\n",
    "    initial_individual_size=3,\n",
    "    max_generations=100,\n",
    ").run(inputs = inputs, verbose=True, file_name=\"test_results/1.2.A\")"
   ],
   "metadata": {
    "collapsed": false,
    "ExecuteTime": {
     "end_time": "2024-01-01T19:40:02.436930200Z",
     "start_time": "2024-01-01T19:39:04.566834500Z"
    }
   },
   "id": "f7c09cafbc447f4"
  },
  {
   "cell_type": "markdown",
   "source": [
    "1.2.B Program powinien odczytać dwie pierwsze liczy z wejścia i zwrócić na wyjściu (jedynie) ich sumę. Na wejściu mogą być tylko całkowite liczby w zakresie [-9,9]"
   ],
   "metadata": {
    "collapsed": false
   },
   "id": "79c9054cacdde07"
  },
  {
   "cell_type": "code",
   "execution_count": 16,
   "outputs": [],
   "source": [],
   "metadata": {
    "collapsed": false,
    "ExecuteTime": {
     "end_time": "2024-01-01T19:03:34.605444900Z",
     "start_time": "2024-01-01T19:03:34.600043Z"
    }
   },
   "id": "b5d5fc4da08ca12"
  },
  {
   "cell_type": "markdown",
   "source": [
    "1.2.C Program powinien odczytać dwie pierwsze liczy z wejścia i zwrócić na wyjściu (jedynie) ich sumę. Na wejściu mogą być tylko całkowite liczby dodatnie w zakresie [-9999,9999]"
   ],
   "metadata": {
    "collapsed": false
   },
   "id": "f0a5badf33d911fb"
  },
  {
   "cell_type": "markdown",
   "source": [
    "1.2.D Program powinien odczytać dwie pierwsze liczy z wejścia i zwrócić na wyjściu (jedynie) ich różnicę. Na wejściu mogą być tylko całkowite liczby dodatnie w zakresie [-9999,9999]"
   ],
   "metadata": {
    "collapsed": false
   },
   "id": "531038bbcb100b"
  },
  {
   "cell_type": "markdown",
   "source": [
    "1.2.E Program powinien odczytać dwie pierwsze liczy z wejścia i zwrócić na wyjściu (jedynie) ich iloczyn. Na wejściu mogą być tylko całkowite liczby dodatnie w zakresie [-9999,9999]"
   ],
   "metadata": {
    "collapsed": false
   },
   "id": "322a611940fcbfb6"
  },
  {
   "cell_type": "markdown",
   "source": [
    "1.3.A Program powinien odczytać dwie pierwsze liczy z wejścia i zwrócić na wyjściu (jedynie) większą z nich. Na wejściu mogą być tylko całkowite liczby dodatnie w zakresie [0,9]"
   ],
   "metadata": {
    "collapsed": false
   },
   "id": "fc409eb6b4bd4ddb"
  },
  {
   "cell_type": "markdown",
   "source": [
    "1.3.B Program powinien odczytać dwie pierwsze liczy z wejścia i zwrócić na wyjściu (jedynie) większą z nich. Na wejściu mogą być tylko całkowite liczby w zakresie [-9999,9999]"
   ],
   "metadata": {
    "collapsed": false
   },
   "id": "908d4f9439905040"
  },
  {
   "cell_type": "markdown",
   "source": [
    "1.4.A Program powinien odczytać dziesięć pierwszych liczy z wejścia i zwrócić na wyjściu (jedynie) ich średnią arytmetyczną (zaokrągloną do pełnej liczby całkowitej). Na wejściu mogą być tylko całkowite liczby w zakresie [-99,99]"
   ],
   "metadata": {
    "collapsed": false
   },
   "id": "fd24202390df206c"
  },
  {
   "cell_type": "markdown",
   "source": [
    "1.4.B Program powinien odczytać na początek z wejścia pierwszą liczbę (ma być to wartość nieujemna) a następnie tyle liczb (całkowitych) jaka jest wartość pierwszej odczytanej liczby i zwrócić na wyjściu (jedynie) ich średnią arytmetyczną zaokrągloną do pełnej liczby całkowitej (do średniej nie jest wliczana pierwsza odczytana liczba, która mówi z ilu liczb chcemy obliczyć średnią). Na wejściu mogą być tylko całkowite liczby w zakresie [-99,99], pierwsza liczba może być tylko w zakresie [0,99]."
   ],
   "metadata": {
    "collapsed": false
   },
   "id": "8eb4e95c5ddb3c41"
  },
  {
   "cell_type": "code",
   "execution_count": null,
   "outputs": [],
   "source": [],
   "metadata": {
    "collapsed": false,
    "ExecuteTime": {
     "end_time": "2024-01-01T17:55:26.701912800Z",
     "start_time": "2024-01-01T17:55:26.700912800Z"
    }
   },
   "id": "a892f72b7f28561f"
  }
 ],
 "metadata": {
  "kernelspec": {
   "display_name": "Python 3",
   "language": "python",
   "name": "python3"
  },
  "language_info": {
   "codemirror_mode": {
    "name": "ipython",
    "version": 2
   },
   "file_extension": ".py",
   "mimetype": "text/x-python",
   "name": "python",
   "nbconvert_exporter": "python",
   "pygments_lexer": "ipython2",
   "version": "2.7.6"
  }
 },
 "nbformat": 4,
 "nbformat_minor": 5
}
