{
 "cells": [
  {
   "cell_type": "code",
   "execution_count": 1,
   "id": "initial_id",
   "metadata": {
    "collapsed": true,
    "ExecuteTime": {
     "end_time": "2024-01-02T14:13:27.475977Z",
     "start_time": "2024-01-02T14:13:27.303121Z"
    }
   },
   "outputs": [],
   "source": [
    "from gp_algorithm.genetic_algorithm import GeneticAlgorithm"
   ]
  },
  {
   "cell_type": "markdown",
   "source": [
    "1.1.A Program powinien wygenerować na wyjściu (na dowolnej pozycji w danych wyjściowych) liczbę 1. Poza liczbą 1 może też zwrócić inne liczby."
   ],
   "metadata": {
    "collapsed": false
   },
   "id": "d2d755544da5d1be"
  },
  {
   "cell_type": "code",
   "execution_count": 2,
   "outputs": [
    {
     "name": "stdout",
     "output_type": "stream",
     "text": [
      "Generation: 0, best fitness: 0.0\n",
      "PROBLEM SOLVED\n",
      "=========================\n",
      "Best fitness: 0.0\n",
      "Best individual:\n",
      "\n",
      "print (true) / not - false;\n"
     ]
    }
   ],
   "source": [
    "def fitness(outputs: list[list[str]]) -> float:\n",
    "    output = outputs[0]\n",
    "    if not output:\n",
    "        return 2.\n",
    "\n",
    "    if \"1\" in output:\n",
    "        return 0.\n",
    "    else:\n",
    "        return 1.\n",
    "\n",
    "\n",
    "gp = GeneticAlgorithm(\n",
    "    fitness_function=fitness,\n",
    "    error_threshold=.1,\n",
    "    max_generations=10,\n",
    ").run(file_name=\"test_results/1.1.A\")"
   ],
   "metadata": {
    "collapsed": false,
    "ExecuteTime": {
     "end_time": "2024-01-02T14:13:27.889539Z",
     "start_time": "2024-01-02T14:13:27.474082Z"
    }
   },
   "id": "83a99698d76517b3"
  },
  {
   "cell_type": "markdown",
   "source": [
    "1.1.B Program powinien wygenerować na wyjściu (na dowolnej pozycji w danych wyjściowych) liczbę 789. Poza liczbą 789 może też zwrócić inne liczby."
   ],
   "metadata": {
    "collapsed": false
   },
   "id": "2fc6911ec97b8900"
  },
  {
   "cell_type": "code",
   "execution_count": 3,
   "outputs": [
    {
     "name": "stdout",
     "output_type": "stream",
     "text": [
      "Generation: 0, best fitness: 38.0\n",
      "Generation: 1, best fitness: 34.0\n",
      "Generation: 2, best fitness: 8.0\n",
      "Generation: 3, best fitness: 8.0\n",
      "Generation: 4, best fitness: 8.0\n",
      "Generation: 5, best fitness: 8.0\n",
      "Generation: 6, best fitness: 8.0\n",
      "Generation: 7, best fitness: 8.0\n",
      "Generation: 8, best fitness: 0.0\n",
      "PROBLEM SOLVED\n",
      "=========================\n",
      "Best fitness: 0.0\n",
      "Best individual:\n",
      "\n",
      "print 789;\n"
     ]
    },
    {
     "data": {
      "text/plain": "IndividualWithFitness(individual={0}, fitness=0.0)"
     },
     "execution_count": 3,
     "metadata": {},
     "output_type": "execute_result"
    }
   ],
   "source": [
    "def fitness(outputs: list[list[str]]) -> float:\n",
    "    output = outputs[0]\n",
    "    if not output:\n",
    "        return 1000.\n",
    "    \n",
    "    if \"789\" in output:\n",
    "        return 0.\n",
    "    else:\n",
    "        closest = min(output, key=lambda x: abs(int(x) - 789) if x not in [\"true\", \"false\"] else 900)\n",
    "        if closest in [\"true\", \"false\"]:\n",
    "            return 900.\n",
    "        else:\n",
    "            return abs(float(closest) - 789)\n",
    "\n",
    "GeneticAlgorithm(\n",
    "    fitness_function=fitness,\n",
    "    error_threshold=.1,\n",
    "    int_max_value=1000,\n",
    ").run(file_name=\"test_results/1.1.B\")"
   ],
   "metadata": {
    "collapsed": false,
    "ExecuteTime": {
     "end_time": "2024-01-02T14:13:29.683135Z",
     "start_time": "2024-01-02T14:13:27.936861Z"
    }
   },
   "id": "6eef26361096c99"
  },
  {
   "cell_type": "markdown",
   "source": [
    "1.1.C Program powinien wygenerować na wyjściu (na dowolnej pozycji w danych wyjściowych) liczbę 31415. Poza liczbą 31415 może też zwrócić inne liczby."
   ],
   "metadata": {
    "collapsed": false
   },
   "id": "81306006e7c896ef"
  },
  {
   "cell_type": "code",
   "execution_count": 4,
   "outputs": [
    {
     "name": "stdout",
     "output_type": "stream",
     "text": [
      "Generation: 0, best fitness: 20561\n",
      "Generation: 1, best fitness: 13635\n",
      "Generation: 2, best fitness: 13635\n",
      "Generation: 3, best fitness: 13635\n",
      "Generation: 4, best fitness: 3684\n",
      "Generation: 5, best fitness: 3684\n",
      "Generation: 6, best fitness: 3684\n",
      "Generation: 7, best fitness: 2236\n",
      "Generation: 8, best fitness: 402\n",
      "Generation: 9, best fitness: 402\n",
      "Generation: 10, best fitness: 286\n",
      "Generation: 11, best fitness: 286\n",
      "Generation: 12, best fitness: 286\n",
      "Generation: 13, best fitness: 286\n",
      "Generation: 14, best fitness: 212\n",
      "Generation: 15, best fitness: 19\n",
      "Generation: 16, best fitness: 19\n",
      "Generation: 17, best fitness: 19\n",
      "Generation: 18, best fitness: 18\n",
      "Generation: 19, best fitness: 18\n",
      "Generation: 20, best fitness: 18\n",
      "Generation: 21, best fitness: 18\n",
      "Generation: 22, best fitness: 18\n",
      "Generation: 23, best fitness: 18\n",
      "Generation: 24, best fitness: 18\n",
      "Generation: 25, best fitness: 17\n",
      "Generation: 26, best fitness: 17\n",
      "Generation: 27, best fitness: 17\n",
      "Generation: 28, best fitness: 17\n",
      "Generation: 29, best fitness: 17\n",
      "Generation: 30, best fitness: 17\n",
      "Generation: 31, best fitness: 17\n",
      "Generation: 32, best fitness: 17\n",
      "Generation: 33, best fitness: 17\n",
      "Generation: 34, best fitness: 17\n",
      "Generation: 35, best fitness: 17\n",
      "Generation: 36, best fitness: 17\n",
      "Generation: 37, best fitness: 17\n",
      "Generation: 38, best fitness: 16\n",
      "Generation: 39, best fitness: 16\n",
      "Generation: 40, best fitness: 16\n",
      "Generation: 41, best fitness: 16\n",
      "Generation: 42, best fitness: 16\n",
      "Generation: 43, best fitness: 16\n",
      "Generation: 44, best fitness: 15\n",
      "Generation: 45, best fitness: 15\n",
      "Generation: 46, best fitness: 15\n",
      "Generation: 47, best fitness: 15\n",
      "Generation: 48, best fitness: 14\n",
      "Generation: 49, best fitness: 14\n",
      "Generation: 50, best fitness: 14\n",
      "Generation: 51, best fitness: 14\n",
      "Generation: 52, best fitness: 14\n",
      "Generation: 53, best fitness: 12\n",
      "Generation: 54, best fitness: 12\n",
      "Generation: 55, best fitness: 12\n",
      "Generation: 56, best fitness: 11\n",
      "Generation: 57, best fitness: 11\n",
      "Generation: 58, best fitness: 11\n",
      "Generation: 59, best fitness: 9\n",
      "Generation: 60, best fitness: 6\n",
      "Generation: 61, best fitness: 6\n",
      "Generation: 62, best fitness: 6\n",
      "Generation: 63, best fitness: 6\n",
      "Generation: 64, best fitness: 6\n",
      "Generation: 65, best fitness: 4\n",
      "Generation: 66, best fitness: 0.0\n",
      "PROBLEM SOLVED\n",
      "=========================\n",
      "Best fitness: 0.0\n",
      "Best individual:\n",
      "\n",
      "print not false - (- 5789) + true + not not (- true) + not -9978 + not not (- true) + true + not not (- true) + 7828 + not not -9978 + not not (- true) + true + true + not not (- true) + true + not not (- true) + not not (- true) + true + true + not not (- true) + true + not not (- true) + 7828 + 9951;\n",
      "if (5789) {} else {}\n"
     ]
    },
    {
     "data": {
      "text/plain": "IndividualWithFitness(individual={0}, fitness=0.0)"
     },
     "execution_count": 4,
     "metadata": {},
     "output_type": "execute_result"
    }
   ],
   "source": [
    "def fitness(outputs: list[list[str]]) -> float:\n",
    "    output = outputs[0]\n",
    "    if not output:\n",
    "        return 40000.\n",
    "    \n",
    "    if \"31415\" in output:\n",
    "        return 0.\n",
    "    else:\n",
    "        closest = min(output, key=lambda x: abs(int(x) - 31415) if x not in [\"true\", \"false\"] else 35000)\n",
    "        if closest in [\"true\", \"false\"]:\n",
    "            return 35000.\n",
    "        else:\n",
    "            return abs(int(closest) - 31415)\n",
    "\n",
    "GeneticAlgorithm(\n",
    "    fitness_function=fitness,\n",
    "    error_threshold=.1,\n",
    "    initial_individual_size=2,\n",
    "    int_max_value=10000,\n",
    ").run(file_name=\"test_results/1.1.C\")"
   ],
   "metadata": {
    "collapsed": false,
    "ExecuteTime": {
     "end_time": "2024-01-02T14:14:53.529062Z",
     "start_time": "2024-01-02T14:13:29.711506Z"
    }
   },
   "id": "64a46c8921aae626"
  },
  {
   "cell_type": "markdown",
   "source": [
    "1.1.D Program powinien wygenerować na pierwszej pozycji na wyjściu liczbę 1. Poza liczbą 1 może też zwrócić inne liczby."
   ],
   "metadata": {
    "collapsed": false
   },
   "id": "dc9daf1511470fe9"
  },
  {
   "cell_type": "code",
   "execution_count": 5,
   "outputs": [
    {
     "name": "stdout",
     "output_type": "stream",
     "text": [
      "Generation: 0, best fitness: 0.0\n",
      "PROBLEM SOLVED\n",
      "=========================\n",
      "Best fitness: 0.0\n",
      "Best individual:\n",
      "\n",
      "print ((1));\n"
     ]
    },
    {
     "data": {
      "text/plain": "IndividualWithFitness(individual={0}, fitness=0.0)"
     },
     "execution_count": 5,
     "metadata": {},
     "output_type": "execute_result"
    }
   ],
   "source": [
    "def fitness(outputs: list[list[str]]) -> float:\n",
    "    output = outputs[0]\n",
    "    if not output:\n",
    "        return 2.\n",
    "\n",
    "    if \"1\" == output[0]:\n",
    "        return 0.\n",
    "    else:\n",
    "        return 1.\n",
    "\n",
    "\n",
    "GeneticAlgorithm(\n",
    "    fitness_function=fitness,\n",
    "    error_threshold=.1,\n",
    ").run(file_name=\"test_results/1.1.D\")"
   ],
   "metadata": {
    "collapsed": false,
    "ExecuteTime": {
     "end_time": "2024-01-02T14:14:56.201819Z",
     "start_time": "2024-01-02T14:14:53.549636Z"
    }
   },
   "id": "7a8db09687da409f"
  },
  {
   "cell_type": "markdown",
   "source": [
    "1.1.E Program powinien wygenerować na pierwszej pozycji na wyjściu liczbę 789. Poza liczbą 789 może też zwrócić inne liczby."
   ],
   "metadata": {
    "collapsed": false
   },
   "id": "3cefde929c61d00e"
  },
  {
   "cell_type": "code",
   "execution_count": 6,
   "outputs": [
    {
     "name": "stdout",
     "output_type": "stream",
     "text": [
      "Generation: 0, best fitness: 5\n",
      "Generation: 1, best fitness: 3\n",
      "Generation: 2, best fitness: 3\n",
      "Generation: 3, best fitness: 3\n",
      "Generation: 4, best fitness: 3\n",
      "Generation: 5, best fitness: 2\n",
      "Generation: 6, best fitness: 2\n",
      "Generation: 7, best fitness: 2\n",
      "Generation: 8, best fitness: 2\n",
      "Generation: 9, best fitness: 1\n",
      "PROBLEM SOLVED\n",
      "=========================\n",
      "Best fitness: 1\n",
      "Best individual:\n",
      "\n",
      "print (790);\n"
     ]
    },
    {
     "data": {
      "text/plain": "IndividualWithFitness(individual={0}, fitness=1)"
     },
     "execution_count": 6,
     "metadata": {},
     "output_type": "execute_result"
    }
   ],
   "source": [
    "def fitness(outputs: list[list[str]]) -> float:\n",
    "    output = outputs[0]\n",
    "    if not output:\n",
    "        return 1000.\n",
    "    \n",
    "    first_output = output[0]\n",
    "    \n",
    "    if \"789\" == first_output:\n",
    "        return 0.\n",
    "    elif first_output in [\"true\", \"false\"]:\n",
    "        return 900.\n",
    "    else:\n",
    "        return abs(int(first_output) - 789)\n",
    "\n",
    "GeneticAlgorithm(\n",
    "    fitness_function=fitness,\n",
    "    error_threshold=.1,\n",
    "    int_max_value=1000,\n",
    ").run(file_name=\"test_results/1.1.E\")"
   ],
   "metadata": {
    "collapsed": false,
    "ExecuteTime": {
     "end_time": "2024-01-02T14:14:58.173964Z",
     "start_time": "2024-01-02T14:14:56.242572Z"
    }
   },
   "id": "256537318b9d33ad"
  },
  {
   "cell_type": "markdown",
   "source": [
    "1.1.F Program powinien wygenerować na wyjściu liczbę jako jedyną liczbę 1. Poza liczbą 1 NIE powinien nic więcej wygenerować."
   ],
   "metadata": {
    "collapsed": false
   },
   "id": "f56dbc1723aca9e6"
  },
  {
   "cell_type": "code",
   "execution_count": 7,
   "outputs": [
    {
     "name": "stdout",
     "output_type": "stream",
     "text": [
      "Generation: 0, best fitness: 0\n",
      "PROBLEM SOLVED\n",
      "=========================\n",
      "Best fitness: 0\n",
      "Best individual:\n",
      "\n",
      "print true - false;\n"
     ]
    },
    {
     "data": {
      "text/plain": "IndividualWithFitness(individual={0}, fitness=0)"
     },
     "execution_count": 7,
     "metadata": {},
     "output_type": "execute_result"
    }
   ],
   "source": [
    "def fitness(outputs: list[list[str]]) -> float:\n",
    "    output = outputs[0]\n",
    "    if not output or len(output) > 1:\n",
    "        return 2. \n",
    "    \n",
    "    if \"1\" == output[0]:\n",
    "        return 0\n",
    "    else:\n",
    "        return 1\n",
    "\n",
    "GeneticAlgorithm(\n",
    "    fitness_function=fitness,\n",
    "    error_threshold=1,\n",
    ").run(file_name=\"test_results/1.1.F\")"
   ],
   "metadata": {
    "collapsed": false,
    "ExecuteTime": {
     "end_time": "2024-01-02T14:14:58.438516Z",
     "start_time": "2024-01-02T14:14:58.222724Z"
    }
   },
   "id": "9ad697838b9adc8e"
  },
  {
   "cell_type": "markdown",
   "source": [
    "1.2.A Program powinien odczytać dwie pierwsze liczy z wejścia i zwrócić na wyjściu (jedynie) ich sumę. Na wejściu mogą być tylko całkowite liczby dodatnie w zakresie [0,9]"
   ],
   "metadata": {
    "collapsed": false
   },
   "id": "9247c2ba0e5f0371"
  },
  {
   "cell_type": "code",
   "execution_count": 10,
   "outputs": [
    {
     "name": "stdout",
     "output_type": "stream",
     "text": [
      "Generation: 0, best fitness: 0.0\n",
      "PROBLEM SOLVED\n",
      "=========================\n",
      "Best fitness: 0.0\n",
      "Best individual:\n",
      "\n",
      "print v1 + v2;\n"
     ]
    }
   ],
   "source": [
    "from gp_algorithm.genetic_algorithm import GeneticAlgorithm\n",
    "\n",
    "inputs = [[\"1\", \"2\"], [\"2\", \"3\"], [\"9\", \"2\"], [\"1\", \"7\"], [\"0\", \"6\"], [\"6\", \"4\"]]\n",
    "\n",
    "def fitness(outputs: list[list[str]]) -> float:\n",
    "    total_error = 0.\n",
    "    for input_data, output_data in zip(inputs, outputs):\n",
    "        if len(output_data) != 1:\n",
    "            return 900.\n",
    "        \n",
    "        try:\n",
    "            result = int(output_data[0])\n",
    "        except ValueError:\n",
    "            total_error += 800.\n",
    "            continue\n",
    "        \n",
    "        expected_result = int(input_data[0]) + int(input_data[1])\n",
    "        error = abs(result - expected_result)\n",
    "        total_error += error ** 2\n",
    "    \n",
    "    return total_error\n",
    "\n",
    "\n",
    "genetic_algorithm = GeneticAlgorithm(\n",
    "    fitness_function=fitness,\n",
    "    error_threshold=.1,\n",
    "    initial_individual_size=1,\n",
    ")\n",
    "best = genetic_algorithm.run(\n",
    "    inputs=inputs, \n",
    "    file_name=\"test_results/1.2.A\",\n",
    ")"
   ],
   "metadata": {
    "collapsed": false,
    "ExecuteTime": {
     "end_time": "2024-01-02T14:16:23.094015Z",
     "start_time": "2024-01-02T14:16:22.405878Z"
    }
   },
   "id": "f7c09cafbc447f4"
  },
  {
   "cell_type": "code",
   "outputs": [
    {
     "data": {
      "text/plain": "0.0"
     },
     "execution_count": 12,
     "metadata": {},
     "output_type": "execute_result"
    }
   ],
   "source": [
    "from gp_algorithm.builder import individual_builder\n",
    "\n",
    "indiv = individual_builder.build_from_parser_str(data=\"print v6 + v1232132312;\")\n",
    "program_inputs = genetic_algorithm.interpreter.interpret_inputs(inputs)\n",
    "genetic_algorithm.program_inputs = program_inputs\n",
    "genetic_algorithm.calculate_fitness(indiv)"
   ],
   "metadata": {
    "collapsed": false,
    "ExecuteTime": {
     "end_time": "2024-01-02T14:16:56.601128Z",
     "start_time": "2024-01-02T14:16:56.591471Z"
    }
   },
   "id": "65ce195ec6758bfd",
   "execution_count": 12
  },
  {
   "cell_type": "markdown",
   "source": [
    "1.2.B Program powinien odczytać dwie pierwsze liczy z wejścia i zwrócić na wyjściu (jedynie) ich sumę. Na wejściu mogą być tylko całkowite liczby w zakresie [-9,9]"
   ],
   "metadata": {
    "collapsed": false
   },
   "id": "79c9054cacdde07"
  },
  {
   "cell_type": "code",
   "execution_count": 9,
   "outputs": [],
   "source": [],
   "metadata": {
    "collapsed": false,
    "ExecuteTime": {
     "end_time": "2024-01-02T14:14:58.866188Z",
     "start_time": "2024-01-02T14:14:58.863488Z"
    }
   },
   "id": "b5d5fc4da08ca12"
  },
  {
   "cell_type": "markdown",
   "source": [
    "1.2.C Program powinien odczytać dwie pierwsze liczy z wejścia i zwrócić na wyjściu (jedynie) ich sumę. Na wejściu mogą być tylko całkowite liczby dodatnie w zakresie [-9999,9999]"
   ],
   "metadata": {
    "collapsed": false
   },
   "id": "f0a5badf33d911fb"
  },
  {
   "cell_type": "markdown",
   "source": [
    "1.2.D Program powinien odczytać dwie pierwsze liczy z wejścia i zwrócić na wyjściu (jedynie) ich różnicę. Na wejściu mogą być tylko całkowite liczby dodatnie w zakresie [-9999,9999]"
   ],
   "metadata": {
    "collapsed": false
   },
   "id": "531038bbcb100b"
  },
  {
   "cell_type": "markdown",
   "source": [
    "1.2.E Program powinien odczytać dwie pierwsze liczy z wejścia i zwrócić na wyjściu (jedynie) ich iloczyn. Na wejściu mogą być tylko całkowite liczby dodatnie w zakresie [-9999,9999]"
   ],
   "metadata": {
    "collapsed": false
   },
   "id": "322a611940fcbfb6"
  },
  {
   "cell_type": "markdown",
   "source": [
    "1.3.A Program powinien odczytać dwie pierwsze liczy z wejścia i zwrócić na wyjściu (jedynie) większą z nich. Na wejściu mogą być tylko całkowite liczby dodatnie w zakresie [0,9]"
   ],
   "metadata": {
    "collapsed": false
   },
   "id": "fc409eb6b4bd4ddb"
  },
  {
   "cell_type": "markdown",
   "source": [
    "1.3.B Program powinien odczytać dwie pierwsze liczy z wejścia i zwrócić na wyjściu (jedynie) większą z nich. Na wejściu mogą być tylko całkowite liczby w zakresie [-9999,9999]"
   ],
   "metadata": {
    "collapsed": false
   },
   "id": "908d4f9439905040"
  },
  {
   "cell_type": "markdown",
   "source": [
    "1.4.A Program powinien odczytać dziesięć pierwszych liczy z wejścia i zwrócić na wyjściu (jedynie) ich średnią arytmetyczną (zaokrągloną do pełnej liczby całkowitej). Na wejściu mogą być tylko całkowite liczby w zakresie [-99,99]"
   ],
   "metadata": {
    "collapsed": false
   },
   "id": "fd24202390df206c"
  },
  {
   "cell_type": "markdown",
   "source": [
    "1.4.B Program powinien odczytać na początek z wejścia pierwszą liczbę (ma być to wartość nieujemna) a następnie tyle liczb (całkowitych) jaka jest wartość pierwszej odczytanej liczby i zwrócić na wyjściu (jedynie) ich średnią arytmetyczną zaokrągloną do pełnej liczby całkowitej (do średniej nie jest wliczana pierwsza odczytana liczba, która mówi z ilu liczb chcemy obliczyć średnią). Na wejściu mogą być tylko całkowite liczby w zakresie [-99,99], pierwsza liczba może być tylko w zakresie [0,99]."
   ],
   "metadata": {
    "collapsed": false
   },
   "id": "8eb4e95c5ddb3c41"
  },
  {
   "cell_type": "code",
   "execution_count": 9,
   "outputs": [],
   "source": [],
   "metadata": {
    "collapsed": false,
    "ExecuteTime": {
     "end_time": "2024-01-02T14:14:58.871426Z",
     "start_time": "2024-01-02T14:14:58.865612Z"
    }
   },
   "id": "a892f72b7f28561f"
  }
 ],
 "metadata": {
  "kernelspec": {
   "display_name": "Python 3",
   "language": "python",
   "name": "python3"
  },
  "language_info": {
   "codemirror_mode": {
    "name": "ipython",
    "version": 2
   },
   "file_extension": ".py",
   "mimetype": "text/x-python",
   "name": "python",
   "nbconvert_exporter": "python",
   "pygments_lexer": "ipython2",
   "version": "2.7.6"
  }
 },
 "nbformat": 4,
 "nbformat_minor": 5
}
