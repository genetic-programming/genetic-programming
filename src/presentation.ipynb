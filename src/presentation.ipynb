{
 "cells": [
  {
   "cell_type": "code",
   "execution_count": 1,
   "id": "82ad9fdb8b19545b",
   "metadata": {
    "collapsed": true,
    "ExecuteTime": {
     "end_time": "2023-12-29T14:01:20.139667Z",
     "start_time": "2023-12-29T14:01:19.972061Z"
    }
   },
   "outputs": [],
   "source": [
    "from anytree import RenderTree\n",
    "from anytree.exporter import UniqueDotExporter\n",
    "\n",
    "from gp_algorithm.individual import Individual\n",
    "from gp_algorithm.utils import (\n",
    "    random_crossover, \n",
    "    save_individual_to_file, \n",
    "    build_individual_from_file,\n",
    ")"
   ]
  },
  {
   "cell_type": "markdown",
   "source": [
    "### Tworzenie osobników"
   ],
   "metadata": {
    "collapsed": false
   },
   "id": "c8eef76da5cb7eb9"
  },
  {
   "cell_type": "code",
   "execution_count": 2,
   "outputs": [
    {
     "name": "stdout",
     "output_type": "stream",
     "text": [
      "\n",
      "if - v0 / false {} else {\n",
      "  v0 = v0;\n",
      "}\n"
     ]
    }
   ],
   "source": [
    "indiv_1 = Individual(size=2)\n",
    "print(indiv_1)"
   ],
   "metadata": {
    "collapsed": false,
    "ExecuteTime": {
     "end_time": "2023-12-29T14:01:20.148896Z",
     "start_time": "2023-12-29T14:01:20.141413Z"
    }
   },
   "id": "b05a6deb9c89731"
  },
  {
   "cell_type": "code",
   "execution_count": 3,
   "outputs": [
    {
     "name": "stdout",
     "output_type": "stream",
     "text": [
      "\n",
      "while not 20 + false {}\n",
      "print true;\n"
     ]
    }
   ],
   "source": [
    "indiv_2 = Individual(size=2)\n",
    "print(indiv_2)"
   ],
   "metadata": {
    "collapsed": false,
    "ExecuteTime": {
     "end_time": "2023-12-29T14:01:20.153388Z",
     "start_time": "2023-12-29T14:01:20.146604Z"
    }
   },
   "id": "d145b99cbd39259d"
  },
  {
   "cell_type": "markdown",
   "source": [
    "### Operacja krzyżowania"
   ],
   "metadata": {
    "collapsed": false
   },
   "id": "ff2bd200569bd498"
  },
  {
   "cell_type": "code",
   "execution_count": 4,
   "outputs": [
    {
     "data": {
      "text/plain": "({0}, {0})"
     },
     "execution_count": 4,
     "metadata": {},
     "output_type": "execute_result"
    }
   ],
   "source": [
    "random_crossover(indiv_1, indiv_2)"
   ],
   "metadata": {
    "collapsed": false,
    "ExecuteTime": {
     "end_time": "2023-12-29T14:01:20.192052Z",
     "start_time": "2023-12-29T14:01:20.157554Z"
    }
   },
   "id": "a6fa0777a68dc8ae"
  },
  {
   "cell_type": "code",
   "execution_count": 5,
   "outputs": [
    {
     "name": "stdout",
     "output_type": "stream",
     "text": [
      "\n",
      "if - v0 / false {} else {\n",
      "  v0 = v0;\n",
      "}\n"
     ]
    }
   ],
   "source": [
    "print(indiv_1)"
   ],
   "metadata": {
    "collapsed": false,
    "ExecuteTime": {
     "end_time": "2023-12-29T14:01:20.193046Z",
     "start_time": "2023-12-29T14:01:20.163315Z"
    }
   },
   "id": "d35e5844fc43e445"
  },
  {
   "cell_type": "code",
   "execution_count": 6,
   "outputs": [
    {
     "name": "stdout",
     "output_type": "stream",
     "text": [
      "\n",
      "while not 20 + false {}\n",
      "print true;\n"
     ]
    }
   ],
   "source": [
    "print(indiv_2)"
   ],
   "metadata": {
    "collapsed": false,
    "ExecuteTime": {
     "end_time": "2023-12-29T14:01:20.193827Z",
     "start_time": "2023-12-29T14:01:20.167932Z"
    }
   },
   "id": "b6a2f6ca8aa50b4f"
  },
  {
   "cell_type": "markdown",
   "source": [
    "### Operacja mutacji"
   ],
   "metadata": {
    "collapsed": false
   },
   "id": "8f5afda9c5c84e6a"
  },
  {
   "cell_type": "code",
   "execution_count": 7,
   "outputs": [
    {
     "name": "stdout",
     "output_type": "stream",
     "text": [
      "\n",
      "if - v0 / false {} else {\n",
      "  v0 = v0;\n",
      "}\n"
     ]
    }
   ],
   "source": [
    "indiv_1.mutate()\n",
    "print(indiv_1)"
   ],
   "metadata": {
    "collapsed": false,
    "ExecuteTime": {
     "end_time": "2023-12-29T14:01:20.194361Z",
     "start_time": "2023-12-29T14:01:20.172606Z"
    }
   },
   "id": "cc830558c8b0f4c3"
  },
  {
   "cell_type": "markdown",
   "source": [
    "### Serializacja i deserializacja"
   ],
   "metadata": {
    "collapsed": false
   },
   "id": "18dfdc4be441cc44"
  },
  {
   "cell_type": "code",
   "execution_count": 8,
   "outputs": [
    {
     "name": "stdout",
     "output_type": "stream",
     "text": [
      "{0}\n",
      "└── if {0} {{{1}}} else {{{2}}}\n",
      "    ├── {0} {1} {2}\n",
      "    │   ├── {0}{1}\n",
      "    │   │   ├── -\n",
      "    │   │   └── v0\n",
      "    │   ├── /\n",
      "    │   └── false\n",
      "    ├── \n",
      "    └── {0}\n",
      "        └── {0} = {1};\n",
      "            ├── v0\n",
      "            └── v0\n",
      "\n",
      "if -v0 / false {} else {\n",
      "  v0 = v0;\n",
      "}\n"
     ]
    }
   ],
   "source": [
    "from anytree import RenderTree\n",
    "from anytree.exporter import UniqueDotExporter\n",
    "\n",
    "file_name = \"example_programs/individual\"\n",
    "\n",
    "save_individual_to_file(indiv_1, file_path=file_name)\n",
    "\n",
    "indiv_1_loaded = build_individual_from_file(file_path=file_name)\n",
    "\n",
    "UniqueDotExporter(indiv_1_loaded).to_picture(\"example_programs/individual.png\")\n",
    "print(RenderTree(indiv_1_loaded))\n",
    "print(indiv_1_loaded)"
   ],
   "metadata": {
    "collapsed": false,
    "ExecuteTime": {
     "end_time": "2023-12-29T14:01:20.466841Z",
     "start_time": "2023-12-29T14:01:20.177976Z"
    }
   },
   "id": "40e9a776b8a26cd8"
  },
  {
   "cell_type": "markdown",
   "source": [
    "### Algorytm genetyczny"
   ],
   "metadata": {
    "collapsed": false
   },
   "id": "4a383ff1d2b9ce3c"
  },
  {
   "cell_type": "code",
   "execution_count": 12,
   "outputs": [
    {
     "name": "stdout",
     "output_type": "stream",
     "text": [
      "Generation: 0, best fitness: 1.0\n",
      "Best individual: print -41;\n",
      "Generation: 1, best fitness: 1.0\n",
      "Best individual: print not not not (-9);\n",
      "Generation: 2, best fitness: 1.0\n",
      "Best individual: print true; read v0; v0 = (not (19)) * true;\n",
      "Generation: 3, best fitness: 1.0\n",
      "Best individual: print ((5)); print (true);\n",
      "Generation: 4, best fitness: 1.0\n",
      "Best individual: print (-9); print (v0 and -90); if 95 == (v0) == (v0) + v0 > - (not (v0)) - v0 {} else {v0 = v0;}\n",
      "Generation: 5, best fitness: 1.0\n",
      "Best individual: print 57; print true; v0 = v0;\n",
      "Generation: 6, best fitness: 1.0\n",
      "Best individual: while 92 {} print true; while not not false {if true {} else {if (-2) {print (-8);} else {}}}\n",
      "Generation: 7, best fitness: 1.0\n",
      "Best individual: print 39; print v0; print v0; read v0;\n",
      "Generation: 8, best fitness: 1.0\n",
      "Best individual: print false; if (16) {read v0; if -81 {} else {}} else {} print - (v0) and v0; if 80 {read v0;} else {}\n",
      "Generation: 9, best fitness: 0.0\n",
      "Best individual: print (1); v0 = (v0);\n",
      "\n",
      "PROBLEM SOLVED\n",
      "=========================\n",
      "Best fitness: 0.0\n",
      "Best individual:\n",
      "\n",
      "print (1);\n",
      "v0 = (v0);\n"
     ]
    }
   ],
   "source": [
    "from gp_algorithm.genetic_algorithm import GeneticAlgorithm\n",
    "\n",
    "def fitness(outputs: list[list[str]]) -> float:\n",
    "    output = outputs[0]\n",
    "    if not output:\n",
    "        return 2.\n",
    "    \n",
    "    if \"1\" in output:\n",
    "        return 0.\n",
    "    else:\n",
    "        return 1.\n",
    "\n",
    "gp = GeneticAlgorithm(\n",
    "    fitness_function=fitness,\n",
    "    error_threshold=1e-3,\n",
    "    population_size=1000,\n",
    "    initial_individual_size=1,\n",
    "    max_generations=10,\n",
    ")\n",
    "\n",
    "best = gp.run()"
   ],
   "metadata": {
    "collapsed": false,
    "ExecuteTime": {
     "end_time": "2023-12-29T14:37:13.300922Z",
     "start_time": "2023-12-29T14:37:09.657804Z"
    }
   },
   "id": "31a8a1365809a271"
  }
 ],
 "metadata": {
  "kernelspec": {
   "display_name": "Python 3",
   "language": "python",
   "name": "python3"
  },
  "language_info": {
   "codemirror_mode": {
    "name": "ipython",
    "version": 2
   },
   "file_extension": ".py",
   "mimetype": "text/x-python",
   "name": "python",
   "nbconvert_exporter": "python",
   "pygments_lexer": "ipython2",
   "version": "2.7.6"
  }
 },
 "nbformat": 4,
 "nbformat_minor": 5
}
