{
 "cells": [
  {
   "cell_type": "code",
   "execution_count": 91,
   "id": "82ad9fdb8b19545b",
   "metadata": {
    "collapsed": true,
    "ExecuteTime": {
     "end_time": "2023-12-08T00:17:47.319350Z",
     "start_time": "2023-12-08T00:17:47.293522Z"
    }
   },
   "outputs": [],
   "source": [
    "from gp_algorithm.individual import Individual\n",
    "from gp_algorithm.tournament import Tournament\n",
    "from gp_algorithm.utils import (\n",
    "    random_crossover, \n",
    "    save_individual_to_file, \n",
    "    build_individual_from_file,\n",
    ")"
   ]
  },
  {
   "cell_type": "markdown",
   "source": [
    "### Tworzenie osobników"
   ],
   "metadata": {
    "collapsed": false
   },
   "id": "c8eef76da5cb7eb9"
  },
  {
   "cell_type": "code",
   "execution_count": 92,
   "outputs": [
    {
     "name": "stdout",
     "output_type": "stream",
     "text": [
      "\n",
      "v0 = 81;\n",
      "while (false) {}\n"
     ]
    }
   ],
   "source": [
    "indiv_1 = Individual(size=2)\n",
    "print(indiv_1)"
   ],
   "metadata": {
    "collapsed": false,
    "ExecuteTime": {
     "end_time": "2023-12-08T00:17:47.319782Z",
     "start_time": "2023-12-08T00:17:47.298439Z"
    }
   },
   "id": "b05a6deb9c89731"
  },
  {
   "cell_type": "code",
   "execution_count": 93,
   "outputs": [
    {
     "name": "stdout",
     "output_type": "stream",
     "text": [
      "\n",
      "if - v0 {} else {\n",
      "  v0 = 98 / true;\n",
      "}\n"
     ]
    }
   ],
   "source": [
    "indiv_2 = Individual(size=2)\n",
    "print(indiv_2)"
   ],
   "metadata": {
    "collapsed": false,
    "ExecuteTime": {
     "end_time": "2023-12-08T00:17:47.320115Z",
     "start_time": "2023-12-08T00:17:47.302874Z"
    }
   },
   "id": "d145b99cbd39259d"
  },
  {
   "cell_type": "markdown",
   "source": [
    "### Operacja krzyżowania"
   ],
   "metadata": {
    "collapsed": false
   },
   "id": "ff2bd200569bd498"
  },
  {
   "cell_type": "code",
   "execution_count": 94,
   "outputs": [],
   "source": [
    "random_crossover(indiv_1, indiv_2)"
   ],
   "metadata": {
    "collapsed": false,
    "ExecuteTime": {
     "end_time": "2023-12-08T00:17:47.351223Z",
     "start_time": "2023-12-08T00:17:47.322378Z"
    }
   },
   "id": "a6fa0777a68dc8ae"
  },
  {
   "cell_type": "code",
   "execution_count": 95,
   "outputs": [
    {
     "name": "stdout",
     "output_type": "stream",
     "text": [
      "\n",
      "v0 = 81;\n",
      "while v0 {}\n"
     ]
    }
   ],
   "source": [
    "print(indiv_1)"
   ],
   "metadata": {
    "collapsed": false,
    "ExecuteTime": {
     "end_time": "2023-12-08T00:17:47.364971Z",
     "start_time": "2023-12-08T00:17:47.353246Z"
    }
   },
   "id": "d35e5844fc43e445"
  },
  {
   "cell_type": "code",
   "execution_count": 96,
   "outputs": [
    {
     "name": "stdout",
     "output_type": "stream",
     "text": [
      "\n",
      "if - (false) {} else {\n",
      "  v0 = 98 / true;\n",
      "}\n"
     ]
    }
   ],
   "source": [
    "print(indiv_2)"
   ],
   "metadata": {
    "collapsed": false,
    "ExecuteTime": {
     "end_time": "2023-12-08T00:17:47.376576Z",
     "start_time": "2023-12-08T00:17:47.367812Z"
    }
   },
   "id": "b6a2f6ca8aa50b4f"
  },
  {
   "cell_type": "markdown",
   "source": [
    "### Operacja mutacji"
   ],
   "metadata": {
    "collapsed": false
   },
   "id": "8f5afda9c5c84e6a"
  },
  {
   "cell_type": "code",
   "execution_count": 97,
   "outputs": [
    {
     "name": "stdout",
     "output_type": "stream",
     "text": [
      "\n",
      "v0 = 44;\n",
      "while v0 {}\n"
     ]
    }
   ],
   "source": [
    "indiv_1.mutate()\n",
    "print(indiv_1)"
   ],
   "metadata": {
    "collapsed": false,
    "ExecuteTime": {
     "end_time": "2023-12-08T00:17:47.395177Z",
     "start_time": "2023-12-08T00:17:47.373048Z"
    }
   },
   "id": "cc830558c8b0f4c3"
  },
  {
   "cell_type": "markdown",
   "source": [
    "### Serializacja i deserializacja"
   ],
   "metadata": {
    "collapsed": false
   },
   "id": "18dfdc4be441cc44"
  },
  {
   "cell_type": "code",
   "execution_count": 98,
   "outputs": [
    {
     "name": "stdout",
     "output_type": "stream",
     "text": [
      "{0} {1}\n",
      "├── {0} = {1};\n",
      "│   ├── v0\n",
      "│   └── 44\n",
      "└── while {0} {{{1}}}\n",
      "    ├── v0\n",
      "    └── \n",
      "\n",
      "v0 = 44;\n",
      "while v0 {}\n"
     ]
    }
   ],
   "source": [
    "from anytree import RenderTree\n",
    "from anytree.exporter import UniqueDotExporter\n",
    "\n",
    "file_name = \"example_programs/individual\"\n",
    "\n",
    "save_individual_to_file(indiv_1, file_path=file_name)\n",
    "\n",
    "indiv_1_loaded = build_individual_from_file(file_path=file_name)\n",
    "\n",
    "UniqueDotExporter(indiv_1_loaded).to_picture(\"example_programs/individual.png\")\n",
    "print(RenderTree(indiv_1_loaded))\n",
    "print(indiv_1_loaded)"
   ],
   "metadata": {
    "collapsed": false,
    "ExecuteTime": {
     "end_time": "2023-12-08T00:17:47.607324Z",
     "start_time": "2023-12-08T00:17:47.378309Z"
    }
   },
   "id": "40e9a776b8a26cd8"
  },
  {
   "cell_type": "markdown",
   "source": [
    "### Selekcja turniejowa"
   ],
   "metadata": {
    "collapsed": false
   },
   "id": "4a383ff1d2b9ce3c"
  },
  {
   "cell_type": "code",
   "execution_count": 99,
   "outputs": [
    {
     "name": "stdout",
     "output_type": "stream",
     "text": [
      "\n",
      "if v0 {\n",
      "  v0 = v0;\n",
      "} else {}\n",
      "print v0;\n",
      "while v0 {\n",
      "  if (true) or -32 + (false) {} else {}\n",
      "}\n"
     ]
    }
   ],
   "source": [
    "tournament = Tournament(\n",
    "    fitness_function=lambda _: 1.0,\n",
    "    population=[Individual(size=5) for _ in range(20)],\n",
    "    size=7,\n",
    ")\n",
    "best_individuals = tournament.select()\n",
    "print(best_individuals[0])"
   ],
   "metadata": {
    "collapsed": false,
    "ExecuteTime": {
     "end_time": "2023-12-08T00:17:47.621743Z",
     "start_time": "2023-12-08T00:17:47.616536Z"
    }
   },
   "id": "38c5a15c0a626ac9"
  }
 ],
 "metadata": {
  "kernelspec": {
   "display_name": "Python 3",
   "language": "python",
   "name": "python3"
  },
  "language_info": {
   "codemirror_mode": {
    "name": "ipython",
    "version": 2
   },
   "file_extension": ".py",
   "mimetype": "text/x-python",
   "name": "python",
   "nbconvert_exporter": "python",
   "pygments_lexer": "ipython2",
   "version": "2.7.6"
  }
 },
 "nbformat": 4,
 "nbformat_minor": 5
}
