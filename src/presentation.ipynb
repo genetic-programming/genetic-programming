{
 "cells": [
  {
   "cell_type": "code",
   "execution_count": 1,
   "id": "82ad9fdb8b19545b",
   "metadata": {
    "collapsed": true,
    "ExecuteTime": {
     "end_time": "2023-12-08T10:38:56.026542Z",
     "start_time": "2023-12-08T10:38:55.819122Z"
    }
   },
   "outputs": [],
   "source": [
    "from gp_algorithm.individual import Individual\n",
    "from gp_algorithm.interpreter.interpreter import Interpreter\n",
    "from gp_algorithm.tournament import Tournament\n",
    "from gp_algorithm.utils import (\n",
    "    random_crossover, \n",
    "    save_individual_to_file, \n",
    "    build_individual_from_file,\n",
    ")"
   ]
  },
  {
   "cell_type": "markdown",
   "source": [
    "### Tworzenie osobników"
   ],
   "metadata": {
    "collapsed": false
   },
   "id": "c8eef76da5cb7eb9"
  },
  {
   "cell_type": "code",
   "execution_count": 2,
   "outputs": [
    {
     "name": "stdout",
     "output_type": "stream",
     "text": [
      "\n",
      "v0 = false;\n",
      "if false {} else {}\n"
     ]
    }
   ],
   "source": [
    "indiv_1 = Individual(size=2)\n",
    "print(indiv_1)"
   ],
   "metadata": {
    "collapsed": false,
    "ExecuteTime": {
     "end_time": "2023-12-08T10:38:56.031946Z",
     "start_time": "2023-12-08T10:38:56.028429Z"
    }
   },
   "id": "b05a6deb9c89731"
  },
  {
   "cell_type": "code",
   "execution_count": 3,
   "outputs": [
    {
     "name": "stdout",
     "output_type": "stream",
     "text": [
      "\n",
      "v0 = v0 != true == (- v0) == v0;\n",
      "v0 = ((true));\n"
     ]
    }
   ],
   "source": [
    "indiv_2 = Individual(size=2)\n",
    "print(indiv_2)"
   ],
   "metadata": {
    "collapsed": false,
    "ExecuteTime": {
     "end_time": "2023-12-08T10:38:56.036752Z",
     "start_time": "2023-12-08T10:38:56.032267Z"
    }
   },
   "id": "d145b99cbd39259d"
  },
  {
   "cell_type": "markdown",
   "source": [
    "### Operacja krzyżowania"
   ],
   "metadata": {
    "collapsed": false
   },
   "id": "ff2bd200569bd498"
  },
  {
   "cell_type": "code",
   "execution_count": 4,
   "outputs": [],
   "source": [
    "random_crossover(indiv_1, indiv_2)"
   ],
   "metadata": {
    "collapsed": false,
    "ExecuteTime": {
     "end_time": "2023-12-08T10:38:56.041105Z",
     "start_time": "2023-12-08T10:38:56.036864Z"
    }
   },
   "id": "a6fa0777a68dc8ae"
  },
  {
   "cell_type": "code",
   "execution_count": 5,
   "outputs": [
    {
     "name": "stdout",
     "output_type": "stream",
     "text": [
      "\n",
      "v0 = false;\n",
      "if false {} else {}\n"
     ]
    }
   ],
   "source": [
    "print(indiv_1)"
   ],
   "metadata": {
    "collapsed": false,
    "ExecuteTime": {
     "end_time": "2023-12-08T10:38:56.046562Z",
     "start_time": "2023-12-08T10:38:56.041896Z"
    }
   },
   "id": "d35e5844fc43e445"
  },
  {
   "cell_type": "code",
   "execution_count": 6,
   "outputs": [
    {
     "name": "stdout",
     "output_type": "stream",
     "text": [
      "\n",
      "v0 = v0 != true == (- v0) == v0;\n",
      "v0 = ((true));\n"
     ]
    }
   ],
   "source": [
    "print(indiv_2)"
   ],
   "metadata": {
    "collapsed": false,
    "ExecuteTime": {
     "end_time": "2023-12-08T10:38:56.051998Z",
     "start_time": "2023-12-08T10:38:56.045999Z"
    }
   },
   "id": "b6a2f6ca8aa50b4f"
  },
  {
   "cell_type": "markdown",
   "source": [
    "### Operacja mutacji"
   ],
   "metadata": {
    "collapsed": false
   },
   "id": "8f5afda9c5c84e6a"
  },
  {
   "cell_type": "code",
   "execution_count": 7,
   "outputs": [
    {
     "name": "stdout",
     "output_type": "stream",
     "text": [
      "\n",
      "v0 = false;\n",
      "if false {} else {}\n"
     ]
    }
   ],
   "source": [
    "indiv_1.mutate()\n",
    "print(indiv_1)"
   ],
   "metadata": {
    "collapsed": false,
    "ExecuteTime": {
     "end_time": "2023-12-08T10:38:56.100530Z",
     "start_time": "2023-12-08T10:38:56.049956Z"
    }
   },
   "id": "cc830558c8b0f4c3"
  },
  {
   "cell_type": "markdown",
   "source": [
    "### Serializacja i deserializacja"
   ],
   "metadata": {
    "collapsed": false
   },
   "id": "18dfdc4be441cc44"
  },
  {
   "cell_type": "code",
   "execution_count": 8,
   "outputs": [
    {
     "name": "stdout",
     "output_type": "stream",
     "text": [
      "{0} {1}\n",
      "├── {0} = {1};\n",
      "│   ├── v0\n",
      "│   └── false\n",
      "└── if {0} {{{1}}} else {{{2}}}\n",
      "    ├── false\n",
      "    ├── \n",
      "    └── \n",
      "\n",
      "v0 = false;\n",
      "if false {} else {}\n"
     ]
    }
   ],
   "source": [
    "from anytree import RenderTree\n",
    "from anytree.exporter import UniqueDotExporter\n",
    "\n",
    "file_name = \"example_programs/individual\"\n",
    "\n",
    "save_individual_to_file(indiv_1, file_path=file_name)\n",
    "\n",
    "indiv_1_loaded = build_individual_from_file(file_path=file_name)\n",
    "\n",
    "UniqueDotExporter(indiv_1_loaded).to_picture(\"example_programs/individual.png\")\n",
    "print(RenderTree(indiv_1_loaded))\n",
    "print(indiv_1_loaded)"
   ],
   "metadata": {
    "collapsed": false,
    "ExecuteTime": {
     "end_time": "2023-12-08T10:38:56.352673Z",
     "start_time": "2023-12-08T10:38:56.054540Z"
    }
   },
   "id": "40e9a776b8a26cd8"
  },
  {
   "cell_type": "markdown",
   "source": [
    "### Selekcja turniejowa"
   ],
   "metadata": {
    "collapsed": false
   },
   "id": "4a383ff1d2b9ce3c"
  },
  {
   "cell_type": "code",
   "execution_count": 9,
   "outputs": [],
   "source": [
    "population = [Individual(size=3) for _ in range(20)]"
   ],
   "metadata": {
    "collapsed": false,
    "ExecuteTime": {
     "end_time": "2023-12-08T10:38:56.364197Z",
     "start_time": "2023-12-08T10:38:56.358030Z"
    }
   },
   "id": "d0aac978249a51d0"
  },
  {
   "cell_type": "code",
   "execution_count": 10,
   "outputs": [],
   "source": [
    "def fitness_function(outputs: list[list[str]]) -> float:\n",
    "    if len(outputs) == 0:\n",
    "        return 2.0 \n",
    "    \n",
    "    if len(outputs[0]) == 1:\n",
    "        return 1.0\n",
    "        \n",
    "    if len(outputs[0]) == 2:\n",
    "        return 0.0\n",
    "    \n",
    "    return 1.0"
   ],
   "metadata": {
    "collapsed": false,
    "ExecuteTime": {
     "end_time": "2023-12-08T10:38:56.383867Z",
     "start_time": "2023-12-08T10:38:56.364031Z"
    }
   },
   "id": "4d8a54eea5b1f6f3"
  },
  {
   "cell_type": "code",
   "execution_count": 11,
   "outputs": [],
   "source": [
    "tournament = Tournament(\n",
    "    interpreter=Interpreter(),\n",
    "    fitness_function=fitness_function,\n",
    "    population=population,\n",
    "    size=7,\n",
    ")\n",
    "best_individuals = tournament.select(inputs=[[\"1\"], [\"2\"]])"
   ],
   "metadata": {
    "collapsed": false,
    "ExecuteTime": {
     "end_time": "2023-12-08T10:38:56.408490Z",
     "start_time": "2023-12-08T10:38:56.389649Z"
    }
   },
   "id": "b11da103196697d6"
  },
  {
   "cell_type": "code",
   "execution_count": 12,
   "outputs": [
    {
     "name": "stdout",
     "output_type": "stream",
     "text": [
      "Winner from 1. batch:\n",
      "\n",
      "if 66 {\n",
      "  print v0;\n",
      "} else {\n",
      "  print -14;\n",
      "}\n",
      "\n",
      "Winner from 2. batch:\n",
      "\n",
      "while v0 {\n",
      "  print v0;\n",
      "}\n",
      "v0 = (v0);\n",
      "\n",
      "Winner from 3. batch:\n",
      "\n",
      "print true;\n",
      "print not false == ((71 - (v0 + 88 != 71)));\n",
      "if false {} else {}\n"
     ]
    }
   ],
   "source": [
    "for i, individual in enumerate(best_individuals, 1):\n",
    "    print(f\"Winner from {i}. batch:\")\n",
    "    print(individual)"
   ],
   "metadata": {
    "collapsed": false,
    "ExecuteTime": {
     "end_time": "2023-12-08T10:38:56.415903Z",
     "start_time": "2023-12-08T10:38:56.410852Z"
    }
   },
   "id": "38c5a15c0a626ac9"
  }
 ],
 "metadata": {
  "kernelspec": {
   "display_name": "Python 3",
   "language": "python",
   "name": "python3"
  },
  "language_info": {
   "codemirror_mode": {
    "name": "ipython",
    "version": 2
   },
   "file_extension": ".py",
   "mimetype": "text/x-python",
   "name": "python",
   "nbconvert_exporter": "python",
   "pygments_lexer": "ipython2",
   "version": "2.7.6"
  }
 },
 "nbformat": 4,
 "nbformat_minor": 5
}
