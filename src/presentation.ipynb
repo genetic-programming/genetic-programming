{
 "cells": [
  {
   "cell_type": "code",
   "execution_count": 1,
   "id": "82ad9fdb8b19545b",
   "metadata": {
    "collapsed": true,
    "ExecuteTime": {
     "end_time": "2023-12-28T16:06:19.183656700Z",
     "start_time": "2023-12-28T16:06:18.989717800Z"
    }
   },
   "outputs": [],
   "source": [
    "from anytree import RenderTree\n",
    "from anytree.exporter import UniqueDotExporter\n",
    "\n",
    "from gp_algorithm.individual import Individual\n",
    "from gp_algorithm.interpreter.interpreter import Interpreter\n",
    "from gp_algorithm.tournament import Tournament\n",
    "from gp_algorithm.utils import (\n",
    "    random_crossover, \n",
    "    save_individual_to_file, \n",
    "    build_individual_from_file,\n",
    ")"
   ]
  },
  {
   "cell_type": "markdown",
   "source": [
    "### Tworzenie osobników"
   ],
   "metadata": {
    "collapsed": false
   },
   "id": "c8eef76da5cb7eb9"
  },
  {
   "cell_type": "code",
   "execution_count": 2,
   "outputs": [
    {
     "name": "stdout",
     "output_type": "stream",
     "text": [
      "\n",
      "print v0;\n",
      "print 47;\n"
     ]
    }
   ],
   "source": [
    "indiv_1 = Individual(size=2)\n",
    "print(indiv_1)"
   ],
   "metadata": {
    "collapsed": false,
    "ExecuteTime": {
     "end_time": "2023-12-28T16:06:19.191549400Z",
     "start_time": "2023-12-28T16:06:19.184658800Z"
    }
   },
   "id": "b05a6deb9c89731"
  },
  {
   "cell_type": "code",
   "execution_count": 3,
   "outputs": [
    {
     "name": "stdout",
     "output_type": "stream",
     "text": [
      "\n",
      "read v0;\n",
      "read v0;\n"
     ]
    }
   ],
   "source": [
    "indiv_2 = Individual(size=2)\n",
    "print(indiv_2)"
   ],
   "metadata": {
    "collapsed": false,
    "ExecuteTime": {
     "end_time": "2023-12-28T16:06:19.201916900Z",
     "start_time": "2023-12-28T16:06:19.192546200Z"
    }
   },
   "id": "d145b99cbd39259d"
  },
  {
   "cell_type": "markdown",
   "source": [
    "### Operacja krzyżowania"
   ],
   "metadata": {
    "collapsed": false
   },
   "id": "ff2bd200569bd498"
  },
  {
   "cell_type": "code",
   "execution_count": 4,
   "outputs": [],
   "source": [
    "random_crossover(indiv_1, indiv_2)"
   ],
   "metadata": {
    "collapsed": false,
    "ExecuteTime": {
     "end_time": "2023-12-28T16:06:19.202918600Z",
     "start_time": "2023-12-28T16:06:19.199402100Z"
    }
   },
   "id": "a6fa0777a68dc8ae"
  },
  {
   "cell_type": "code",
   "execution_count": 5,
   "outputs": [
    {
     "name": "stdout",
     "output_type": "stream",
     "text": [
      "\n",
      "print v0;\n",
      "print 47;\n"
     ]
    }
   ],
   "source": [
    "print(indiv_1)"
   ],
   "metadata": {
    "collapsed": false,
    "ExecuteTime": {
     "end_time": "2023-12-28T16:06:19.265731800Z",
     "start_time": "2023-12-28T16:06:19.201916900Z"
    }
   },
   "id": "d35e5844fc43e445"
  },
  {
   "cell_type": "code",
   "execution_count": 6,
   "outputs": [
    {
     "name": "stdout",
     "output_type": "stream",
     "text": [
      "\n",
      "read v0;\n",
      "read v0;\n"
     ]
    }
   ],
   "source": [
    "print(indiv_2)"
   ],
   "metadata": {
    "collapsed": false,
    "ExecuteTime": {
     "end_time": "2023-12-28T16:06:19.266731400Z",
     "start_time": "2023-12-28T16:06:19.211050Z"
    }
   },
   "id": "b6a2f6ca8aa50b4f"
  },
  {
   "cell_type": "markdown",
   "source": [
    "### Operacja mutacji"
   ],
   "metadata": {
    "collapsed": false
   },
   "id": "8f5afda9c5c84e6a"
  },
  {
   "cell_type": "code",
   "execution_count": 7,
   "outputs": [
    {
     "name": "stdout",
     "output_type": "stream",
     "text": [
      "\n",
      "print v0;\n",
      "print 47;\n"
     ]
    }
   ],
   "source": [
    "indiv_1.mutate()\n",
    "print(indiv_1)"
   ],
   "metadata": {
    "collapsed": false,
    "ExecuteTime": {
     "end_time": "2023-12-28T16:06:19.267730800Z",
     "start_time": "2023-12-28T16:06:19.215981200Z"
    }
   },
   "id": "cc830558c8b0f4c3"
  },
  {
   "cell_type": "markdown",
   "source": [
    "### Serializacja i deserializacja"
   ],
   "metadata": {
    "collapsed": false
   },
   "id": "18dfdc4be441cc44"
  },
  {
   "cell_type": "code",
   "execution_count": 8,
   "outputs": [
    {
     "name": "stdout",
     "output_type": "stream",
     "text": [
      "{0} {1}\n",
      "├── print {0};\n",
      "│   └── v0\n",
      "└── print {0};\n",
      "    └── 47\n",
      "\n",
      "print v0;\n",
      "print 47;\n"
     ]
    }
   ],
   "source": [
    "from anytree import RenderTree\n",
    "from anytree.exporter import UniqueDotExporter\n",
    "\n",
    "file_name = \"example_programs/individual\"\n",
    "\n",
    "save_individual_to_file(indiv_1, file_path=file_name)\n",
    "\n",
    "indiv_1_loaded = build_individual_from_file(file_path=file_name)\n",
    "\n",
    "UniqueDotExporter(indiv_1_loaded).to_picture(\"example_programs/individual.png\")\n",
    "print(RenderTree(indiv_1_loaded))\n",
    "print(indiv_1_loaded)"
   ],
   "metadata": {
    "collapsed": false,
    "ExecuteTime": {
     "end_time": "2023-12-28T16:06:19.393758400Z",
     "start_time": "2023-12-28T16:06:19.223566Z"
    }
   },
   "id": "40e9a776b8a26cd8"
  },
  {
   "cell_type": "markdown",
   "source": [
    "### Selekcja turniejowa"
   ],
   "metadata": {
    "collapsed": false
   },
   "id": "4a383ff1d2b9ce3c"
  },
  {
   "cell_type": "code",
   "execution_count": 9,
   "outputs": [],
   "source": [
    "population = [Individual(size=3) for _ in range(20)]"
   ],
   "metadata": {
    "collapsed": false,
    "ExecuteTime": {
     "end_time": "2023-12-28T16:06:19.403320700Z",
     "start_time": "2023-12-28T16:06:19.394784700Z"
    }
   },
   "id": "d0aac978249a51d0"
  },
  {
   "cell_type": "code",
   "execution_count": 10,
   "outputs": [],
   "source": [
    "def fitness_function(outputs: list[list[str]]) -> float:\n",
    "    if len(outputs) == 0:\n",
    "        return 2.0 \n",
    "    \n",
    "    if len(outputs[0]) == 1:\n",
    "        return 1.0\n",
    "        \n",
    "    if len(outputs[0]) == 2:\n",
    "        return 0.0\n",
    "    \n",
    "    return 1.0"
   ],
   "metadata": {
    "collapsed": false,
    "ExecuteTime": {
     "end_time": "2023-12-28T16:06:19.411001100Z",
     "start_time": "2023-12-28T16:06:19.405322200Z"
    }
   },
   "id": "4d8a54eea5b1f6f3"
  },
  {
   "cell_type": "code",
   "execution_count": 11,
   "outputs": [],
   "source": [
    "tournament = Tournament(\n",
    "    interpreter=Interpreter(),\n",
    "    fitness_function=fitness_function,\n",
    "    population=population,\n",
    "    size=7,\n",
    ")\n",
    "best_individuals = tournament.select(inputs=[[\"1\"], [\"2\"]])"
   ],
   "metadata": {
    "collapsed": false,
    "ExecuteTime": {
     "end_time": "2023-12-28T16:06:19.457215100Z",
     "start_time": "2023-12-28T16:06:19.412005200Z"
    }
   },
   "id": "b11da103196697d6"
  },
  {
   "cell_type": "code",
   "execution_count": 12,
   "outputs": [
    {
     "name": "stdout",
     "output_type": "stream",
     "text": [
      "Winner from 1. batch:\n",
      "({0}, 1.0)\n",
      "Winner from 2. batch:\n",
      "({0}, 1.0)\n",
      "Winner from 3. batch:\n",
      "({0}, 1.0)\n"
     ]
    }
   ],
   "source": [
    "for i, individual in enumerate(best_individuals, 1):\n",
    "    print(f\"Winner from {i}. batch:\")\n",
    "    print(individual)"
   ],
   "metadata": {
    "collapsed": false,
    "ExecuteTime": {
     "end_time": "2023-12-28T16:06:19.458245900Z",
     "start_time": "2023-12-28T16:06:19.445595200Z"
    }
   },
   "id": "38c5a15c0a626ac9"
  },
  {
   "cell_type": "code",
   "execution_count": 2,
   "outputs": [
    {
     "name": "stdout",
     "output_type": "stream",
     "text": [
      "Generation: 0, best fitness: 0.0\n",
      "PROBLEM SOLVED\n",
      "=========================\n",
      "Best fitness: 0.0\n",
      "Best individual:\n",
      "\n",
      "print 1;\n",
      "print 38 != ((v0)) or (not -11 > true + -84) * (v0);\n",
      "print 39;\n",
      "print v0;\n",
      "print false != v0 / v0;\n",
      "v0 = not v0;\n",
      "v0 = v0;\n",
      "while v0 {\n",
      "  v0 = not 44;\n",
      "}\n",
      "while (false) {}\n"
     ]
    },
    {
     "data": {
      "text/plain": "{0}"
     },
     "execution_count": 2,
     "metadata": {},
     "output_type": "execute_result"
    }
   ],
   "source": [
    "from gp_algorithm.genetic_algorithm import GeneticAlgorithm\n",
    "\n",
    "def fitness(outputs: list[list[str]]) -> float:\n",
    "    if len(outputs) == 0:\n",
    "        return 10.0\n",
    "    elif \"1\" not in outputs[0]:\n",
    "        return 5.0\n",
    "    elif \"1\" in outputs[0]:\n",
    "        return 0.0\n",
    "\n",
    "gp = GeneticAlgorithm(\n",
    "    fitness_function=fitness,\n",
    "    error_threshold=1.0,\n",
    "    population_size=100,\n",
    "    max_generations=100,\n",
    ")\n",
    "\n",
    "gp.run(inputs=[\"6\"])"
   ],
   "metadata": {
    "collapsed": false,
    "ExecuteTime": {
     "end_time": "2023-12-28T16:26:34.383776800Z",
     "start_time": "2023-12-28T16:26:34.137082Z"
    }
   },
   "id": "31a8a1365809a271"
  },
  {
   "cell_type": "code",
   "execution_count": 4,
   "outputs": [],
   "source": [],
   "metadata": {
    "collapsed": false,
    "ExecuteTime": {
     "end_time": "2023-12-28T16:21:23.075519900Z",
     "start_time": "2023-12-28T16:21:23.069509900Z"
    }
   },
   "id": "371c573385b6b67"
  },
  {
   "cell_type": "code",
   "execution_count": 4,
   "outputs": [],
   "source": [],
   "metadata": {
    "collapsed": false,
    "ExecuteTime": {
     "end_time": "2023-12-28T16:21:24.185917400Z",
     "start_time": "2023-12-28T16:21:24.175163100Z"
    }
   },
   "id": "e09306cb0ac4d5e8"
  },
  {
   "cell_type": "code",
   "execution_count": null,
   "outputs": [],
   "source": [],
   "metadata": {
    "collapsed": false
   },
   "id": "699f2c956d215b50"
  }
 ],
 "metadata": {
  "kernelspec": {
   "display_name": "Python 3",
   "language": "python",
   "name": "python3"
  },
  "language_info": {
   "codemirror_mode": {
    "name": "ipython",
    "version": 2
   },
   "file_extension": ".py",
   "mimetype": "text/x-python",
   "name": "python",
   "nbconvert_exporter": "python",
   "pygments_lexer": "ipython2",
   "version": "2.7.6"
  }
 },
 "nbformat": 4,
 "nbformat_minor": 5
}
