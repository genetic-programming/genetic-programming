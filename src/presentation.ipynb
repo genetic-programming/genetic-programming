{
 "cells": [
  {
   "cell_type": "code",
   "execution_count": 10,
   "id": "82ad9fdb8b19545b",
   "metadata": {
    "collapsed": true,
    "ExecuteTime": {
     "end_time": "2023-12-06T15:19:37.933617Z",
     "start_time": "2023-12-06T15:19:37.916195Z"
    }
   },
   "outputs": [],
   "source": [
    "from gp_algorithm.individual import Individual\n",
    "from gp_algorithm.tournament import Tournament\n",
    "from gp_algorithm.utils import random_crossover, save_individual_to_file, build_individual_from_file"
   ]
  },
  {
   "cell_type": "markdown",
   "source": [
    "### Tworzenie osobników"
   ],
   "metadata": {
    "collapsed": false
   },
   "id": "c8eef76da5cb7eb9"
  },
  {
   "cell_type": "code",
   "execution_count": 11,
   "outputs": [
    {
     "name": "stdout",
     "output_type": "stream",
     "text": [
      "while true {\n",
      "  265;\n",
      "}\n",
      "while false {\n",
      "  503;\n",
      "}\n",
      "print 997;\n"
     ]
    }
   ],
   "source": [
    "indiv_1 = Individual(size=5)\n",
    "print(indiv_1.cast_to_str())"
   ],
   "metadata": {
    "collapsed": false,
    "ExecuteTime": {
     "end_time": "2023-12-06T15:19:37.943302Z",
     "start_time": "2023-12-06T15:19:37.924470Z"
    }
   },
   "id": "b05a6deb9c89731"
  },
  {
   "cell_type": "code",
   "execution_count": 12,
   "outputs": [
    {
     "name": "stdout",
     "output_type": "stream",
     "text": [
      "v0 = \"yPyVKlIiRcdn\";\n",
      "while false {\n",
      "  v2 = v1;\n",
      "}\n",
      "print v0;\n",
      "v1 = read;\n"
     ]
    }
   ],
   "source": [
    "indiv_2 = Individual(size=5)\n",
    "print(indiv_2.cast_to_str())"
   ],
   "metadata": {
    "collapsed": false,
    "ExecuteTime": {
     "end_time": "2023-12-06T15:19:37.957109Z",
     "start_time": "2023-12-06T15:19:37.928518Z"
    }
   },
   "id": "d145b99cbd39259d"
  },
  {
   "cell_type": "markdown",
   "source": [
    "### Operacja krzyżowania"
   ],
   "metadata": {
    "collapsed": false
   },
   "id": "ff2bd200569bd498"
  },
  {
   "cell_type": "code",
   "execution_count": 13,
   "outputs": [],
   "source": [
    "random_crossover(indiv_1, indiv_2)"
   ],
   "metadata": {
    "collapsed": false,
    "ExecuteTime": {
     "end_time": "2023-12-06T15:19:37.957378Z",
     "start_time": "2023-12-06T15:19:37.931365Z"
    }
   },
   "id": "a6fa0777a68dc8ae"
  },
  {
   "cell_type": "code",
   "execution_count": 14,
   "outputs": [
    {
     "name": "stdout",
     "output_type": "stream",
     "text": [
      "while true {\n",
      "  265;\n",
      "}\n",
      "while false {\n",
      "  print v0;\n",
      "}\n",
      "print 997;\n"
     ]
    }
   ],
   "source": [
    "print(indiv_1.cast_to_str())"
   ],
   "metadata": {
    "collapsed": false,
    "ExecuteTime": {
     "end_time": "2023-12-06T15:19:37.957801Z",
     "start_time": "2023-12-06T15:19:37.934580Z"
    }
   },
   "id": "d35e5844fc43e445"
  },
  {
   "cell_type": "code",
   "execution_count": 15,
   "outputs": [
    {
     "name": "stdout",
     "output_type": "stream",
     "text": [
      "v0 = \"yPyVKlIiRcdn\";\n",
      "while false {\n",
      "  v2 = v1;\n",
      "}\n",
      "503;\n",
      "v1 = read;\n"
     ]
    }
   ],
   "source": [
    "print(indiv_2.cast_to_str())"
   ],
   "metadata": {
    "collapsed": false,
    "ExecuteTime": {
     "end_time": "2023-12-06T15:19:37.957918Z",
     "start_time": "2023-12-06T15:19:37.938478Z"
    }
   },
   "id": "b6a2f6ca8aa50b4f"
  },
  {
   "cell_type": "markdown",
   "source": [
    "### Operacja mutacji"
   ],
   "metadata": {
    "collapsed": false
   },
   "id": "8f5afda9c5c84e6a"
  },
  {
   "cell_type": "code",
   "execution_count": 16,
   "outputs": [
    {
     "name": "stdout",
     "output_type": "stream",
     "text": [
      "while true {\n",
      "  265;\n",
      "}\n",
      "while \"HusnuxhTwqZCr\" {\n",
      "  print v0;\n",
      "}\n",
      "print 997;\n"
     ]
    }
   ],
   "source": [
    "indiv_1.mutate()\n",
    "print(indiv_1.cast_to_str())"
   ],
   "metadata": {
    "collapsed": false,
    "ExecuteTime": {
     "end_time": "2023-12-06T15:19:37.958010Z",
     "start_time": "2023-12-06T15:19:37.941259Z"
    }
   },
   "id": "cc830558c8b0f4c3"
  },
  {
   "cell_type": "markdown",
   "source": [
    "### Selekcja turniejowa"
   ],
   "metadata": {
    "collapsed": false
   },
   "id": "4a383ff1d2b9ce3c"
  },
  {
   "cell_type": "code",
   "execution_count": 17,
   "outputs": [],
   "source": [
    "def fitness_function(actual_outputs):\n",
    "    if len(actual_outputs) > 1:\n",
    "        return 1\n",
    "    else:\n",
    "        return 0"
   ],
   "metadata": {
    "collapsed": false,
    "ExecuteTime": {
     "end_time": "2023-12-06T15:19:37.958464Z",
     "start_time": "2023-12-06T15:19:37.943738Z"
    }
   },
   "id": "438d10184b7d861e"
  },
  {
   "cell_type": "code",
   "execution_count": 18,
   "outputs": [
    {
     "ename": "KeyboardInterrupt",
     "evalue": "",
     "output_type": "error",
     "traceback": [
      "\u001B[0;31m---------------------------------------------------------------------------\u001B[0m",
      "\u001B[0;31mKeyboardInterrupt\u001B[0m                         Traceback (most recent call last)",
      "Cell \u001B[0;32mIn[18], line 6\u001B[0m\n\u001B[1;32m      1\u001B[0m tournament \u001B[38;5;241m=\u001B[39m Tournament(\n\u001B[1;32m      2\u001B[0m     fitness_function\u001B[38;5;241m=\u001B[39mfitness_function,\n\u001B[1;32m      3\u001B[0m     population\u001B[38;5;241m=\u001B[39m[Individual(size\u001B[38;5;241m=\u001B[39m\u001B[38;5;241m5\u001B[39m) \u001B[38;5;28;01mfor\u001B[39;00m _ \u001B[38;5;129;01min\u001B[39;00m \u001B[38;5;28mrange\u001B[39m(\u001B[38;5;241m20\u001B[39m)],\n\u001B[1;32m      4\u001B[0m     size\u001B[38;5;241m=\u001B[39m\u001B[38;5;241m7\u001B[39m,\n\u001B[1;32m      5\u001B[0m )\n\u001B[0;32m----> 6\u001B[0m best_individuals \u001B[38;5;241m=\u001B[39m \u001B[43mtournament\u001B[49m\u001B[38;5;241;43m.\u001B[39;49m\u001B[43mselect\u001B[49m\u001B[43m(\u001B[49m\u001B[43m)\u001B[49m\n\u001B[1;32m      7\u001B[0m \u001B[38;5;28mprint\u001B[39m(best_individuals[\u001B[38;5;241m0\u001B[39m]\u001B[38;5;241m.\u001B[39mcast_to_str())\n",
      "File \u001B[0;32m~/studia/programowanie genetyczne/genetic-programming/src/gp_algorithm/tournament.py:22\u001B[0m, in \u001B[0;36mTournament.select\u001B[0;34m(self)\u001B[0m\n\u001B[1;32m     20\u001B[0m best_individuals \u001B[38;5;241m=\u001B[39m []\n\u001B[1;32m     21\u001B[0m \u001B[38;5;28;01mfor\u001B[39;00m chunk \u001B[38;5;129;01min\u001B[39;00m \u001B[38;5;28mself\u001B[39m\u001B[38;5;241m.\u001B[39mchunks():\n\u001B[0;32m---> 22\u001B[0m     best_individuals\u001B[38;5;241m.\u001B[39mappend(\u001B[38;5;28;43mself\u001B[39;49m\u001B[38;5;241;43m.\u001B[39;49m\u001B[43mselect_from_chunk\u001B[49m\u001B[43m(\u001B[49m\u001B[43mchunk\u001B[49m\u001B[43m)\u001B[49m)\n\u001B[1;32m     24\u001B[0m \u001B[38;5;28;01mreturn\u001B[39;00m best_individuals\n",
      "File \u001B[0;32m~/studia/programowanie genetyczne/genetic-programming/src/gp_algorithm/tournament.py:36\u001B[0m, in \u001B[0;36mTournament.select_from_chunk\u001B[0;34m(self, chunk)\u001B[0m\n\u001B[1;32m     34\u001B[0m \u001B[38;5;28;01mfor\u001B[39;00m individual \u001B[38;5;129;01min\u001B[39;00m chunk:\n\u001B[1;32m     35\u001B[0m     \u001B[38;5;28;01mtry\u001B[39;00m:\n\u001B[0;32m---> 36\u001B[0m         value \u001B[38;5;241m=\u001B[39m \u001B[43mcalculate_fitness\u001B[49m\u001B[43m(\u001B[49m\u001B[43minterpreter\u001B[49m\u001B[38;5;241;43m=\u001B[39;49m\u001B[43mInterpreter\u001B[49m\u001B[43m(\u001B[49m\u001B[43m)\u001B[49m\u001B[43m,\u001B[49m\u001B[43mindividual\u001B[49m\u001B[38;5;241;43m=\u001B[39;49m\u001B[43mindividual\u001B[49m\u001B[43m,\u001B[49m\u001B[43mfitness_function\u001B[49m\u001B[38;5;241;43m=\u001B[39;49m\u001B[38;5;28;43mself\u001B[39;49m\u001B[38;5;241;43m.\u001B[39;49m\u001B[43mfitness_function\u001B[49m\u001B[43m,\u001B[49m\u001B[43m \u001B[49m\u001B[43minput_strings\u001B[49m\u001B[38;5;241;43m=\u001B[39;49m\u001B[43m[\u001B[49m\u001B[38;5;124;43m\"\u001B[39;49m\u001B[38;5;124;43m1\u001B[39;49m\u001B[38;5;124;43m\"\u001B[39;49m\u001B[43m]\u001B[49m\u001B[38;5;241;43m*\u001B[39;49m\u001B[38;5;241;43m100\u001B[39;49m\u001B[43m)\u001B[49m\n\u001B[1;32m     37\u001B[0m     \u001B[38;5;28;01mexcept\u001B[39;00m \u001B[38;5;167;01mException\u001B[39;00m:\n\u001B[1;32m     38\u001B[0m         \u001B[38;5;28;01mcontinue\u001B[39;00m\n",
      "File \u001B[0;32m~/studia/programowanie genetyczne/genetic-programming/src/gp_algorithm/utils.py:41\u001B[0m, in \u001B[0;36mcalculate_fitness\u001B[0;34m(interpreter, individual, fitness_function, input_strings)\u001B[0m\n\u001B[1;32m     39\u001B[0m outputs \u001B[38;5;241m=\u001B[39m []\n\u001B[1;32m     40\u001B[0m \u001B[38;5;28;01mfor\u001B[39;00m program_input \u001B[38;5;129;01min\u001B[39;00m program_inputs:\n\u001B[0;32m---> 41\u001B[0m     output \u001B[38;5;241m=\u001B[39m \u001B[43minterpreter\u001B[49m\u001B[38;5;241;43m.\u001B[39;49m\u001B[43minterpret_tree\u001B[49m\u001B[43m(\u001B[49m\n\u001B[1;32m     42\u001B[0m \u001B[43m        \u001B[49m\u001B[43mtree\u001B[49m\u001B[38;5;241;43m=\u001B[39;49m\u001B[43mparsed_individual\u001B[49m\u001B[43m,\u001B[49m\n\u001B[1;32m     43\u001B[0m \u001B[43m        \u001B[49m\u001B[43mprogram_input\u001B[49m\u001B[38;5;241;43m=\u001B[39;49m\u001B[43mprogram_input\u001B[49m\u001B[43m,\u001B[49m\n\u001B[1;32m     44\u001B[0m \u001B[43m    \u001B[49m\u001B[43m)\u001B[49m\n\u001B[1;32m     45\u001B[0m     outputs\u001B[38;5;241m.\u001B[39mappend(output)\n\u001B[1;32m     47\u001B[0m \u001B[38;5;28;01mreturn\u001B[39;00m fitness_function(outputs)\n",
      "File \u001B[0;32m~/studia/programowanie genetyczne/genetic-programming/src/gp_algorithm/interpreter/interpreter.py:41\u001B[0m, in \u001B[0;36mInterpreter.interpret_tree\u001B[0;34m(self, tree, program_input)\u001B[0m\n\u001B[1;32m     36\u001B[0m \u001B[38;5;28;01mdef\u001B[39;00m \u001B[38;5;21minterpret_tree\u001B[39m(\n\u001B[1;32m     37\u001B[0m     \u001B[38;5;28mself\u001B[39m,\n\u001B[1;32m     38\u001B[0m     tree: LanguageParser\u001B[38;5;241m.\u001B[39mStatementsContext,\n\u001B[1;32m     39\u001B[0m     program_input: \u001B[38;5;28mlist\u001B[39m[Expression],\n\u001B[1;32m     40\u001B[0m ) \u001B[38;5;241m-\u001B[39m\u001B[38;5;241m>\u001B[39m \u001B[38;5;28mlist\u001B[39m[\u001B[38;5;28mstr\u001B[39m]:\n\u001B[0;32m---> 41\u001B[0m     \u001B[38;5;28;01mreturn\u001B[39;00m \u001B[38;5;28;43mself\u001B[39;49m\u001B[38;5;241;43m.\u001B[39;49m\u001B[43m_visitor\u001B[49m\u001B[38;5;241;43m.\u001B[39;49m\u001B[43mvisit_tree\u001B[49m\u001B[43m(\u001B[49m\u001B[43mtree\u001B[49m\u001B[38;5;241;43m=\u001B[39;49m\u001B[43mtree\u001B[49m\u001B[43m,\u001B[49m\u001B[43m \u001B[49m\u001B[43mprogram_input\u001B[49m\u001B[38;5;241;43m=\u001B[39;49m\u001B[43mprogram_input\u001B[49m\u001B[43m)\u001B[49m\n",
      "File \u001B[0;32m~/studia/programowanie genetyczne/genetic-programming/src/gp_algorithm/interpreter/visitor.py:32\u001B[0m, in \u001B[0;36mVisitor.visit_tree\u001B[0;34m(self, tree, program_input, statements_left)\u001B[0m\n\u001B[1;32m     30\u001B[0m \u001B[38;5;28mself\u001B[39m\u001B[38;5;241m.\u001B[39m_statement_left \u001B[38;5;241m=\u001B[39m statements_left\n\u001B[1;32m     31\u001B[0m \u001B[38;5;28mself\u001B[39m\u001B[38;5;241m.\u001B[39m_program_input\u001B[38;5;241m.\u001B[39mset_inputs(program_input)\n\u001B[0;32m---> 32\u001B[0m \u001B[38;5;28;43mself\u001B[39;49m\u001B[38;5;241;43m.\u001B[39;49m\u001B[43mvisitStatements\u001B[49m\u001B[43m(\u001B[49m\u001B[43mtree\u001B[49m\u001B[43m)\u001B[49m\n\u001B[1;32m     33\u001B[0m \u001B[38;5;28;01mreturn\u001B[39;00m \u001B[38;5;28mself\u001B[39m\u001B[38;5;241m.\u001B[39m_program_output\u001B[38;5;241m.\u001B[39mreturn_outputs()\n",
      "File \u001B[0;32m~/studia/programowanie genetyczne/genetic-programming/src/gp_algorithm/interpreter/visitor.py:38\u001B[0m, in \u001B[0;36mVisitor.visitStatements\u001B[0;34m(self, ctx)\u001B[0m\n\u001B[1;32m     36\u001B[0m \u001B[38;5;28;01mdef\u001B[39;00m \u001B[38;5;21mvisitStatements\u001B[39m(\u001B[38;5;28mself\u001B[39m, ctx: LanguageParser\u001B[38;5;241m.\u001B[39mStatementsContext) \u001B[38;5;241m-\u001B[39m\u001B[38;5;241m>\u001B[39m \u001B[38;5;28;01mNone\u001B[39;00m:\n\u001B[1;32m     37\u001B[0m     \u001B[38;5;28mself\u001B[39m\u001B[38;5;241m.\u001B[39m_variable_stack\u001B[38;5;241m.\u001B[39madd_frame()\n\u001B[0;32m---> 38\u001B[0m     \u001B[38;5;28;43msuper\u001B[39;49m\u001B[43m(\u001B[49m\u001B[43m)\u001B[49m\u001B[38;5;241;43m.\u001B[39;49m\u001B[43mvisitStatements\u001B[49m\u001B[43m(\u001B[49m\u001B[43mctx\u001B[49m\u001B[43m)\u001B[49m\n\u001B[1;32m     39\u001B[0m     \u001B[38;5;28mself\u001B[39m\u001B[38;5;241m.\u001B[39m_variable_stack\u001B[38;5;241m.\u001B[39mpop_frame()\n",
      "File \u001B[0;32m~/studia/programowanie genetyczne/genetic-programming/src/antlr/LanguageVisitor.py:15\u001B[0m, in \u001B[0;36mLanguageVisitor.visitStatements\u001B[0;34m(self, ctx)\u001B[0m\n\u001B[1;32m     14\u001B[0m \u001B[38;5;28;01mdef\u001B[39;00m \u001B[38;5;21mvisitStatements\u001B[39m(\u001B[38;5;28mself\u001B[39m, ctx: LanguageParser\u001B[38;5;241m.\u001B[39mStatementsContext):\n\u001B[0;32m---> 15\u001B[0m     \u001B[38;5;28;01mreturn\u001B[39;00m \u001B[38;5;28;43mself\u001B[39;49m\u001B[38;5;241;43m.\u001B[39;49m\u001B[43mvisitChildren\u001B[49m\u001B[43m(\u001B[49m\u001B[43mctx\u001B[49m\u001B[43m)\u001B[49m\n",
      "File \u001B[0;32m~/Library/Caches/pypoetry/virtualenvs/genetic-programming-CK92DSoW-py3.12/lib/python3.12/site-packages/antlr4/tree/Tree.py:44\u001B[0m, in \u001B[0;36mParseTreeVisitor.visitChildren\u001B[0;34m(self, node)\u001B[0m\n\u001B[1;32m     41\u001B[0m         \u001B[38;5;28;01mreturn\u001B[39;00m result\n\u001B[1;32m     43\u001B[0m     c \u001B[38;5;241m=\u001B[39m node\u001B[38;5;241m.\u001B[39mgetChild(i)\n\u001B[0;32m---> 44\u001B[0m     childResult \u001B[38;5;241m=\u001B[39m \u001B[43mc\u001B[49m\u001B[38;5;241;43m.\u001B[39;49m\u001B[43maccept\u001B[49m\u001B[43m(\u001B[49m\u001B[38;5;28;43mself\u001B[39;49m\u001B[43m)\u001B[49m\n\u001B[1;32m     45\u001B[0m     result \u001B[38;5;241m=\u001B[39m \u001B[38;5;28mself\u001B[39m\u001B[38;5;241m.\u001B[39maggregateResult(result, childResult)\n\u001B[1;32m     47\u001B[0m \u001B[38;5;28;01mreturn\u001B[39;00m result\n",
      "File \u001B[0;32m~/studia/programowanie genetyczne/genetic-programming/src/antlr/LanguageParser.py:1395\u001B[0m, in \u001B[0;36mLanguageParser.StatementContext.accept\u001B[0;34m(self, visitor)\u001B[0m\n\u001B[1;32m   1393\u001B[0m \u001B[38;5;28;01mdef\u001B[39;00m \u001B[38;5;21maccept\u001B[39m(\u001B[38;5;28mself\u001B[39m, visitor: ParseTreeVisitor):\n\u001B[1;32m   1394\u001B[0m     \u001B[38;5;28;01mif\u001B[39;00m \u001B[38;5;28mhasattr\u001B[39m(visitor, \u001B[38;5;124m\"\u001B[39m\u001B[38;5;124mvisitStatement\u001B[39m\u001B[38;5;124m\"\u001B[39m):\n\u001B[0;32m-> 1395\u001B[0m         \u001B[38;5;28;01mreturn\u001B[39;00m \u001B[43mvisitor\u001B[49m\u001B[38;5;241;43m.\u001B[39;49m\u001B[43mvisitStatement\u001B[49m\u001B[43m(\u001B[49m\u001B[38;5;28;43mself\u001B[39;49m\u001B[43m)\u001B[49m\n\u001B[1;32m   1396\u001B[0m     \u001B[38;5;28;01melse\u001B[39;00m:\n\u001B[1;32m   1397\u001B[0m         \u001B[38;5;28;01mreturn\u001B[39;00m visitor\u001B[38;5;241m.\u001B[39mvisitChildren(\u001B[38;5;28mself\u001B[39m)\n",
      "File \u001B[0;32m~/studia/programowanie genetyczne/genetic-programming/src/gp_algorithm/interpreter/visitor.py:47\u001B[0m, in \u001B[0;36mVisitor.visitStatement\u001B[0;34m(self, ctx)\u001B[0m\n\u001B[1;32m     45\u001B[0m     exc\u001B[38;5;241m.\u001B[39minject_context_to_exc(ctx)\n\u001B[1;32m     46\u001B[0m     \u001B[38;5;28;01mraise\u001B[39;00m exc\n\u001B[0;32m---> 47\u001B[0m \u001B[38;5;28;01mreturn\u001B[39;00m \u001B[38;5;28;43msuper\u001B[39;49m\u001B[43m(\u001B[49m\u001B[43m)\u001B[49m\u001B[38;5;241;43m.\u001B[39;49m\u001B[43mvisitStatement\u001B[49m\u001B[43m(\u001B[49m\u001B[43mctx\u001B[49m\u001B[43m)\u001B[49m\n",
      "File \u001B[0;32m~/studia/programowanie genetyczne/genetic-programming/src/antlr/LanguageVisitor.py:19\u001B[0m, in \u001B[0;36mLanguageVisitor.visitStatement\u001B[0;34m(self, ctx)\u001B[0m\n\u001B[1;32m     18\u001B[0m \u001B[38;5;28;01mdef\u001B[39;00m \u001B[38;5;21mvisitStatement\u001B[39m(\u001B[38;5;28mself\u001B[39m, ctx: LanguageParser\u001B[38;5;241m.\u001B[39mStatementContext):\n\u001B[0;32m---> 19\u001B[0m     \u001B[38;5;28;01mreturn\u001B[39;00m \u001B[38;5;28;43mself\u001B[39;49m\u001B[38;5;241;43m.\u001B[39;49m\u001B[43mvisitChildren\u001B[49m\u001B[43m(\u001B[49m\u001B[43mctx\u001B[49m\u001B[43m)\u001B[49m\n",
      "File \u001B[0;32m~/Library/Caches/pypoetry/virtualenvs/genetic-programming-CK92DSoW-py3.12/lib/python3.12/site-packages/antlr4/tree/Tree.py:44\u001B[0m, in \u001B[0;36mParseTreeVisitor.visitChildren\u001B[0;34m(self, node)\u001B[0m\n\u001B[1;32m     41\u001B[0m         \u001B[38;5;28;01mreturn\u001B[39;00m result\n\u001B[1;32m     43\u001B[0m     c \u001B[38;5;241m=\u001B[39m node\u001B[38;5;241m.\u001B[39mgetChild(i)\n\u001B[0;32m---> 44\u001B[0m     childResult \u001B[38;5;241m=\u001B[39m \u001B[43mc\u001B[49m\u001B[38;5;241;43m.\u001B[39;49m\u001B[43maccept\u001B[49m\u001B[43m(\u001B[49m\u001B[38;5;28;43mself\u001B[39;49m\u001B[43m)\u001B[49m\n\u001B[1;32m     45\u001B[0m     result \u001B[38;5;241m=\u001B[39m \u001B[38;5;28mself\u001B[39m\u001B[38;5;241m.\u001B[39maggregateResult(result, childResult)\n\u001B[1;32m     47\u001B[0m \u001B[38;5;28;01mreturn\u001B[39;00m result\n",
      "File \u001B[0;32m~/studia/programowanie genetyczne/genetic-programming/src/antlr/LanguageParser.py:1651\u001B[0m, in \u001B[0;36mLanguageParser.LoopStatementContext.accept\u001B[0;34m(self, visitor)\u001B[0m\n\u001B[1;32m   1649\u001B[0m \u001B[38;5;28;01mdef\u001B[39;00m \u001B[38;5;21maccept\u001B[39m(\u001B[38;5;28mself\u001B[39m, visitor: ParseTreeVisitor):\n\u001B[1;32m   1650\u001B[0m     \u001B[38;5;28;01mif\u001B[39;00m \u001B[38;5;28mhasattr\u001B[39m(visitor, \u001B[38;5;124m\"\u001B[39m\u001B[38;5;124mvisitLoopStatement\u001B[39m\u001B[38;5;124m\"\u001B[39m):\n\u001B[0;32m-> 1651\u001B[0m         \u001B[38;5;28;01mreturn\u001B[39;00m \u001B[43mvisitor\u001B[49m\u001B[38;5;241;43m.\u001B[39;49m\u001B[43mvisitLoopStatement\u001B[49m\u001B[43m(\u001B[49m\u001B[38;5;28;43mself\u001B[39;49m\u001B[43m)\u001B[49m\n\u001B[1;32m   1652\u001B[0m     \u001B[38;5;28;01melse\u001B[39;00m:\n\u001B[1;32m   1653\u001B[0m         \u001B[38;5;28;01mreturn\u001B[39;00m visitor\u001B[38;5;241m.\u001B[39mvisitChildren(\u001B[38;5;28mself\u001B[39m)\n",
      "File \u001B[0;32m~/studia/programowanie genetyczne/genetic-programming/src/gp_algorithm/interpreter/visitor.py:70\u001B[0m, in \u001B[0;36mVisitor.visitLoopStatement\u001B[0;34m(self, ctx)\u001B[0m\n\u001B[1;32m     68\u001B[0m \u001B[38;5;28mself\u001B[39m\u001B[38;5;241m.\u001B[39m_statement_left \u001B[38;5;241m+\u001B[39m\u001B[38;5;241m=\u001B[39m \u001B[38;5;241m1\u001B[39m\n\u001B[1;32m     69\u001B[0m \u001B[38;5;28;01mwhile\u001B[39;00m \u001B[38;5;28mself\u001B[39m\u001B[38;5;241m.\u001B[39mcheck_condition(expression_ctx):\n\u001B[0;32m---> 70\u001B[0m     \u001B[38;5;28;43mself\u001B[39;49m\u001B[38;5;241;43m.\u001B[39;49m\u001B[43mvisitCompoundStatement\u001B[49m\u001B[43m(\u001B[49m\u001B[43mbody_ctx\u001B[49m\u001B[43m)\u001B[49m\n",
      "File \u001B[0;32m~/studia/programowanie genetyczne/genetic-programming/src/gp_algorithm/interpreter/visitor.py:79\u001B[0m, in \u001B[0;36mVisitor.visitCompoundStatement\u001B[0;34m(self, ctx)\u001B[0m\n\u001B[1;32m     77\u001B[0m \u001B[38;5;28;01mdef\u001B[39;00m \u001B[38;5;21mvisitCompoundStatement\u001B[39m(\u001B[38;5;28mself\u001B[39m, ctx: LanguageParser\u001B[38;5;241m.\u001B[39mCompoundStatementContext) \u001B[38;5;241m-\u001B[39m\u001B[38;5;241m>\u001B[39m \u001B[38;5;28;01mNone\u001B[39;00m:\n\u001B[1;32m     78\u001B[0m     \u001B[38;5;28mself\u001B[39m\u001B[38;5;241m.\u001B[39m_variable_stack\u001B[38;5;241m.\u001B[39madd_frame()\n\u001B[0;32m---> 79\u001B[0m     \u001B[38;5;28;43msuper\u001B[39;49m\u001B[43m(\u001B[49m\u001B[43m)\u001B[49m\u001B[38;5;241;43m.\u001B[39;49m\u001B[43mvisitCompoundStatement\u001B[49m\u001B[43m(\u001B[49m\u001B[43mctx\u001B[49m\u001B[43m)\u001B[49m\n\u001B[1;32m     80\u001B[0m     \u001B[38;5;28mself\u001B[39m\u001B[38;5;241m.\u001B[39m_variable_stack\u001B[38;5;241m.\u001B[39mpop_frame()\n",
      "File \u001B[0;32m~/studia/programowanie genetyczne/genetic-programming/src/antlr/LanguageVisitor.py:39\u001B[0m, in \u001B[0;36mLanguageVisitor.visitCompoundStatement\u001B[0;34m(self, ctx)\u001B[0m\n\u001B[1;32m     38\u001B[0m \u001B[38;5;28;01mdef\u001B[39;00m \u001B[38;5;21mvisitCompoundStatement\u001B[39m(\u001B[38;5;28mself\u001B[39m, ctx: LanguageParser\u001B[38;5;241m.\u001B[39mCompoundStatementContext):\n\u001B[0;32m---> 39\u001B[0m     \u001B[38;5;28;01mreturn\u001B[39;00m \u001B[38;5;28;43mself\u001B[39;49m\u001B[38;5;241;43m.\u001B[39;49m\u001B[43mvisitChildren\u001B[49m\u001B[43m(\u001B[49m\u001B[43mctx\u001B[49m\u001B[43m)\u001B[49m\n",
      "File \u001B[0;32m~/Library/Caches/pypoetry/virtualenvs/genetic-programming-CK92DSoW-py3.12/lib/python3.12/site-packages/antlr4/tree/Tree.py:44\u001B[0m, in \u001B[0;36mParseTreeVisitor.visitChildren\u001B[0;34m(self, node)\u001B[0m\n\u001B[1;32m     41\u001B[0m         \u001B[38;5;28;01mreturn\u001B[39;00m result\n\u001B[1;32m     43\u001B[0m     c \u001B[38;5;241m=\u001B[39m node\u001B[38;5;241m.\u001B[39mgetChild(i)\n\u001B[0;32m---> 44\u001B[0m     childResult \u001B[38;5;241m=\u001B[39m \u001B[43mc\u001B[49m\u001B[38;5;241;43m.\u001B[39;49m\u001B[43maccept\u001B[49m\u001B[43m(\u001B[49m\u001B[38;5;28;43mself\u001B[39;49m\u001B[43m)\u001B[49m\n\u001B[1;32m     45\u001B[0m     result \u001B[38;5;241m=\u001B[39m \u001B[38;5;28mself\u001B[39m\u001B[38;5;241m.\u001B[39maggregateResult(result, childResult)\n\u001B[1;32m     47\u001B[0m \u001B[38;5;28;01mreturn\u001B[39;00m result\n",
      "File \u001B[0;32m~/studia/programowanie genetyczne/genetic-programming/src/antlr/LanguageParser.py:1335\u001B[0m, in \u001B[0;36mLanguageParser.StatementsContext.accept\u001B[0;34m(self, visitor)\u001B[0m\n\u001B[1;32m   1333\u001B[0m \u001B[38;5;28;01mdef\u001B[39;00m \u001B[38;5;21maccept\u001B[39m(\u001B[38;5;28mself\u001B[39m, visitor: ParseTreeVisitor):\n\u001B[1;32m   1334\u001B[0m     \u001B[38;5;28;01mif\u001B[39;00m \u001B[38;5;28mhasattr\u001B[39m(visitor, \u001B[38;5;124m\"\u001B[39m\u001B[38;5;124mvisitStatements\u001B[39m\u001B[38;5;124m\"\u001B[39m):\n\u001B[0;32m-> 1335\u001B[0m         \u001B[38;5;28;01mreturn\u001B[39;00m \u001B[43mvisitor\u001B[49m\u001B[38;5;241;43m.\u001B[39;49m\u001B[43mvisitStatements\u001B[49m\u001B[43m(\u001B[49m\u001B[38;5;28;43mself\u001B[39;49m\u001B[43m)\u001B[49m\n\u001B[1;32m   1336\u001B[0m     \u001B[38;5;28;01melse\u001B[39;00m:\n\u001B[1;32m   1337\u001B[0m         \u001B[38;5;28;01mreturn\u001B[39;00m visitor\u001B[38;5;241m.\u001B[39mvisitChildren(\u001B[38;5;28mself\u001B[39m)\n",
      "File \u001B[0;32m~/studia/programowanie genetyczne/genetic-programming/src/gp_algorithm/interpreter/visitor.py:38\u001B[0m, in \u001B[0;36mVisitor.visitStatements\u001B[0;34m(self, ctx)\u001B[0m\n\u001B[1;32m     36\u001B[0m \u001B[38;5;28;01mdef\u001B[39;00m \u001B[38;5;21mvisitStatements\u001B[39m(\u001B[38;5;28mself\u001B[39m, ctx: LanguageParser\u001B[38;5;241m.\u001B[39mStatementsContext) \u001B[38;5;241m-\u001B[39m\u001B[38;5;241m>\u001B[39m \u001B[38;5;28;01mNone\u001B[39;00m:\n\u001B[1;32m     37\u001B[0m     \u001B[38;5;28mself\u001B[39m\u001B[38;5;241m.\u001B[39m_variable_stack\u001B[38;5;241m.\u001B[39madd_frame()\n\u001B[0;32m---> 38\u001B[0m     \u001B[38;5;28;43msuper\u001B[39;49m\u001B[43m(\u001B[49m\u001B[43m)\u001B[49m\u001B[38;5;241;43m.\u001B[39;49m\u001B[43mvisitStatements\u001B[49m\u001B[43m(\u001B[49m\u001B[43mctx\u001B[49m\u001B[43m)\u001B[49m\n\u001B[1;32m     39\u001B[0m     \u001B[38;5;28mself\u001B[39m\u001B[38;5;241m.\u001B[39m_variable_stack\u001B[38;5;241m.\u001B[39mpop_frame()\n",
      "File \u001B[0;32m~/studia/programowanie genetyczne/genetic-programming/src/antlr/LanguageVisitor.py:15\u001B[0m, in \u001B[0;36mLanguageVisitor.visitStatements\u001B[0;34m(self, ctx)\u001B[0m\n\u001B[1;32m     14\u001B[0m \u001B[38;5;28;01mdef\u001B[39;00m \u001B[38;5;21mvisitStatements\u001B[39m(\u001B[38;5;28mself\u001B[39m, ctx: LanguageParser\u001B[38;5;241m.\u001B[39mStatementsContext):\n\u001B[0;32m---> 15\u001B[0m     \u001B[38;5;28;01mreturn\u001B[39;00m \u001B[38;5;28;43mself\u001B[39;49m\u001B[38;5;241;43m.\u001B[39;49m\u001B[43mvisitChildren\u001B[49m\u001B[43m(\u001B[49m\u001B[43mctx\u001B[49m\u001B[43m)\u001B[49m\n",
      "File \u001B[0;32m~/Library/Caches/pypoetry/virtualenvs/genetic-programming-CK92DSoW-py3.12/lib/python3.12/site-packages/antlr4/tree/Tree.py:44\u001B[0m, in \u001B[0;36mParseTreeVisitor.visitChildren\u001B[0;34m(self, node)\u001B[0m\n\u001B[1;32m     41\u001B[0m         \u001B[38;5;28;01mreturn\u001B[39;00m result\n\u001B[1;32m     43\u001B[0m     c \u001B[38;5;241m=\u001B[39m node\u001B[38;5;241m.\u001B[39mgetChild(i)\n\u001B[0;32m---> 44\u001B[0m     childResult \u001B[38;5;241m=\u001B[39m \u001B[43mc\u001B[49m\u001B[38;5;241;43m.\u001B[39;49m\u001B[43maccept\u001B[49m\u001B[43m(\u001B[49m\u001B[38;5;28;43mself\u001B[39;49m\u001B[43m)\u001B[49m\n\u001B[1;32m     45\u001B[0m     result \u001B[38;5;241m=\u001B[39m \u001B[38;5;28mself\u001B[39m\u001B[38;5;241m.\u001B[39maggregateResult(result, childResult)\n\u001B[1;32m     47\u001B[0m \u001B[38;5;28;01mreturn\u001B[39;00m result\n",
      "File \u001B[0;32m~/studia/programowanie genetyczne/genetic-programming/src/antlr/LanguageParser.py:1395\u001B[0m, in \u001B[0;36mLanguageParser.StatementContext.accept\u001B[0;34m(self, visitor)\u001B[0m\n\u001B[1;32m   1393\u001B[0m \u001B[38;5;28;01mdef\u001B[39;00m \u001B[38;5;21maccept\u001B[39m(\u001B[38;5;28mself\u001B[39m, visitor: ParseTreeVisitor):\n\u001B[1;32m   1394\u001B[0m     \u001B[38;5;28;01mif\u001B[39;00m \u001B[38;5;28mhasattr\u001B[39m(visitor, \u001B[38;5;124m\"\u001B[39m\u001B[38;5;124mvisitStatement\u001B[39m\u001B[38;5;124m\"\u001B[39m):\n\u001B[0;32m-> 1395\u001B[0m         \u001B[38;5;28;01mreturn\u001B[39;00m \u001B[43mvisitor\u001B[49m\u001B[38;5;241;43m.\u001B[39;49m\u001B[43mvisitStatement\u001B[49m\u001B[43m(\u001B[49m\u001B[38;5;28;43mself\u001B[39;49m\u001B[43m)\u001B[49m\n\u001B[1;32m   1396\u001B[0m     \u001B[38;5;28;01melse\u001B[39;00m:\n\u001B[1;32m   1397\u001B[0m         \u001B[38;5;28;01mreturn\u001B[39;00m visitor\u001B[38;5;241m.\u001B[39mvisitChildren(\u001B[38;5;28mself\u001B[39m)\n",
      "File \u001B[0;32m~/studia/programowanie genetyczne/genetic-programming/src/gp_algorithm/interpreter/visitor.py:47\u001B[0m, in \u001B[0;36mVisitor.visitStatement\u001B[0;34m(self, ctx)\u001B[0m\n\u001B[1;32m     45\u001B[0m     exc\u001B[38;5;241m.\u001B[39minject_context_to_exc(ctx)\n\u001B[1;32m     46\u001B[0m     \u001B[38;5;28;01mraise\u001B[39;00m exc\n\u001B[0;32m---> 47\u001B[0m \u001B[38;5;28;01mreturn\u001B[39;00m \u001B[38;5;28;43msuper\u001B[39;49m\u001B[43m(\u001B[49m\u001B[43m)\u001B[49m\u001B[38;5;241;43m.\u001B[39;49m\u001B[43mvisitStatement\u001B[49m\u001B[43m(\u001B[49m\u001B[43mctx\u001B[49m\u001B[43m)\u001B[49m\n",
      "File \u001B[0;32m~/studia/programowanie genetyczne/genetic-programming/src/antlr/LanguageVisitor.py:19\u001B[0m, in \u001B[0;36mLanguageVisitor.visitStatement\u001B[0;34m(self, ctx)\u001B[0m\n\u001B[1;32m     18\u001B[0m \u001B[38;5;28;01mdef\u001B[39;00m \u001B[38;5;21mvisitStatement\u001B[39m(\u001B[38;5;28mself\u001B[39m, ctx: LanguageParser\u001B[38;5;241m.\u001B[39mStatementContext):\n\u001B[0;32m---> 19\u001B[0m     \u001B[38;5;28;01mreturn\u001B[39;00m \u001B[38;5;28;43mself\u001B[39;49m\u001B[38;5;241;43m.\u001B[39;49m\u001B[43mvisitChildren\u001B[49m\u001B[43m(\u001B[49m\u001B[43mctx\u001B[49m\u001B[43m)\u001B[49m\n",
      "File \u001B[0;32m~/Library/Caches/pypoetry/virtualenvs/genetic-programming-CK92DSoW-py3.12/lib/python3.12/site-packages/antlr4/tree/Tree.py:44\u001B[0m, in \u001B[0;36mParseTreeVisitor.visitChildren\u001B[0;34m(self, node)\u001B[0m\n\u001B[1;32m     41\u001B[0m         \u001B[38;5;28;01mreturn\u001B[39;00m result\n\u001B[1;32m     43\u001B[0m     c \u001B[38;5;241m=\u001B[39m node\u001B[38;5;241m.\u001B[39mgetChild(i)\n\u001B[0;32m---> 44\u001B[0m     childResult \u001B[38;5;241m=\u001B[39m \u001B[43mc\u001B[49m\u001B[38;5;241;43m.\u001B[39;49m\u001B[43maccept\u001B[49m\u001B[43m(\u001B[49m\u001B[38;5;28;43mself\u001B[39;49m\u001B[43m)\u001B[49m\n\u001B[1;32m     45\u001B[0m     result \u001B[38;5;241m=\u001B[39m \u001B[38;5;28mself\u001B[39m\u001B[38;5;241m.\u001B[39maggregateResult(result, childResult)\n\u001B[1;32m     47\u001B[0m \u001B[38;5;28;01mreturn\u001B[39;00m result\n",
      "File \u001B[0;32m~/studia/programowanie genetyczne/genetic-programming/src/antlr/LanguageParser.py:1651\u001B[0m, in \u001B[0;36mLanguageParser.LoopStatementContext.accept\u001B[0;34m(self, visitor)\u001B[0m\n\u001B[1;32m   1649\u001B[0m \u001B[38;5;28;01mdef\u001B[39;00m \u001B[38;5;21maccept\u001B[39m(\u001B[38;5;28mself\u001B[39m, visitor: ParseTreeVisitor):\n\u001B[1;32m   1650\u001B[0m     \u001B[38;5;28;01mif\u001B[39;00m \u001B[38;5;28mhasattr\u001B[39m(visitor, \u001B[38;5;124m\"\u001B[39m\u001B[38;5;124mvisitLoopStatement\u001B[39m\u001B[38;5;124m\"\u001B[39m):\n\u001B[0;32m-> 1651\u001B[0m         \u001B[38;5;28;01mreturn\u001B[39;00m \u001B[43mvisitor\u001B[49m\u001B[38;5;241;43m.\u001B[39;49m\u001B[43mvisitLoopStatement\u001B[49m\u001B[43m(\u001B[49m\u001B[38;5;28;43mself\u001B[39;49m\u001B[43m)\u001B[49m\n\u001B[1;32m   1652\u001B[0m     \u001B[38;5;28;01melse\u001B[39;00m:\n\u001B[1;32m   1653\u001B[0m         \u001B[38;5;28;01mreturn\u001B[39;00m visitor\u001B[38;5;241m.\u001B[39mvisitChildren(\u001B[38;5;28mself\u001B[39m)\n",
      "File \u001B[0;32m~/studia/programowanie genetyczne/genetic-programming/src/gp_algorithm/interpreter/visitor.py:70\u001B[0m, in \u001B[0;36mVisitor.visitLoopStatement\u001B[0;34m(self, ctx)\u001B[0m\n\u001B[1;32m     68\u001B[0m \u001B[38;5;28mself\u001B[39m\u001B[38;5;241m.\u001B[39m_statement_left \u001B[38;5;241m+\u001B[39m\u001B[38;5;241m=\u001B[39m \u001B[38;5;241m1\u001B[39m\n\u001B[1;32m     69\u001B[0m \u001B[38;5;28;01mwhile\u001B[39;00m \u001B[38;5;28mself\u001B[39m\u001B[38;5;241m.\u001B[39mcheck_condition(expression_ctx):\n\u001B[0;32m---> 70\u001B[0m     \u001B[38;5;28;43mself\u001B[39;49m\u001B[38;5;241;43m.\u001B[39;49m\u001B[43mvisitCompoundStatement\u001B[49m\u001B[43m(\u001B[49m\u001B[43mbody_ctx\u001B[49m\u001B[43m)\u001B[49m\n",
      "File \u001B[0;32m~/studia/programowanie genetyczne/genetic-programming/src/gp_algorithm/interpreter/visitor.py:79\u001B[0m, in \u001B[0;36mVisitor.visitCompoundStatement\u001B[0;34m(self, ctx)\u001B[0m\n\u001B[1;32m     77\u001B[0m \u001B[38;5;28;01mdef\u001B[39;00m \u001B[38;5;21mvisitCompoundStatement\u001B[39m(\u001B[38;5;28mself\u001B[39m, ctx: LanguageParser\u001B[38;5;241m.\u001B[39mCompoundStatementContext) \u001B[38;5;241m-\u001B[39m\u001B[38;5;241m>\u001B[39m \u001B[38;5;28;01mNone\u001B[39;00m:\n\u001B[1;32m     78\u001B[0m     \u001B[38;5;28mself\u001B[39m\u001B[38;5;241m.\u001B[39m_variable_stack\u001B[38;5;241m.\u001B[39madd_frame()\n\u001B[0;32m---> 79\u001B[0m     \u001B[38;5;28;43msuper\u001B[39;49m\u001B[43m(\u001B[49m\u001B[43m)\u001B[49m\u001B[38;5;241;43m.\u001B[39;49m\u001B[43mvisitCompoundStatement\u001B[49m\u001B[43m(\u001B[49m\u001B[43mctx\u001B[49m\u001B[43m)\u001B[49m\n\u001B[1;32m     80\u001B[0m     \u001B[38;5;28mself\u001B[39m\u001B[38;5;241m.\u001B[39m_variable_stack\u001B[38;5;241m.\u001B[39mpop_frame()\n",
      "File \u001B[0;32m~/studia/programowanie genetyczne/genetic-programming/src/antlr/LanguageVisitor.py:39\u001B[0m, in \u001B[0;36mLanguageVisitor.visitCompoundStatement\u001B[0;34m(self, ctx)\u001B[0m\n\u001B[1;32m     38\u001B[0m \u001B[38;5;28;01mdef\u001B[39;00m \u001B[38;5;21mvisitCompoundStatement\u001B[39m(\u001B[38;5;28mself\u001B[39m, ctx: LanguageParser\u001B[38;5;241m.\u001B[39mCompoundStatementContext):\n\u001B[0;32m---> 39\u001B[0m     \u001B[38;5;28;01mreturn\u001B[39;00m \u001B[38;5;28;43mself\u001B[39;49m\u001B[38;5;241;43m.\u001B[39;49m\u001B[43mvisitChildren\u001B[49m\u001B[43m(\u001B[49m\u001B[43mctx\u001B[49m\u001B[43m)\u001B[49m\n",
      "File \u001B[0;32m~/Library/Caches/pypoetry/virtualenvs/genetic-programming-CK92DSoW-py3.12/lib/python3.12/site-packages/antlr4/tree/Tree.py:44\u001B[0m, in \u001B[0;36mParseTreeVisitor.visitChildren\u001B[0;34m(self, node)\u001B[0m\n\u001B[1;32m     41\u001B[0m         \u001B[38;5;28;01mreturn\u001B[39;00m result\n\u001B[1;32m     43\u001B[0m     c \u001B[38;5;241m=\u001B[39m node\u001B[38;5;241m.\u001B[39mgetChild(i)\n\u001B[0;32m---> 44\u001B[0m     childResult \u001B[38;5;241m=\u001B[39m \u001B[43mc\u001B[49m\u001B[38;5;241;43m.\u001B[39;49m\u001B[43maccept\u001B[49m\u001B[43m(\u001B[49m\u001B[38;5;28;43mself\u001B[39;49m\u001B[43m)\u001B[49m\n\u001B[1;32m     45\u001B[0m     result \u001B[38;5;241m=\u001B[39m \u001B[38;5;28mself\u001B[39m\u001B[38;5;241m.\u001B[39maggregateResult(result, childResult)\n\u001B[1;32m     47\u001B[0m \u001B[38;5;28;01mreturn\u001B[39;00m result\n",
      "File \u001B[0;32m~/Library/Caches/pypoetry/virtualenvs/genetic-programming-CK92DSoW-py3.12/lib/python3.12/site-packages/antlr4/tree/Tree.py:113\u001B[0m, in \u001B[0;36mTerminalNodeImpl.accept\u001B[0;34m(self, visitor)\u001B[0m\n\u001B[1;32m    112\u001B[0m \u001B[38;5;28;01mdef\u001B[39;00m \u001B[38;5;21maccept\u001B[39m(\u001B[38;5;28mself\u001B[39m, visitor:ParseTreeVisitor):\n\u001B[0;32m--> 113\u001B[0m     \u001B[38;5;28;01mreturn\u001B[39;00m \u001B[43mvisitor\u001B[49m\u001B[38;5;241;43m.\u001B[39;49m\u001B[43mvisitTerminal\u001B[49m\u001B[43m(\u001B[49m\u001B[38;5;28;43mself\u001B[39;49m\u001B[43m)\u001B[49m\n",
      "File \u001B[0;32m~/Library/Caches/pypoetry/virtualenvs/genetic-programming-CK92DSoW-py3.12/lib/python3.12/site-packages/antlr4/tree/Tree.py:49\u001B[0m, in \u001B[0;36mParseTreeVisitor.visitTerminal\u001B[0;34m(self, node)\u001B[0m\n\u001B[1;32m     45\u001B[0m         result \u001B[38;5;241m=\u001B[39m \u001B[38;5;28mself\u001B[39m\u001B[38;5;241m.\u001B[39maggregateResult(result, childResult)\n\u001B[1;32m     47\u001B[0m     \u001B[38;5;28;01mreturn\u001B[39;00m result\n\u001B[0;32m---> 49\u001B[0m \u001B[38;5;28;01mdef\u001B[39;00m \u001B[38;5;21mvisitTerminal\u001B[39m(\u001B[38;5;28mself\u001B[39m, node):\n\u001B[1;32m     50\u001B[0m     \u001B[38;5;28;01mreturn\u001B[39;00m \u001B[38;5;28mself\u001B[39m\u001B[38;5;241m.\u001B[39mdefaultResult()\n\u001B[1;32m     52\u001B[0m \u001B[38;5;28;01mdef\u001B[39;00m \u001B[38;5;21mvisitErrorNode\u001B[39m(\u001B[38;5;28mself\u001B[39m, node):\n",
      "\u001B[0;31mKeyboardInterrupt\u001B[0m: "
     ]
    }
   ],
   "source": [
    "tournament = Tournament(\n",
    "    fitness_function=fitness_function,\n",
    "    population=[Individual(size=5) for _ in range(20)],\n",
    "    size=7,\n",
    ")\n",
    "best_individuals = tournament.select()\n",
    "print(best_individuals[0].cast_to_str())"
   ],
   "metadata": {
    "collapsed": false,
    "ExecuteTime": {
     "end_time": "2023-12-06T15:19:46.313450Z",
     "start_time": "2023-12-06T15:19:38.014437Z"
    }
   },
   "id": "38c5a15c0a626ac9"
  },
  {
   "cell_type": "code",
   "execution_count": null,
   "outputs": [],
   "source": [
    "indiv = build_individual_from_file(\"example_programs/indiv\")\n",
    "print(indiv.cast_to_str())"
   ],
   "metadata": {
    "collapsed": false,
    "ExecuteTime": {
     "start_time": "2023-12-06T15:19:46.310147Z"
    }
   },
   "id": "23b2b93d0fc142f6"
  },
  {
   "cell_type": "code",
   "execution_count": null,
   "outputs": [],
   "source": [],
   "metadata": {
    "collapsed": false,
    "ExecuteTime": {
     "start_time": "2023-12-06T15:19:46.311212Z"
    }
   },
   "id": "2665a4b16b676c0e"
  },
  {
   "cell_type": "code",
   "execution_count": null,
   "outputs": [],
   "source": [],
   "metadata": {
    "collapsed": false,
    "ExecuteTime": {
     "start_time": "2023-12-06T15:19:46.311853Z"
    }
   },
   "id": "83ee6f222d5b5ad6"
  }
 ],
 "metadata": {
  "kernelspec": {
   "display_name": "Python 3",
   "language": "python",
   "name": "python3"
  },
  "language_info": {
   "codemirror_mode": {
    "name": "ipython",
    "version": 2
   },
   "file_extension": ".py",
   "mimetype": "text/x-python",
   "name": "python",
   "nbconvert_exporter": "python",
   "pygments_lexer": "ipython2",
   "version": "2.7.6"
  }
 },
 "nbformat": 4,
 "nbformat_minor": 5
}
