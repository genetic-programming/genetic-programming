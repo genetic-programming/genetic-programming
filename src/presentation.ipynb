{
 "cells": [
  {
   "cell_type": "code",
   "execution_count": 92,
   "id": "82ad9fdb8b19545b",
   "metadata": {
    "collapsed": true,
    "ExecuteTime": {
     "end_time": "2023-12-20T14:33:48.661038700Z",
     "start_time": "2023-12-20T14:33:48.634135400Z"
    }
   },
   "outputs": [],
   "source": [
    "from anytree import RenderTree\n",
    "from anytree.exporter import UniqueDotExporter\n",
    "\n",
    "from gp_algorithm.individual import Individual\n",
    "from gp_algorithm.tournament import Tournament\n",
    "from gp_algorithm.utils import (\n",
    "    random_crossover, \n",
    "    save_individual_to_file, \n",
    "    build_individual_from_file,\n",
    ")"
   ]
  },
  {
   "cell_type": "markdown",
   "source": [
    "### Tworzenie osobników"
   ],
   "metadata": {
    "collapsed": false
   },
   "id": "c8eef76da5cb7eb9"
  },
  {
   "cell_type": "code",
   "execution_count": 125,
   "outputs": [
    {
     "name": "stdout",
     "output_type": "stream",
     "text": [
      "\n",
      "if v0 {} else {\n",
      "  print ((v0) and false);\n",
      "}\n"
     ]
    }
   ],
   "source": [
    "indiv_1 = Individual(size=2)\n",
    "print(indiv_1)"
   ],
   "metadata": {
    "collapsed": false,
    "ExecuteTime": {
     "end_time": "2023-12-20T14:46:29.822417600Z",
     "start_time": "2023-12-20T14:46:29.819913100Z"
    }
   },
   "id": "b05a6deb9c89731"
  },
  {
   "cell_type": "code",
   "execution_count": 126,
   "outputs": [
    {
     "name": "stdout",
     "output_type": "stream",
     "text": [
      "\n",
      "print -20;\n",
      "while (v0) {}\n"
     ]
    }
   ],
   "source": [
    "indiv_2 = Individual(size=2)\n",
    "print(indiv_2)"
   ],
   "metadata": {
    "collapsed": false,
    "ExecuteTime": {
     "end_time": "2023-12-20T14:47:27.506921300Z",
     "start_time": "2023-12-20T14:47:27.503414800Z"
    }
   },
   "id": "d145b99cbd39259d"
  },
  {
   "cell_type": "markdown",
   "source": [
    "### Operacja krzyżowania"
   ],
   "metadata": {
    "collapsed": false
   },
   "id": "ff2bd200569bd498"
  },
  {
   "cell_type": "code",
   "execution_count": 135,
   "outputs": [],
   "source": [
    "random_crossover(indiv_1, indiv_2)"
   ],
   "metadata": {
    "collapsed": false,
    "ExecuteTime": {
     "end_time": "2023-12-20T14:48:38.090722700Z",
     "start_time": "2023-12-20T14:48:38.087200500Z"
    }
   },
   "id": "a6fa0777a68dc8ae"
  },
  {
   "cell_type": "code",
   "execution_count": 136,
   "outputs": [
    {
     "name": "stdout",
     "output_type": "stream",
     "text": [
      "\n",
      "if -20 {} else {\n",
      "  print ((v0) and v0);\n",
      "}\n"
     ]
    }
   ],
   "source": [
    "print(indiv_1)"
   ],
   "metadata": {
    "collapsed": false,
    "ExecuteTime": {
     "end_time": "2023-12-20T14:48:38.622867700Z",
     "start_time": "2023-12-20T14:48:38.615833400Z"
    }
   },
   "id": "d35e5844fc43e445"
  },
  {
   "cell_type": "code",
   "execution_count": 137,
   "outputs": [
    {
     "name": "stdout",
     "output_type": "stream",
     "text": [
      "\n",
      "print v0;\n",
      "while (false) {}\n"
     ]
    }
   ],
   "source": [
    "print(indiv_2)"
   ],
   "metadata": {
    "collapsed": false,
    "ExecuteTime": {
     "end_time": "2023-12-20T14:48:39.653796900Z",
     "start_time": "2023-12-20T14:48:39.650798800Z"
    }
   },
   "id": "b6a2f6ca8aa50b4f"
  },
  {
   "cell_type": "markdown",
   "source": [
    "### Operacja mutacji"
   ],
   "metadata": {
    "collapsed": false
   },
   "id": "8f5afda9c5c84e6a"
  },
  {
   "cell_type": "code",
   "execution_count": 139,
   "outputs": [
    {
     "name": "stdout",
     "output_type": "stream",
     "text": [
      "\n",
      "if 75 {} else {\n",
      "  print ((v0) and v0);\n",
      "}\n"
     ]
    }
   ],
   "source": [
    "indiv_1.mutate()\n",
    "print(indiv_1)"
   ],
   "metadata": {
    "collapsed": false,
    "ExecuteTime": {
     "end_time": "2023-12-20T14:49:26.984941100Z",
     "start_time": "2023-12-20T14:49:26.980382300Z"
    }
   },
   "id": "cc830558c8b0f4c3"
  },
  {
   "cell_type": "markdown",
   "source": [
    "### Selekcja turniejowa"
   ],
   "metadata": {
    "collapsed": false
   },
   "id": "4a383ff1d2b9ce3c"
  },
  {
   "cell_type": "code",
   "execution_count": 99,
   "outputs": [],
   "source": [
    "def fitness_function(outputs: list[list[str]]) -> float:\n",
    "    if len(outputs) == 0:\n",
    "        return 1.0\n",
    "    \n",
    "    if len(outputs[0]) > 0:\n",
    "        return 0.0\n",
    "    \n",
    "    return 1.0"
   ],
   "metadata": {
    "collapsed": false,
    "ExecuteTime": {
     "end_time": "2023-12-20T14:33:48.775918700Z",
     "start_time": "2023-12-20T14:33:48.765573500Z"
    }
   },
   "id": "d0aac978249a51d0"
  },
  {
   "cell_type": "code",
   "execution_count": 100,
   "outputs": [],
   "source": [
    "population = [Individual(size=3) for _ in range(20)]"
   ],
   "metadata": {
    "collapsed": false,
    "ExecuteTime": {
     "end_time": "2023-12-20T14:33:48.777910700Z",
     "start_time": "2023-12-20T14:33:48.769075100Z"
    }
   },
   "id": "4d8a54eea5b1f6f3"
  },
  {
   "cell_type": "code",
   "execution_count": 101,
   "outputs": [],
   "source": [
    "tournament = Tournament(\n",
    "    fitness_function=fitness_function,\n",
    "    population=population,\n",
    "    size=7,\n",
    ")\n",
    "best_individuals = tournament.select()"
   ],
   "metadata": {
    "collapsed": false,
    "ExecuteTime": {
     "end_time": "2023-12-20T14:33:48.836598100Z",
     "start_time": "2023-12-20T14:33:48.780169300Z"
    }
   },
   "id": "b11da103196697d6"
  },
  {
   "cell_type": "code",
   "execution_count": 102,
   "outputs": [
    {
     "name": "stdout",
     "output_type": "stream",
     "text": [
      "Winner from 1. batch with score 0.0:\n",
      "\n",
      "print -70;\n",
      "print -98;\n",
      "print true;\n",
      "\n",
      "Winner from 2. batch with score 0.0:\n",
      "\n",
      "v0 = not false * true == not true;\n",
      "v0 = 66;\n",
      "print v0;\n",
      "\n",
      "Winner from 3. batch with score 0.0:\n",
      "\n",
      "print (- true) or 23;\n",
      "if true {\n",
      "  print 24;\n",
      "} else {}\n"
     ]
    }
   ],
   "source": [
    "for i, (individual, score) in enumerate(best_individuals, 1):\n",
    "    print(f\"Winner from {i}. batch with score {score}:\")\n",
    "    print(individual)"
   ],
   "metadata": {
    "collapsed": false,
    "ExecuteTime": {
     "end_time": "2023-12-20T14:33:48.837590300Z",
     "start_time": "2023-12-20T14:33:48.796004600Z"
    }
   },
   "id": "38c5a15c0a626ac9"
  },
  {
   "cell_type": "markdown",
   "source": [
    "### Serializacja i deserializacja"
   ],
   "metadata": {
    "collapsed": false
   },
   "id": "7e90e9f1bfa7ffff"
  },
  {
   "cell_type": "code",
   "execution_count": 140,
   "outputs": [],
   "source": [
    "file_name = \"example_programs/individual\"\n",
    "save_individual_to_file(indiv_1, file_path=file_name)"
   ],
   "metadata": {
    "collapsed": false,
    "ExecuteTime": {
     "end_time": "2023-12-20T14:49:43.148508800Z",
     "start_time": "2023-12-20T14:49:43.144008Z"
    }
   },
   "id": "3b7912be4c2e47f7"
  },
  {
   "cell_type": "code",
   "execution_count": 141,
   "outputs": [
    {
     "name": "stdout",
     "output_type": "stream",
     "text": [
      "{0}\n",
      "└── if {0} {{{1}}} else {{{2}}}\n",
      "    ├── 75\n",
      "    ├── \n",
      "    └── {0}\n",
      "        └── print {0};\n",
      "            └── ({0})\n",
      "                └── {0} {1} {2}\n",
      "                    ├── ({0})\n",
      "                    │   └── v0\n",
      "                    ├── and\n",
      "                    └── v0\n",
      "\n",
      "if 75 {} else {\n",
      "  print ((v0) and v0);\n",
      "}\n"
     ]
    }
   ],
   "source": [
    "indiv_1_loaded = build_individual_from_file(file_path=file_name)\n",
    "\n",
    "UniqueDotExporter(indiv_1_loaded).to_picture(\"example_programs/individual.png\")\n",
    "print(RenderTree(indiv_1_loaded))\n",
    "print(indiv_1_loaded)"
   ],
   "metadata": {
    "collapsed": false,
    "ExecuteTime": {
     "end_time": "2023-12-20T14:49:55.815955800Z",
     "start_time": "2023-12-20T14:49:55.753785500Z"
    }
   },
   "id": "b9f624ad8ab10a6f"
  }
 ],
 "metadata": {
  "kernelspec": {
   "display_name": "Python 3",
   "language": "python",
   "name": "python3"
  },
  "language_info": {
   "codemirror_mode": {
    "name": "ipython",
    "version": 2
   },
   "file_extension": ".py",
   "mimetype": "text/x-python",
   "name": "python",
   "nbconvert_exporter": "python",
   "pygments_lexer": "ipython2",
   "version": "2.7.6"
  }
 },
 "nbformat": 4,
 "nbformat_minor": 5
}
