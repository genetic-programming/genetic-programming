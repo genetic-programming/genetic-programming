{
 "cells": [
  {
   "cell_type": "code",
   "execution_count": 28,
   "id": "82ad9fdb8b19545b",
   "metadata": {
    "collapsed": true,
    "ExecuteTime": {
     "end_time": "2023-12-06T00:46:30.114425Z",
     "start_time": "2023-12-06T00:46:30.098454500Z"
    }
   },
   "outputs": [],
   "source": [
    "from gp_algorithm.individual import Individual\n",
    "from gp_algorithm.tournament import Tournament\n",
    "from gp_algorithm.utils import random_crossover, save_individual_to_file, build_individual_from_file"
   ]
  },
  {
   "cell_type": "markdown",
   "source": [
    "### Tworzenie osobników"
   ],
   "metadata": {
    "collapsed": false
   },
   "id": "c8eef76da5cb7eb9"
  },
  {
   "cell_type": "code",
   "execution_count": 30,
   "outputs": [
    {
     "name": "stdout",
     "output_type": "stream",
     "text": [
      "while true {\n",
      "  if false {\n",
      "    while true {\n",
      "      \n",
      "    }\n",
      "    print false;\n",
      "  }\n",
      "  if -236 {\n",
      "    \n",
      "  }\n",
      "}\n"
     ]
    }
   ],
   "source": [
    "indiv_1 = Individual(size=5)\n",
    "print(indiv_1.cast_to_str())"
   ],
   "metadata": {
    "collapsed": false,
    "ExecuteTime": {
     "end_time": "2023-12-06T00:46:40.238839100Z",
     "start_time": "2023-12-06T00:46:40.231812Z"
    }
   },
   "id": "b05a6deb9c89731"
  },
  {
   "cell_type": "code",
   "execution_count": 32,
   "outputs": [
    {
     "name": "stdout",
     "output_type": "stream",
     "text": [
      "if \"gpqkoyThzDDtX\" {\n",
      "  v0 = \"yZMVSyfF\";\n",
      "  while \"jmeYgNSjrq\" {\n",
      "    \n",
      "  }\n",
      "  v0;\n",
      "}\n",
      "v1 = read;\n"
     ]
    }
   ],
   "source": [
    "indiv_2 = Individual(size=5)\n",
    "print(indiv_2.cast_to_str())"
   ],
   "metadata": {
    "collapsed": false,
    "ExecuteTime": {
     "end_time": "2023-12-06T00:46:53.228751500Z",
     "start_time": "2023-12-06T00:46:53.212883300Z"
    }
   },
   "id": "d145b99cbd39259d"
  },
  {
   "cell_type": "markdown",
   "source": [
    "### Operacja krzyżowania"
   ],
   "metadata": {
    "collapsed": false
   },
   "id": "ff2bd200569bd498"
  },
  {
   "cell_type": "code",
   "execution_count": 33,
   "outputs": [],
   "source": [
    "random_crossover(indiv_1, indiv_2)"
   ],
   "metadata": {
    "collapsed": false,
    "ExecuteTime": {
     "end_time": "2023-12-06T00:47:01.112518900Z",
     "start_time": "2023-12-06T00:47:01.096878500Z"
    }
   },
   "id": "a6fa0777a68dc8ae"
  },
  {
   "cell_type": "code",
   "execution_count": 10,
   "outputs": [
    {
     "name": "stdout",
     "output_type": "stream",
     "text": [
      "if -829 {\n",
      "  if true {\n",
      "    \n",
      "  }\n",
      "  662;\n",
      "}\n",
      "if \"razMxjCCVdaRa\" {\n",
      "  \n",
      "}\n",
      "v0 = true;\n"
     ]
    }
   ],
   "source": [
    "print(indiv_1.cast_to_str())"
   ],
   "metadata": {
    "collapsed": false,
    "ExecuteTime": {
     "end_time": "2023-12-06T00:12:59.844094800Z",
     "start_time": "2023-12-06T00:12:59.828135200Z"
    }
   },
   "id": "d35e5844fc43e445"
  },
  {
   "cell_type": "code",
   "execution_count": 34,
   "outputs": [
    {
     "name": "stdout",
     "output_type": "stream",
     "text": [
      "if \"gpqkoyThzDDtX\" {\n",
      "  if false {\n",
      "    while true {\n",
      "      \n",
      "    }\n",
      "    print false;\n",
      "  }\n",
      "  if -236 {\n",
      "    \n",
      "  }\n",
      "}\n",
      "v1 = read;\n"
     ]
    }
   ],
   "source": [
    "print(indiv_2.cast_to_str())"
   ],
   "metadata": {
    "collapsed": false,
    "ExecuteTime": {
     "end_time": "2023-12-06T00:47:09.981840800Z",
     "start_time": "2023-12-06T00:47:09.981317400Z"
    }
   },
   "id": "b6a2f6ca8aa50b4f"
  },
  {
   "cell_type": "markdown",
   "source": [
    "### Operacja mutacji"
   ],
   "metadata": {
    "collapsed": false
   },
   "id": "8f5afda9c5c84e6a"
  },
  {
   "cell_type": "code",
   "execution_count": 35,
   "outputs": [
    {
     "name": "stdout",
     "output_type": "stream",
     "text": [
      "while true {\n",
      "  v0 = \"yZMVSyfF\";\n",
      "  while 702 {\n",
      "    \n",
      "  }\n",
      "  v0;\n",
      "}\n"
     ]
    }
   ],
   "source": [
    "indiv_1.mutate()\n",
    "print(indiv_1.cast_to_str())"
   ],
   "metadata": {
    "collapsed": false,
    "ExecuteTime": {
     "end_time": "2023-12-06T00:47:19.783370800Z",
     "start_time": "2023-12-06T00:47:19.780853200Z"
    }
   },
   "id": "cc830558c8b0f4c3"
  },
  {
   "cell_type": "markdown",
   "source": [
    "### Selekcja turniejowa"
   ],
   "metadata": {
    "collapsed": false
   },
   "id": "4a383ff1d2b9ce3c"
  },
  {
   "cell_type": "code",
   "execution_count": 36,
   "outputs": [
    {
     "name": "stdout",
     "output_type": "stream",
     "text": [
      "true;\n",
      "while -741 {\n",
      "  v0 = -948;\n",
      "}\n",
      "print \"gIJDxi\";\n",
      "if -328 {\n",
      "  \n",
      "}\n"
     ]
    }
   ],
   "source": [
    "tournament = Tournament(\n",
    "    fitness_function=lambda _: 1.0,\n",
    "    population=[Individual(size=5) for _ in range(20)],\n",
    "    size=7,\n",
    ")\n",
    "best_individuals = tournament.select()\n",
    "print(best_individuals[0].cast_to_str())"
   ],
   "metadata": {
    "collapsed": false,
    "ExecuteTime": {
     "end_time": "2023-12-06T00:47:26.234421800Z",
     "start_time": "2023-12-06T00:47:26.218788800Z"
    }
   },
   "id": "38c5a15c0a626ac9"
  },
  {
   "cell_type": "code",
   "execution_count": 20,
   "outputs": [],
   "source": [],
   "metadata": {
    "collapsed": false,
    "ExecuteTime": {
     "end_time": "2023-12-05T20:48:03.575267900Z",
     "start_time": "2023-12-05T20:48:03.561171400Z"
    }
   },
   "id": "af61edd270256d80"
  }
 ],
 "metadata": {
  "kernelspec": {
   "display_name": "Python 3",
   "language": "python",
   "name": "python3"
  },
  "language_info": {
   "codemirror_mode": {
    "name": "ipython",
    "version": 2
   },
   "file_extension": ".py",
   "mimetype": "text/x-python",
   "name": "python",
   "nbconvert_exporter": "python",
   "pygments_lexer": "ipython2",
   "version": "2.7.6"
  }
 },
 "nbformat": 4,
 "nbformat_minor": 5
}
